{
 "cells": [
  {
   "cell_type": "markdown",
   "metadata": {},
   "source": [
    "### SA on sentences w/ medication\n",
    "http://textminingonline.com/dive-into-nltk-part-ix-from-text-classification-to-sentiment-analysis"
   ]
  },
  {
   "cell_type": "code",
   "execution_count": 1,
   "metadata": {
    "collapsed": true
   },
   "outputs": [],
   "source": [
    "# Trained with nltk movie_reviews"
   ]
  },
  {
   "cell_type": "code",
   "execution_count": 2,
   "metadata": {
    "collapsed": false
   },
   "outputs": [
    {
     "name": "stderr",
     "output_type": "stream",
     "text": [
      "/Users/elenajia/anaconda/lib/python3.6/site-packages/nltk/twitter/__init__.py:20: UserWarning: The twython library has not been installed. Some functionality from the twitter package will not be available.\n",
      "  warnings.warn(\"The twython library has not been installed. \"\n"
     ]
    }
   ],
   "source": [
    "import nltk\n",
    "from nltk.corpus import movie_reviews\n",
    "from random import shuffle\n",
    "from nltk import tokenize\n",
    "from nltk.tokenize import TweetTokenizer\n",
    "from stop_words import get_stop_words\n",
    "from nltk.stem.porter import PorterStemmer\n",
    "from gensim import corpora, models\n",
    "import pandas as pd\n",
    "import gensim\n",
    "import nltk\n",
    "import numbers\n",
    "from nltk.sentiment.vader import SentimentIntensityAnalyzer\n",
    "\n",
    "tknzr = TweetTokenizer()"
   ]
  },
  {
   "cell_type": "code",
   "execution_count": 3,
   "metadata": {
    "collapsed": true
   },
   "outputs": [],
   "source": [
    "def document_features(document):\n",
    "    document_words = set(document)\n",
    "    features = {}\n",
    "    for word in word_features:\n",
    "        features['contains(%s)' % word] = (word in document_words)\n",
    "    return features"
   ]
  },
  {
   "cell_type": "code",
   "execution_count": 4,
   "metadata": {
    "collapsed": false
   },
   "outputs": [],
   "source": [
    "documents = [(list(movie_reviews.words(fileid)), category) \n",
    "for category in movie_reviews.categories()\n",
    "for fileid in movie_reviews.fileids(category)]"
   ]
  },
  {
   "cell_type": "code",
   "execution_count": 5,
   "metadata": {
    "collapsed": true
   },
   "outputs": [],
   "source": [
    "shuffle(documents)"
   ]
  },
  {
   "cell_type": "code",
   "execution_count": 6,
   "metadata": {
    "collapsed": false
   },
   "outputs": [
    {
     "name": "stdout",
     "output_type": "stream",
     "text": [
      "(['do', 'you', 'want', 'to', 'know', 'the', 'truth', 'about', 'cats', 'and', 'dogs', '?', 'do', 'you', '?', 'well', ',', 'as', 'this', 'movie', 'shows', 'us', ',', 'they', 'make', 'good', 'companions', 'but', 'pale', 'in', 'comparison', 'to', 'the', 'joy', 'and', 'fulfillment', 'romantic', 'relationships', 'can', 'bring', '.', 'unfortunately', ',', 'there', \"'\", 's', 'a', 'giant', 'roadblock', 'set', 'up', 'in', 'our', 'culture', 'that', 'only', 'certain', 'people', 'can', 'get', 'through', 'while', 'the', 'rest', 'of', 'us', 'mill', 'around', 'outside', ',', 'feeling', 'sorry', 'for', 'ourselves', '.', 'a', 'checkpoint', 'beautiful', 'kind', 'of', 'thing', ',', 'and', 'janeane', 'garafolo', \"'\", 's', 'character', 'abby', 'relates', 'to', 'it', 'well', '.', 'like', 'a', 'certain', 'oversized', 'teenage', 'movie', 'critic', ',', 'she', 'is', 'intelligent', 'and', 'has', 'a', 'great', 'sense', 'of', 'humor', 'but', 'strikes', 'out', 'with', 'the', 'opposite', 'sex', 'because', 'she', 'sees', 'herself', 'as', 'physically', 'unattractive', ',', 'and', 'the', 'men', 'seem', 'to', 'be', 'backing', 'her', 'up', 'on', 'that', '.', 'meanwhile', ',', 'her', 'gorgeous', 'neighbor', 'nora', '(', 'uma', 'thurman', '.', '.', '.', 'uma', 'being', 'the', 'only', 'woman', \"'\", 's', 'name', 'worse', 'than', 'nora', ')', 'attracts', 'men', 'like', 'flies', '.', 'as', 'abby', 'tells', 'her', ',', '\"', 'you', 'burp', 'and', 'they', 'think', 'it', \"'\", 's', 'cute', '.', 'you', 'barf', 'and', 'they', 'line', 'up', 'to', 'hold', 'your', 'hair', 'back', '.', '\"', 'but', 'nora', \"'\", 's', 'down', 'on', 'herself', 'for', 'being', 'too', 'shallow', 'and', 'superficial', '.', 'we', 'all', 'have', 'our', 'prwhen', 'a', 'man', 'calls', 'in', 'to', 'veterinarian', 'abby', \"'\", 's', 'talk', 'radio', 'show', 'wanting', 'to', 'know', 'how', 'to', 'get', 'the', 'roller', 'skates', 'off', 'his', 'basset', 'hound', '.', '(', 'oh', 'come', 'on', ',', 'any', 'idiot', 'knows', 'how', 'to', 'handle', 'that', 'problem', '!', ')', 'he', 'likes', 'her', 'personality', 'and', 'professional', 'demeanor', 'and', 'asks', 'to', 'meet', 'her', 'in', 'person', '.', 'abby', ',', 'though', ',', 'knows', 'her', 'body', 'doesn', \"'\", 't', 'match', 'her', 'personality', 'and', 'that', 'she', 'probably', 'won', \"'\", 't', 'have', 'a', 'chance', 'with', 'him', 'once', 'he', 'sees', 'her', '.', 'so', 'she', 'gives', 'him', 'nora', \"'\", 's', 'body', 'description', 'and', 'stands', 'him', 'up', '.', 'nora', 'happens', 'to', 'be', 'in', 'the', 'studio', 'the', 'next', 'day', 'when', 'the', 'dog', 'man', 'comes', 'by', 'and', 'abby', 'asks', 'her', 'for', 'a', 'big', 'favor', '.', 'she', 'goes', 'along', 'with', 'the', 'masquerade', 'and', 'the', 'three', 'of', 'them', 'head', 'out', 'for', 'a', 'night', 'of', 'fun', ',', 'abby', 'assuming', 'the', 'role', 'of', 'a', 'goat', 'cheese', 'farmer', 'named', 'donna', '.', 'the', 'dog', 'man', 'finds', 'out', 'even', 'though', 'this', 'girl', 'is', 'beautiful', ',', 'she', \"'\", 's', 'not', 'quite', 'as', 'intellectual', 'or', 'confident', 'about', 'herself', 'in', 'person', ',', 'but', 'he', 'doesn', \"'\", 't', 'suspect', 'anything', ',', 'realizing', 'he', \"'\", 's', 'not', 'living', 'in', 'a', '\"', 'three', \"'\", 's', 'company', '\"', 'episode', '.', 'the', 'charade', 'continues', ',', 'with', 'abby', 'furthering', 'the', 'relationship', 'over', 'the', 'phone', '(', 'including', 'a', 'decidedly', 'unnecessary', 'phone', 'sex', '/', 'masturbation', 'sequence', ')', 'and', 'nora', 'furthering', 'it', 'in', 'person', ',', 'while', 'eventually', 'finding', 'herself', 'attracted', 'to', 'the', 'dog', 'man', '.', 'like', 'sleepless', 'in', 'seattle', ',', 'this', 'comedy', '/', 'romance', 'is', 'predictable', 'all', 'the', 'way', 'through', ',', 'but', 'we', 'care', 'enough', 'about', 'the', 'characters', 'that', 'we', 'root', 'them', 'on', 'and', 'will', 'the', 'romance', 'to', 'blossom', '.', 'the', 'truth', 'about', 'cats', 'and', 'dogs', 'isn', \"'\", 't', 'quite', 'as', 'entertaining', 'as', 'i', 'was', 'expecting', 'it', 'to', 'be', ',', 'but', 'it', 'handles', 'well', 'a', 'theme', 'i', 'could', 'identify', 'with', '.', 'the', 'thing', 'is', ',', 'i', 'find', 'janeane', 'garafolo', 'rather', 'attractive', '.', 'she', \"'\", 's', 'no', 'uma', 'but', 'i', \"'\", 'm', 'sure', 'in', 'real', 'life', 'she', \"'\", 'd', 'have', 'no', 'problems', 'attracting', 'men', '.', 'i', ',', 'on', 'the', 'other', 'hand', ',', 'couldn', \"'\", 't', 'attract', 'a', 'man', 'to', 'save', 'my', 'life', '.', '.', '.', 'and', 'am', 'rather', 'proud', 'of', 'that', 'fact', '.'], 'pos')\n"
     ]
    }
   ],
   "source": [
    "print (documents[0])"
   ]
  },
  {
   "cell_type": "code",
   "execution_count": 7,
   "metadata": {
    "collapsed": false
   },
   "outputs": [
    {
     "data": {
      "text/plain": [
       "2000"
      ]
     },
     "execution_count": 7,
     "metadata": {},
     "output_type": "execute_result"
    }
   ],
   "source": [
    "len(documents)"
   ]
  },
  {
   "cell_type": "code",
   "execution_count": 8,
   "metadata": {
    "collapsed": true
   },
   "outputs": [],
   "source": [
    "all_words = nltk.FreqDist(w.lower() for w in movie_reviews.words())"
   ]
  },
  {
   "cell_type": "code",
   "execution_count": 9,
   "metadata": {
    "collapsed": false
   },
   "outputs": [],
   "source": [
    "# word_features = all_words.keys()[:2000]\n",
    "word_features = list(all_words.keys())[:2000]"
   ]
  },
  {
   "cell_type": "code",
   "execution_count": 10,
   "metadata": {
    "collapsed": false
   },
   "outputs": [],
   "source": [
    "# len(featuresets)"
   ]
  },
  {
   "cell_type": "code",
   "execution_count": 11,
   "metadata": {
    "collapsed": false
   },
   "outputs": [],
   "source": [
    "# print (document_features(movie_reviews.words('pos/cv957_8737.txt')))"
   ]
  },
  {
   "cell_type": "code",
   "execution_count": 12,
   "metadata": {
    "collapsed": false
   },
   "outputs": [],
   "source": [
    "featuresets = [(document_features(d), c) for (d, c) in documents]"
   ]
  },
  {
   "cell_type": "code",
   "execution_count": 13,
   "metadata": {
    "collapsed": true
   },
   "outputs": [],
   "source": [
    "train_set, test_set = featuresets[100:], featuresets[:100]"
   ]
  },
  {
   "cell_type": "code",
   "execution_count": 14,
   "metadata": {
    "collapsed": true
   },
   "outputs": [],
   "source": [
    "# classifier = nltk.NaiveBayesClassifier.train(train_set)\n",
    "\n",
    "full_classifier = nltk.NaiveBayesClassifier.train(featuresets)"
   ]
  },
  {
   "cell_type": "code",
   "execution_count": 15,
   "metadata": {
    "collapsed": false
   },
   "outputs": [
    {
     "name": "stdout",
     "output_type": "stream",
     "text": [
      "0.84\n"
     ]
    }
   ],
   "source": [
    "print (nltk.classify.accuracy(full_classifier, test_set))"
   ]
  },
  {
   "cell_type": "code",
   "execution_count": 16,
   "metadata": {
    "collapsed": false,
    "scrolled": true
   },
   "outputs": [],
   "source": [
    "# classifier.show_most_informative_features(10)"
   ]
  },
  {
   "cell_type": "markdown",
   "metadata": {},
   "source": [
    "### test"
   ]
  },
  {
   "cell_type": "code",
   "execution_count": null,
   "metadata": {
    "collapsed": false
   },
   "outputs": [],
   "source": []
  },
  {
   "cell_type": "code",
   "execution_count": 17,
   "metadata": {
    "collapsed": true
   },
   "outputs": [],
   "source": [
    "df1 = pd.read_csv('schizoph_s_med.csv')"
   ]
  },
  {
   "cell_type": "code",
   "execution_count": 18,
   "metadata": {
    "collapsed": true
   },
   "outputs": [],
   "source": [
    "sent_a = list(df1['med_sentence'].values)"
   ]
  },
  {
   "cell_type": "code",
   "execution_count": 19,
   "metadata": {
    "collapsed": false
   },
   "outputs": [
    {
     "name": "stdout",
     "output_type": "stream",
     "text": [
      "0.573610783636\n",
      "0.487\n",
      "      neg_prob  pos_prob  neg_vader  neu_vader  pos_vader  \\\n",
      "0     0.865800  0.134200      0.000      0.928      0.072   \n",
      "1     0.998554  0.001446      0.043      0.893      0.064   \n",
      "2     0.999773  0.000227      0.000      0.887      0.113   \n",
      "3     0.999609  0.000391      0.054      0.820      0.125   \n",
      "4     0.999526  0.000474      0.000      0.796      0.204   \n",
      "5     0.999967  0.000033      0.000      1.000      0.000   \n",
      "6     0.999509  0.000491      0.000      1.000      0.000   \n",
      "7     0.999928  0.000072      0.167      0.833      0.000   \n",
      "8     0.999823  0.000177      0.000      1.000      0.000   \n",
      "9     0.999947  0.000053      0.000      0.829      0.171   \n",
      "10    0.999839  0.000161      0.000      1.000      0.000   \n",
      "11    0.999078  0.000922      0.096      0.904      0.000   \n",
      "12    0.999732  0.000268      0.000      1.000      0.000   \n",
      "13    0.999830  0.000170      0.079      0.921      0.000   \n",
      "14    0.999919  0.000081      0.000      0.870      0.130   \n",
      "15    0.988207  0.011793      0.000      0.943      0.057   \n",
      "16    0.999606  0.000394      0.178      0.822      0.000   \n",
      "17    0.999970  0.000030      0.375      0.625      0.000   \n",
      "18    0.992322  0.007678      0.137      0.798      0.064   \n",
      "19    0.999969  0.000031      0.000      0.745      0.255   \n",
      "20    0.999959  0.000041      0.223      0.777      0.000   \n",
      "21    0.999965  0.000035      0.000      1.000      0.000   \n",
      "22    0.995796  0.004204      0.111      0.794      0.095   \n",
      "23    0.999745  0.000255      0.000      1.000      0.000   \n",
      "24    0.999537  0.000463      0.000      0.681      0.319   \n",
      "25    0.999949  0.000051      0.423      0.577      0.000   \n",
      "26    0.998764  0.001236      0.060      0.940      0.000   \n",
      "27    0.999918  0.000082      0.399      0.601      0.000   \n",
      "28    0.999972  0.000028      0.000      1.000      0.000   \n",
      "29    0.999889  0.000111      0.083      0.784      0.132   \n",
      "...        ...       ...        ...        ...        ...   \n",
      "1683  0.999926  0.000074      0.251      0.749      0.000   \n",
      "1684  0.999608  0.000392      0.000      1.000      0.000   \n",
      "1685  0.993434  0.006566      0.147      0.853      0.000   \n",
      "1686  0.999956  0.000044      0.000      0.825      0.175   \n",
      "1687  0.940292  0.059708      0.064      0.880      0.056   \n",
      "1688  0.999532  0.000468      0.000      1.000      0.000   \n",
      "1689  0.999955  0.000045      0.000      0.771      0.229   \n",
      "1690  0.999698  0.000302      0.125      0.634      0.241   \n",
      "1691  0.999941  0.000059      0.000      1.000      0.000   \n",
      "1692  0.999957  0.000043      0.000      0.828      0.172   \n",
      "1693  0.999778  0.000222      0.124      0.876      0.000   \n",
      "1694  0.997746  0.002254      0.000      0.716      0.284   \n",
      "1695  0.999788  0.000212      0.000      0.833      0.167   \n",
      "1696  0.995641  0.004359      0.264      0.736      0.000   \n",
      "1697  0.999597  0.000403      0.064      0.737      0.199   \n",
      "1698  0.999961  0.000039      0.000      1.000      0.000   \n",
      "1699  0.999944  0.000056      0.131      0.869      0.000   \n",
      "1700  0.999367  0.000633      0.000      0.784      0.216   \n",
      "1701  0.999985  0.000015      0.000      0.739      0.261   \n",
      "1702  0.999720  0.000280      0.000      1.000      0.000   \n",
      "1703  0.999931  0.000069      0.000      0.873      0.127   \n",
      "1704  0.994271  0.005729      0.000      1.000      0.000   \n",
      "1705  0.993619  0.006381      0.000      0.665      0.335   \n",
      "1706  0.999937  0.000063      0.185      0.815      0.000   \n",
      "1707  0.999951  0.000049      0.000      1.000      0.000   \n",
      "1708  0.999950  0.000050      0.104      0.732      0.165   \n",
      "1709  0.999986  0.000014      0.091      0.909      0.000   \n",
      "1710  0.999338  0.000662      0.221      0.779      0.000   \n",
      "1711  0.999979  0.000021      0.000      1.000      0.000   \n",
      "1712  0.426389  0.573611      0.146      0.827      0.027   \n",
      "\n",
      "                                               sentence  \n",
      "0     There are quite a few messages in the movie, b...  \n",
      "1     Now I'm not saying that you should stop meds a...  \n",
      "2     I've been lucky enough to have a doctor that's...  \n",
      "3     I guess this post is trying to impart 3 wisdom...  \n",
      "4     I feel like this life that I'm doing well in i...  \n",
      "5                                   The meds interfere.  \n",
      "6     I am possibly moving back with my mom in a mon...  \n",
      "7        Why do we get these feelings of stopping meds?  \n",
      "8     Every time I'm in control of my medication I g...  \n",
      "9     I don't plan on stopping meds, I don't think I...  \n",
      "10    She has taken several medications (Invega, Ris...  \n",
      "11    The medicine keeps her from screaming all hour...  \n",
      "12    I wonder if she will always be this way or if ...  \n",
      "13    My question is... do you think it's possible t...  \n",
      "14    Also, I have not been taking my medication so ...  \n",
      "15    Here you have a class of people who a lot of t...  \n",
      "16    My worry is that he is not on medication, but ...  \n",
      "17    I started my meds today and all I felt today w...  \n",
      "18    They are scary and I see things and hear thing...  \n",
      "19    God I just can't keep taking these fucking med...  \n",
      "20     The meds are working and I'm isolated from them.  \n",
      "21                                The meds are working.  \n",
      "22    When the meds that the government gives me to ...  \n",
      "23    I need to do something but the medications are...  \n",
      "24    I want to write about ideal worlds but I find ...  \n",
      "25                       Should I stop the medications?  \n",
      "26    I do not have psychotic symptoms off the meds,...  \n",
      "27    I do not want to be hospitalized or locked up ...  \n",
      "28    Are they going to lock me up again for not tak...  \n",
      "29    For example, I looked around at mood/sleep tra...  \n",
      "...                                                 ...  \n",
      "1683  she wont get diagnosed, is not on medication b...  \n",
      "1684  The patient was willing to go, partly because ...  \n",
      "1685  Long story short, my mother is affected by sch...  \n",
      "1686  I, alongside my father, think she would be hap...  \n",
      "1687  I learned that my mom has struggled with takin...  \n",
      "1688  Recently, I found out from my dad that she has...  \n",
      "1689  I want her to be happy and healthy, but I thin...  \n",
      "1690  I understand that these meds have to have some...  \n",
      "1691  She takes meds but Ive heard shes another pers...  \n",
      "1692  My brother is schizophrenic and my mom refuses...  \n",
      "1693  Hello everyone, I have been reading most of wh...  \n",
      "1694  I know that most of mental disorders are treat...  \n",
      "1695           Do you take any other meds on top of it?  \n",
      "1696  I have been diagnosed with chronic depression ...  \n",
      "1697  I recently got help at a mental hospital and i...  \n",
      "1698  Without insurance, this medication is almost $...  \n",
      "1699  He was put on seroquel, paxil, and another med...  \n",
      "1700  He had a rough couple months getting used to t...  \n",
      "1701  He's taking his meds, he's seeing his psycholo...  \n",
      "1702  Three weeks ago, he finally decided to check h...  \n",
      "1703  He was there for 6 days, they changed his medi...  \n",
      "1704  They've changed his medications (again) and he...  \n",
      "1705  He's so smart and capable and I keep reassurin...  \n",
      "1706  My roommate is currently on medication, but he...  \n",
      "1707  Just wondering about other peoples experiences...  \n",
      "1708  Recently I have gotten back on an SSRI medicat...  \n",
      "1709  Since I have gotten on this particular medicat...  \n",
      "1710  I've been to psychiatrists and psychologists b...  \n",
      "1711                I've been off my meds since Friday.  \n",
      "1712  just constant paranoia, Finally after 4 months...  \n",
      "\n",
      "[1713 rows x 6 columns]\n"
     ]
    }
   ],
   "source": [
    "res_s_dic = []\n",
    "# res_s_dic1 = []\n",
    "\n",
    "df_res_s = pd.DataFrame([])\n",
    "\n",
    "sid = SentimentIntensityAnalyzer()\n",
    "\n",
    "for i, sentence in enumerate(sent_a[:5000]):\n",
    "    test_set = document_features(tknzr.tokenize(sentence))  #TODO: change to tokenize\n",
    "    # res_s_dic1.append(classifier.classify(test_set))\n",
    "    \n",
    "    prob_result = full_classifier.prob_classify(test_set)\n",
    "    \n",
    "    #     dic = {}\n",
    "    #     dic[\"s\"] = sentence\n",
    "    #     dic[\"neg\"] = prob_result.prob(\"neg\")\n",
    "    #     dic[\"pos\"] = prob_result.prob(\"pos\")\n",
    "    \n",
    "    # res_s_dic.append(dic)\n",
    "    df_res_s.loc[i,'neg_prob'] = prob_result.prob(\"neg\")\n",
    "    df_res_s.loc[i,'pos_prob'] = prob_result.prob(\"pos\")\n",
    "    \n",
    "    sid_s = sid.polarity_scores(sentence)\n",
    "    df_res_s.loc[i,'neg_vader'] = sid_s['neg']\n",
    "    df_res_s.loc[i,'neu_vader'] = sid_s['neu']\n",
    "    df_res_s.loc[i,'pos_vader'] = sid_s['pos']\n",
    "    \n",
    "    df_res_s.loc[i,'sentence'] = sentence\n",
    "    \n",
    "# df_res_s[df_res_s['pos_prob'] > .001]['sentence']\n",
    "print(df_res_s['pos_prob'].max())\n",
    "print(df_res_s['pos_vader'].max())\n",
    "df_res_s.to_csv('schizoph_s_med_with_score_first5000.csv')\n",
    "print (df_res_s)"
   ]
  },
  {
   "cell_type": "code",
   "execution_count": 20,
   "metadata": {
    "collapsed": false
   },
   "outputs": [
    {
     "name": "stdout",
     "output_type": "stream",
     "text": [
      "0.9999248550133579 7.51449866528843e-05\n"
     ]
    }
   ],
   "source": [
    "prob_result = full_classifier.prob_classify(document_features(tknzr.tokenize(str('I love it! This is great!!!'))))\n",
    "print(prob_result.prob(\"neg\"), prob_result.prob(\"pos\"))\n"
   ]
  },
  {
   "cell_type": "code",
   "execution_count": 21,
   "metadata": {
    "collapsed": false
   },
   "outputs": [],
   "source": [
    "# df_res_s = pd.DataFrame(res_s_dic)\n",
    "# print (df_res_s)\n",
    "\n",
    "# df_res_s.to_csv('s_med_with_score_first100.csv')"
   ]
  },
  {
   "cell_type": "code",
   "execution_count": 22,
   "metadata": {
    "collapsed": true
   },
   "outputs": [],
   "source": [
    "import seaborn as sns\n",
    "%matplotlib inline\n",
    "sns.set_style(\"whitegrid\")"
   ]
  },
  {
   "cell_type": "code",
   "execution_count": 23,
   "metadata": {
    "collapsed": false
   },
   "outputs": [
    {
     "data": {
      "image/png": "[encoded data removed]",
      "text/plain": [
       "<matplotlib.figure.Figure at 0x11d3287f0>"
      ]
     },
     "metadata": {},
     "output_type": "display_data"
    }
   ],
   "source": [
    "ax = sns.boxplot(data = df_res_s,palette = \"PRGn\")"
   ]
  },
  {
   "cell_type": "markdown",
   "metadata": {
    "collapsed": true
   },
   "source": [
    "#### posts"
   ]
  },
  {
   "cell_type": "code",
   "execution_count": 24,
   "metadata": {
    "collapsed": true
   },
   "outputs": [],
   "source": [
    "df2 = pd.read_csv('schizoph_p_med.csv')"
   ]
  },
  {
   "cell_type": "code",
   "execution_count": 25,
   "metadata": {
    "collapsed": false
   },
   "outputs": [],
   "source": [
    "post_a = list(df2['selftext'].values)"
   ]
  },
  {
   "cell_type": "code",
   "execution_count": 28,
   "metadata": {
    "collapsed": false
   },
   "outputs": [
    {
     "name": "stdout",
     "output_type": "stream",
     "text": [
      "0.999999522373\n",
      "0.293\n",
      "      neg_prob  pos_prob  neg_vader  neu_vader  pos_vader  \\\n",
      "0     0.602990  0.397010      0.032      0.851      0.116   \n",
      "1     0.999911  0.000089      0.137      0.736      0.127   \n",
      "2     0.929579  0.070421      0.034      0.902      0.064   \n",
      "3     0.982595  0.017405      0.119      0.778      0.102   \n",
      "4     0.981372  0.018628      0.132      0.810      0.058   \n",
      "5     0.933363  0.066637      0.125      0.805      0.070   \n",
      "6     0.994349  0.005651      0.223      0.749      0.028   \n",
      "7     0.999307  0.000693      0.144      0.719      0.138   \n",
      "8     0.999924  0.000076      0.153      0.691      0.157   \n",
      "9     0.801874  0.198126      0.139      0.733      0.128   \n",
      "10    0.999878  0.000122      0.025      0.766      0.209   \n",
      "11    0.528284  0.471716      0.116      0.760      0.124   \n",
      "12    0.992800  0.007200      0.048      0.792      0.161   \n",
      "13    0.995033  0.004967      0.061      0.886      0.053   \n",
      "14    0.738495  0.261505      0.103      0.831      0.067   \n",
      "15    0.935589  0.064411      0.000      0.925      0.075   \n",
      "16    0.049705  0.950295      0.087      0.851      0.062   \n",
      "17    0.993511  0.006489      0.137      0.752      0.111   \n",
      "18    0.981339  0.018661      0.165      0.703      0.132   \n",
      "19    0.997048  0.002952      0.054      0.891      0.056   \n",
      "20    0.974392  0.025608      0.063      0.748      0.189   \n",
      "21    0.999734  0.000266      0.198      0.663      0.139   \n",
      "22    0.999948  0.000052      0.048      0.765      0.187   \n",
      "23    0.998010  0.001990      0.163      0.758      0.079   \n",
      "24    0.787348  0.212652      0.117      0.831      0.051   \n",
      "25    0.912974  0.087026      0.043      0.857      0.100   \n",
      "26    0.792367  0.207633      0.157      0.800      0.043   \n",
      "27    0.999470  0.000530      0.068      0.835      0.098   \n",
      "28    0.230003  0.769997      0.095      0.779      0.127   \n",
      "29    0.990890  0.009110      0.160      0.764      0.075   \n",
      "...        ...       ...        ...        ...        ...   \n",
      "972   0.759113  0.240887      0.042      0.850      0.107   \n",
      "973   0.989236  0.010764      0.068      0.812      0.120   \n",
      "974   0.997201  0.002799      0.257      0.647      0.096   \n",
      "975   0.864860  0.135140      0.132      0.795      0.072   \n",
      "976   0.690060  0.309940      0.063      0.751      0.186   \n",
      "977   0.999908  0.000092      0.024      0.856      0.119   \n",
      "978   0.986406  0.013594      0.137      0.746      0.117   \n",
      "979   0.965745  0.034255      0.000      0.857      0.143   \n",
      "980   0.912799  0.087201      0.134      0.759      0.107   \n",
      "981   0.995107  0.004893      0.038      0.942      0.021   \n",
      "982   0.921714  0.078286      0.179      0.631      0.190   \n",
      "983   0.999995  0.000005      0.185      0.703      0.112   \n",
      "984   0.990736  0.009264      0.000      0.878      0.122   \n",
      "985   0.998701  0.001299      0.173      0.754      0.073   \n",
      "986   0.998778  0.001222      0.056      0.785      0.159   \n",
      "987   0.000215  0.999785      0.083      0.848      0.068   \n",
      "988   0.997760  0.002240      0.103      0.796      0.100   \n",
      "989   0.999976  0.000024      0.048      0.886      0.066   \n",
      "990   0.999349  0.000651      0.029      0.750      0.222   \n",
      "991   0.997678  0.002322      0.000      0.889      0.111   \n",
      "992   0.865894  0.134106      0.127      0.782      0.091   \n",
      "993   0.996474  0.003526      0.027      0.764      0.210   \n",
      "994   0.991654  0.008346      0.035      0.896      0.070   \n",
      "995   0.966527  0.033473      0.112      0.770      0.118   \n",
      "996   0.946280  0.053720      0.180      0.760      0.060   \n",
      "997   0.961819  0.038181      0.000      0.867      0.133   \n",
      "998   0.995397  0.004603      0.104      0.815      0.081   \n",
      "999   0.999172  0.000828      0.111      0.799      0.090   \n",
      "1000  0.999899  0.000101      0.102      0.798      0.100   \n",
      "1001  0.000544  0.999456      0.174      0.739      0.087   \n",
      "\n",
      "                                                   post  \n",
      "0     Garden State is an amazing movie.  Apart from ...  \n",
      "1     I know, I know. I shouldn't. But I feel bad. I...  \n",
      "2     Hi everyone, I'm just looking for some insight...  \n",
      "3     Throwaway. I have Paranoid Schizophrenia. My w...  \n",
      "4     The arial murder suicide by Andreas Lubniz rec...  \n",
      "5     I'm deeply troubled about my former best frien...  \n",
      "6     I started my meds today and all I felt today w...  \n",
      "7     ....and I feel like I'm in hell. I'm getting b...  \n",
      "8     This is the second time I'm posting this week....  \n",
      "9     the doctor thinks I am obsessive. The only obs...  \n",
      "10    So I finally got a smart phone. I was looking ...  \n",
      "11    Before I got sick I was really good in school....  \n",
      "12    So I got this friend with whom I was pretty cl...  \n",
      "13    I'm considering asking the Early Intervention ...  \n",
      "14    So ever since I was born, my dad came up with ...  \n",
      "15    keep these words buried deep within your head ...  \n",
      "16    I’m going to try and give the notable things i...  \n",
      "17    This is going to sound completely insane, plea...  \n",
      "18    I don't enjoy taking my meds because they redu...  \n",
      "19    My psychiatrist is taking me off my antipsycho...  \n",
      "20    Next week I want to have a total reevaluation ...  \n",
      "21    There was a brief moment of perfection for a m...  \n",
      "22    I'm curious to know how you would change your ...  \n",
      "23    Long post warning, please read (not looking fo...  \n",
      "24    (F 19) This always happens when I get a new jo...  \n",
      "25    I realise some of you don't take meds and have...  \n",
      "26    **Backstory:**\\nMy brother in-law is visiting ...  \n",
      "27    I was diagnosed with schizophrenia 8 months ag...  \n",
      "28    This will be semi long so I apologize in advan...  \n",
      "29    Anytime I'm at work and there's nobody else ar...  \n",
      "...                                                 ...  \n",
      "972   My best friend doesn't call nor text neither d...  \n",
      "973   Hey all, I think my medication (Risperidone) i...  \n",
      "974   I'm skipping my meds today. I thought I wouldn...  \n",
      "975   I've been through the system multiple times at...  \n",
      "976   A little backstory. I don't believe it's integ...  \n",
      "977   Perhaps there have been many posts like this; ...  \n",
      "978   I was diagnosed with MDD with psychotic featur...  \n",
      "979   Have any of you had delusions of inventing/dis...  \n",
      "980   At the first part of the year, my son slipped ...  \n",
      "981   I was on Clozapine 100mg. But stopped a day ag...  \n",
      "982   Hi all,\\nMy younger brother has been strugglin...  \n",
      "983   Who knows? No one seems to really know. Ask yo...  \n",
      "984   Apparently this is one of the best meds for ma...  \n",
      "985   my sister hears voices, argues violently with ...  \n",
      "986   Hello there! Glad to see that this is an activ...  \n",
      "987   Long story short, my mother is affected by sch...  \n",
      "988   Im currentky dating a paranoid schizophrenic g...  \n",
      "989   My brother is schizophrenic and my mom refuses...  \n",
      "990   Hello everyone, I have been reading most of wh...  \n",
      "991   I've been on Zyprexa, Wellbutrin, and Ativan f...  \n",
      "992   I've had these voices in my head for a while b...  \n",
      "993   Hello everyone. I recently got help at a menta...  \n",
      "994   I am on 20mg of Olanzapine, and I'm on the gen...  \n",
      "995   This may be long, fair warning.\\n\\nAlmost two ...  \n",
      "996   My roommate is currently on medication, but he...  \n",
      "997   So, I've eventually been prescribed an antipsy...  \n",
      "998   I am a 21 year old college student who has str...  \n",
      "999   I've believed I was schizophrenic for a long t...  \n",
      "1000  I've been off my meds since Friday. I feel lik...  \n",
      "1001  Hey there, I've browsed for a bit, been doing ...  \n",
      "\n",
      "[1002 rows x 6 columns]\n"
     ]
    }
   ],
   "source": [
    "res_p_dic = []\n",
    "\n",
    "df_res_p = pd.DataFrame([])\n",
    "\n",
    "\n",
    "for i, post in enumerate(post_a[:5000]):\n",
    "    \n",
    "    test_set = document_features(tknzr.tokenize(str(post)))  #TODO: change to tokenize\n",
    "    # res_s_dic1.append(classifier.classify(test_set))\n",
    "    \n",
    "    prob_result = full_classifier.prob_classify(test_set)\n",
    "    \n",
    "    #     dic = {}\n",
    "    #     dic[\"s\"] = sentence\n",
    "    #     dic[\"neg\"] = prob_result.prob(\"neg\")\n",
    "    #     dic[\"pos\"] = prob_result.prob(\"pos\")\n",
    "    \n",
    "    # res_s_dic.append(dic)\n",
    "    df_res_p.loc[i,'neg_prob'] = prob_result.prob(\"neg\")\n",
    "    df_res_p.loc[i,'pos_prob'] = prob_result.prob(\"pos\")\n",
    "    \n",
    "    sid_p = sid.polarity_scores(str(post))\n",
    "    df_res_p.loc[i,'neg_vader'] = sid_p['neg']\n",
    "    df_res_p.loc[i,'neu_vader'] = sid_p['neu']\n",
    "    df_res_p.loc[i,'pos_vader'] = sid_p['pos']\n",
    "    \n",
    "    df_res_p.loc[i,'post'] = post\n",
    "    \n",
    "    \n",
    "# df_res_s[df_res_s['pos_prob'] > .001]['sentence']\n",
    "print(df_res_p['pos_prob'].max())\n",
    "print(df_res_p['pos_vader'].max())\n",
    "df_res_p.to_csv('schizoph_p_med_with_score_first5000.csv')\n",
    "print (df_res_p)\n",
    "\n"
   ]
  },
  {
   "cell_type": "code",
   "execution_count": 29,
   "metadata": {
    "collapsed": false
   },
   "outputs": [
    {
     "data": {
      "image/png": "[encoded data removed]",
      "text/plain": [
       "<matplotlib.figure.Figure at 0x11d875eb8>"
      ]
     },
     "metadata": {},
     "output_type": "display_data"
    }
   ],
   "source": [
    "ax_2 = sns.boxplot(data= df_res_p,palette=\"PRGn\")"
   ]
  },
  {
   "cell_type": "code",
   "execution_count": null,
   "metadata": {
    "collapsed": true
   },
   "outputs": [],
   "source": []
  }
 ],
 "metadata": {
  "kernelspec": {
   "display_name": "Python 3",
   "language": "python",
   "name": "python3"
  },
  "language_info": {
   "codemirror_mode": {
    "name": "ipython",
    "version": 3
   },
   "file_extension": ".py",
   "mimetype": "text/x-python",
   "name": "python",
   "nbconvert_exporter": "python",
   "pygments_lexer": "ipython3",
   "version": "3.6.0"
  }
 },
 "nbformat": 4,
 "nbformat_minor": 2
}
