{
 "cells": [
  {
   "cell_type": "markdown",
   "metadata": {},
   "source": [
    "### SA on sentences w/ medication\n",
    "http://textminingonline.com/dive-into-nltk-part-ix-from-text-classification-to-sentiment-analysis"
   ]
  },
  {
   "cell_type": "code",
   "execution_count": 1,
   "metadata": {
    "collapsed": true
   },
   "outputs": [],
   "source": [
    "# Trained with nltk movie_reviews"
   ]
  },
  {
   "cell_type": "code",
   "execution_count": 3,
   "metadata": {
    "collapsed": false
   },
   "outputs": [],
   "source": [
    "import nltk\n",
    "from nltk.corpus import movie_reviews\n",
    "from random import shuffle\n",
    "from nltk import tokenize\n",
    "from nltk.tokenize import TweetTokenizer\n",
    "from stop_words import get_stop_words\n",
    "from nltk.stem.porter import PorterStemmer\n",
    "from gensim import corpora, models\n",
    "import pandas as pd\n",
    "import gensim\n",
    "import nltk\n",
    "import numbers\n",
    "from nltk.sentiment.vader import SentimentIntensityAnalyzer\n",
    "\n",
    "tknzr = TweetTokenizer()"
   ]
  },
  {
   "cell_type": "code",
   "execution_count": 4,
   "metadata": {
    "collapsed": true
   },
   "outputs": [],
   "source": [
    "def document_features(document):\n",
    "    document_words = set(document)\n",
    "    features = {}\n",
    "    for word in word_features:\n",
    "        features['contains(%s)' % word] = (word in document_words)\n",
    "    return features"
   ]
  },
  {
   "cell_type": "code",
   "execution_count": 5,
   "metadata": {
    "collapsed": false
   },
   "outputs": [],
   "source": [
    "documents = [(list(movie_reviews.words(fileid)), category) \n",
    "for category in movie_reviews.categories()\n",
    "for fileid in movie_reviews.fileids(category)]"
   ]
  },
  {
   "cell_type": "code",
   "execution_count": 6,
   "metadata": {
    "collapsed": true
   },
   "outputs": [],
   "source": [
    "shuffle(documents)"
   ]
  },
  {
   "cell_type": "code",
   "execution_count": 7,
   "metadata": {
    "collapsed": false
   },
   "outputs": [
    {
     "name": "stdout",
     "output_type": "stream",
     "text": [
      "(['\"', 'jaws', '\"', 'is', 'a', 'rare', 'film', 'that', 'grabs', 'your', 'attention', 'before', 'it', 'shows', 'you', 'a', 'single', 'image', 'on', 'screen', '.', 'the', 'movie', 'opens', 'with', 'blackness', ',', 'and', 'only', 'distant', ',', 'alien', '-', 'like', 'underwater', 'sounds', '.', 'then', 'it', 'comes', ',', 'the', 'first', 'ominous', 'bars', 'of', 'composer', 'john', 'williams', \"'\", 'now', 'infamous', 'score', '.', 'dah', '-', 'dum', '.', 'from', 'there', ',', 'director', 'steven', 'spielberg', 'wastes', 'no', 'time', ',', 'taking', 'us', 'into', 'the', 'water', 'on', 'a', 'midnight', 'swim', 'with', 'a', 'beautiful', 'girl', 'that', 'turns', 'deadly', '.', 'right', 'away', 'he', 'lets', 'us', 'know', 'how', 'vulnerable', 'we', 'all', 'are', 'floating', 'in', 'the', 'ocean', ',', 'and', 'once', '\"', 'jaws', '\"', 'has', 'attacked', ',', 'it', 'never', 'relinquishes', 'its', 'grip', '.', 'perhaps', 'what', 'is', 'most', 'outstanding', 'about', '\"', 'jaws', '\"', 'is', 'how', 'spielberg', 'builds', 'the', 'movie', '.', 'he', 'works', 'it', 'like', 'a', 'theatrical', 'production', ',', 'with', 'a', 'first', 'act', 'and', 'a', 'second', 'act', '.', 'unlike', 'so', 'many', 'modern', 'filmmakers', ',', 'he', 'has', 'a', 'great', 'deal', 'of', 'restraint', ',', 'and', 'refuses', 'to', 'show', 'us', 'the', 'shark', 'until', 'the', 'middle', 'of', 'the', 'second', 'act', '.', 'until', 'then', ',', 'he', 'merely', 'suggests', 'its', 'presence', 'with', 'creepy', ',', 'subjective', 'underwater', 'shots', 'and', 'williams', \"'\", 'music', '.', 'he', \"'\", 's', 'building', 'the', 'tension', 'bit', 'by', 'bit', ',', 'so', 'when', 'it', 'comes', 'time', 'for', 'the', 'climax', ',', 'the', 'shark', \"'\", 's', 'arrival', 'is', 'truly', 'terrifying', '.', 'he', 'doesn', \"'\", 't', 'let', 'us', 'get', 'bored', 'with', 'the', 'imagery', '.', 'the', 'first', 'act', 'opens', 'with', 'police', 'chief', 'martin', 'brody', '(', 'roy', 'scheider', ')', ',', 'a', 'new', 'york', 'cop', 'who', 'has', 'taken', 'an', 'easy', ',', 'peaceful', 'job', 'running', 'the', 'police', 'station', 'on', 'amity', 'island', ',', 'a', 'fictitious', 'new', 'england', 'resort', 'town', 'where', 'there', 'hasn', \"'\", 't', 'been', 'a', 'murder', 'or', 'a', 'gun', 'fired', 'in', '25', 'years', '.', 'the', 'island', 'is', 'shaken', 'up', 'by', 'several', 'vicious', 'great', 'white', 'shark', 'attacks', 'right', 'before', 'the', 'fourth', 'of', 'july', ',', 'and', 'the', 'mayor', ',', 'larry', 'vaughn', '(', 'murray', 'hamilton', ')', ',', 'doesn', \"'\", 't', 'want', 'to', 'shut', 'down', 'the', 'beaches', 'because', 'the', 'island', 'is', 'reliant', 'on', 'summer', 'tourist', 'money', '.', 'brody', 'is', 'joined', 'by', 'matt', 'hooper', '(', 'richard', 'dreyfuss', ')', ',', 'a', 'young', ',', 'ambitious', 'shark', 'expert', 'from', 'the', 'marine', 'institute', '.', 'hooper', 'is', 'as', 'fascinated', 'by', 'the', 'shark', 'as', 'he', 'is', 'determined', 'to', 'help', 'brody', 'stop', 'it', '--', 'his', 'knowledge', 'about', 'the', 'exact', 'workings', 'of', 'the', 'shark', '(', '\"', 'it', \"'\", 's', 'a', 'perfect', 'engine', ',', 'an', 'eating', 'machine', '\"', ')', 'make', 'it', 'that', 'much', 'more', 'terrifying', '.', 'when', 'vaughn', 'finally', 'relents', ',', 'hooper', 'and', 'brody', 'join', 'a', 'crusty', 'old', 'shark', 'killer', 'named', 'quint', '(', 'robert', 'shaw', ')', 'on', 'his', 'decrepit', 'boat', ',', 'the', 'orca', ',', 'to', 'search', 'for', 'the', 'shark', '.', 'the', 'entire', 'second', 'act', 'takes', 'place', 'on', 'the', 'orca', 'as', 'the', 'three', 'men', 'hunt', 'the', 'shark', ',', 'and', 'inevitably', ',', 'are', 'hunted', 'by', 'it', '.', '\"', 'jaws', '\"', 'is', 'a', 'thriller', 'with', 'a', 'keen', 'sense', 'of', 'humor', 'and', 'an', 'incredible', 'sense', 'of', 'pacing', ',', 'tension', ',', 'and', 'horror', '.', 'it', 'is', 'like', 'ten', 'movies', 'all', 'rolled', 'into', 'one', ',', 'and', 'it', \"'\", 's', 'no', 'wonder', 'it', 'took', 'america', 'by', 'storm', 'in', 'the', 'summer', 'of', '1975', ',', 'taking', 'in', 'enough', 'money', 'to', 'crown', 'it', 'the', 'box', 'office', 'champ', 'of', 'all', 'time', '(', 'until', 'it', 'was', 'unceremoniously', 'dethroned', 'in', '1977', 'by', '\"', 'star', 'wars', '\"', ')', '.', 'even', 'today', ',', 'fascination', 'with', 'this', 'film', 'is', 'on', 'par', 'with', 'hitchcock', \"'\", 's', '\"', 'psycho', ',', '\"', 'and', 'it', 'never', 'seems', 'to', 'age', '.', 'although', 'grand', 'new', 'technology', 'exists', 'that', 'makes', 'the', 'technical', 'sequences', ',', 'including', 'several', 'mechanical', 'sharks', ',', 'obsolete', ',', 'none', 'of', 'it', 'could', 'improve', 'the', 'film', 'because', 'it', 'only', 'would', 'lead', 'to', 'overkill', '.', 'the', 'technical', 'limitations', 'faced', 'by', 'spielberg', 'in', '1975', 'may', 'have', 'actually', 'produced', 'a', 'better', 'film', 'because', 'it', 'forced', 'him', 'to', 'rely', 'on', 'traditional', 'cinematic', 'elements', 'like', 'pacing', ',', 'characterization', ',', 'sharp', 'editing', ',', 'and', 'creative', 'photography', ',', 'instead', 'of', 'simply', 'dousing', 'the', 'audience', 'with', 'digital', 'shark', 'effects', '.', 'scheider', ',', 'dreyfuss', ',', 'and', 'shaw', 'were', 'known', 'actors', 'at', 'the', 'time', '\"', 'jaws', '\"', 'was', 'made', ',', 'but', 'none', 'of', 'them', 'had', 'the', 'draw', 'of', 'a', 'robert', 'redford', 'or', 'paul', 'newman', '.', 'nevertheless', ',', 'this', 'film', 'guaranteed', 'them', 'all', 'successful', 'careers', 'because', 'each', 'gave', 'an', 'outstanding', 'performance', 'and', 'refused', 'to', 'be', 'overshadowed', 'by', 'the', 'shark', '.', 'scheider', 'hits', 'just', 'the', 'right', 'notes', 'as', 'a', 'sympathetic', 'husband', 'and', 'father', 'caught', 'in', 'the', 'political', 'quagmire', 'of', 'doing', 'what', \"'\", 's', 'right', 'and', 'going', 'against', 'the', 'entire', 'town', '.', '\"', 'it', \"'\", 's', 'your', 'first', 'summer', 'here', ',', 'you', 'know', ',', '\"', 'mayor', 'vaughn', 'warns', 'him', '.', 'dreyfuss', ',', 'who', 'had', 'previously', 'been', 'seen', 'in', '\"', 'american', 'graffiti', '\"', '(', '1973', ')', 'and', '\"', 'the', 'apprenticeship', 'of', 'duddy', 'kravitz', '\"', '(', '1974', ')', 'gives', 'a', 'surprisingly', 'mature', ',', 'complex', 'performance', 'for', 'someone', 'who', 'had', 'literally', 'only', 'played', 'kids', 'and', 'teenagers', '.', 'however', ',', 'most', 'outstanding', 'is', 'the', 'gnarled', 'performance', 'by', 'robert', 'shaw', 'as', 'the', 'movie', \"'\", 's', 'captain', 'ahab', ',', 'a', 'performance', 'sorely', 'overlooked', 'by', 'the', 'academy', 'awards', '.', 'bordering', 'of', 'parody', ',', 'shaw', 'plays', 'quint', 'as', 'a', 'grizzled', 'old', 'loner', 'whose', 'machismo', 'borders', 'on', 'masochism', '.', 'he', \"'\", 's', 'slightly', 'deranged', ',', 'and', 'shaw', \"'\", 's', 'performance', 'is', 'almost', 'a', 'caricature', '.', 'however', ',', 'there', 'is', 'one', 'scene', 'late', 'in', 'the', 'film', ',', 'when', 'he', 'and', 'brody', 'and', 'hooper', 'are', 'below', 'deck', 'on', 'the', 'orca', 'comparing', 'scars', '.', 'quint', 'is', 'drawn', 'into', 'telling', 'the', 'story', 'of', 'his', 'experiences', 'aboard', 'the', 'u', '.', 's', '.', 's', '.', 'indianapolis', ',', 'a', 'navy', 'ship', 'in', 'world', 'war', 'ii', 'that', 'was', 'sunk', 'by', 'the', 'japanese', '.', 'his', 'tale', 'of', 'floating', 'in', 'the', 'water', 'for', 'more', 'than', 'a', 'week', 'with', 'over', '1', ',', '000', 'other', 'men', 'while', 'swarms', 'of', 'sharks', 'slowly', 'devoured', 'them', 'them', 'is', 'actually', 'more', 'hair', '-', 'raising', 'than', 'anything', 'spielberg', 'put', 'on', 'screen', '.', 'shaw', 'delivers', 'the', 'story', 'in', 'one', 'long', 'take', ',', 'and', 'it', 'is', 'the', 'best', 'acting', 'in', 'the', 'film', '.', 'of', 'course', ',', 'we', 'can', \"'\", 't', 'leave', 'out', 'the', 'shark', 'itself', ';', 'with', 'its', 'black', 'eyes', ',', 'endless', 'rows', 'of', 'teeth', ',', 'and', 'insatiable', 'urge', 'to', 'eat', ',', 'it', 'is', 'basically', 'the', 'epitome', 'of', 'all', 'mankind', \"'\", 's', 'fears', 'about', 'what', 'is', 'unknown', 'and', 'threatening', 'in', 'nature', '.', 'a', 'shark', 'is', 'such', 'a', 'perfect', 'nemesis', 'it', 'is', 'real', '--', 'having', 'survived', 'sinch', 'the', 'dinosaurs', ',', 'great', 'whites', 'do', 'exist', ',', 'they', 'can', 'be', 'as', 'large', 'as', 'the', 'shark', 'in', '\"', 'jaws', ',', '\"', 'and', 'they', 'are', 'a', 'threat', '.', 'every', 'one', 'of', 'spielberg', \"'\", 's', 'subjective', 'underwater', 'shots', 'makes', 'us', 'feel', 'queasy', 'because', 'lets', 'us', 'see', 'how', 'we', 'look', 'to', 'the', 'shark', ':', 'a', 'bunch', 'of', 'writihing', ',', 'dangling', ',', 'completely', 'unprotected', 'legs', 'just', 'ready', 'to', 'be', 'chomped', 'into', '.', 'the', 'shark', 'in', '\"', 'jaws', '\"', 'was', 'actually', 'a', 'combination', 'of', 'actual', 'footage', 'and', 'five', 'different', 'mechanical', 'sharks', '(', 'all', 'nicknamed', '\"', 'bruce', '\"', 'by', 'the', 'crew', ')', 'built', 'to', 'be', 'shot', 'from', 'different', 'angles', '.', 'many', 'have', 'forgotten', ',', 'but', '\"', 'jaws', '\"', 'was', 'a', 'sort', 'of', 'precursor', 'to', '\"', 'waterworld', '\"', '(', '1995', ')', ',', 'a', 'movie', \"'\", 's', 'who', 'soggy', 'production', 'and', 'cost', 'overruns', 'had', 'universal', 'studios', 'worried', 'about', 'a', 'bomb', '.', 'but', ',', 'as', 'we', 'can', 'see', 'now', ',', 'spielberg', 'overcame', 'all', 'the', 'obstacles', ',', 'and', 'delivered', 'one', 'of', 'the', 'finest', 'primal', 'scare', '-', 'thrillers', 'ever', 'to', 'come', 'out', 'of', 'hollywood', '.'], 'pos')\n"
     ]
    }
   ],
   "source": [
    "print (documents[0])"
   ]
  },
  {
   "cell_type": "code",
   "execution_count": 8,
   "metadata": {
    "collapsed": false
   },
   "outputs": [
    {
     "data": {
      "text/plain": [
       "2000"
      ]
     },
     "execution_count": 8,
     "metadata": {},
     "output_type": "execute_result"
    }
   ],
   "source": [
    "len(documents)"
   ]
  },
  {
   "cell_type": "code",
   "execution_count": 9,
   "metadata": {
    "collapsed": true
   },
   "outputs": [],
   "source": [
    "all_words = nltk.FreqDist(w.lower() for w in movie_reviews.words())"
   ]
  },
  {
   "cell_type": "code",
   "execution_count": 10,
   "metadata": {
    "collapsed": false
   },
   "outputs": [],
   "source": [
    "# word_features = all_words.keys()[:2000]\n",
    "word_features = list(all_words.keys())[:2000]"
   ]
  },
  {
   "cell_type": "code",
   "execution_count": 11,
   "metadata": {
    "collapsed": false
   },
   "outputs": [],
   "source": [
    "# len(featuresets)"
   ]
  },
  {
   "cell_type": "code",
   "execution_count": 12,
   "metadata": {
    "collapsed": false
   },
   "outputs": [],
   "source": [
    "# print (document_features(movie_reviews.words('pos/cv957_8737.txt')))"
   ]
  },
  {
   "cell_type": "code",
   "execution_count": 13,
   "metadata": {
    "collapsed": false
   },
   "outputs": [],
   "source": [
    "featuresets = [(document_features(d), c) for (d, c) in documents]"
   ]
  },
  {
   "cell_type": "code",
   "execution_count": 14,
   "metadata": {
    "collapsed": true
   },
   "outputs": [],
   "source": [
    "train_set, test_set = featuresets[100:], featuresets[:100]"
   ]
  },
  {
   "cell_type": "code",
   "execution_count": 15,
   "metadata": {
    "collapsed": true
   },
   "outputs": [],
   "source": [
    "# classifier = nltk.NaiveBayesClassifier.train(train_set)\n",
    "\n",
    "full_classifier = nltk.NaiveBayesClassifier.train(featuresets)"
   ]
  },
  {
   "cell_type": "code",
   "execution_count": 16,
   "metadata": {
    "collapsed": false
   },
   "outputs": [
    {
     "name": "stdout",
     "output_type": "stream",
     "text": [
      "0.93\n"
     ]
    }
   ],
   "source": [
    "print (nltk.classify.accuracy(full_classifier, test_set))"
   ]
  },
  {
   "cell_type": "code",
   "execution_count": 17,
   "metadata": {
    "collapsed": false,
    "scrolled": true
   },
   "outputs": [],
   "source": [
    "# classifier.show_most_informative_features(10)"
   ]
  },
  {
   "cell_type": "markdown",
   "metadata": {},
   "source": [
    "### test"
   ]
  },
  {
   "cell_type": "code",
   "execution_count": null,
   "metadata": {
    "collapsed": false
   },
   "outputs": [],
   "source": []
  },
  {
   "cell_type": "code",
   "execution_count": 18,
   "metadata": {
    "collapsed": true
   },
   "outputs": [],
   "source": [
    "df1 = pd.read_csv('bipolar_s_med.csv')"
   ]
  },
  {
   "cell_type": "code",
   "execution_count": 19,
   "metadata": {
    "collapsed": true
   },
   "outputs": [],
   "source": [
    "sent_a = list(df1['med_sentence'].values)"
   ]
  },
  {
   "cell_type": "code",
   "execution_count": 20,
   "metadata": {
    "collapsed": false
   },
   "outputs": [
    {
     "name": "stdout",
     "output_type": "stream",
     "text": [
      "0.472985339457\n",
      "0.717\n",
      "      neg_prob  pos_prob  neg_vader  neu_vader  pos_vader  \\\n",
      "0     0.984976  0.015024      0.000      1.000      0.000   \n",
      "1     0.999745  0.000255      0.000      1.000      0.000   \n",
      "2     0.999384  0.000616      0.000      1.000      0.000   \n",
      "3     0.999981  0.000019      0.000      1.000      0.000   \n",
      "4     0.996056  0.003944      0.000      1.000      0.000   \n",
      "5     0.999900  0.000100      0.000      0.878      0.122   \n",
      "6     0.999735  0.000265      0.000      0.874      0.126   \n",
      "7     0.999851  0.000149      0.125      0.875      0.000   \n",
      "8     0.999908  0.000092      0.000      1.000      0.000   \n",
      "9     0.998154  0.001846      0.000      1.000      0.000   \n",
      "10    0.999938  0.000062      0.073      0.809      0.118   \n",
      "11    0.998584  0.001416      0.181      0.713      0.106   \n",
      "12    0.999157  0.000843      0.000      0.923      0.077   \n",
      "13    0.999325  0.000675      0.099      0.755      0.145   \n",
      "14    0.997941  0.002059      0.047      0.866      0.087   \n",
      "15    0.999778  0.000222      0.000      0.733      0.267   \n",
      "16    0.995678  0.004322      0.079      0.921      0.000   \n",
      "17    0.999905  0.000095      0.000      0.963      0.037   \n",
      "18    0.999829  0.000171      0.000      1.000      0.000   \n",
      "19    0.999967  0.000033      0.000      1.000      0.000   \n",
      "20    0.999843  0.000157      0.292      0.708      0.000   \n",
      "21    0.999925  0.000075      0.000      0.760      0.240   \n",
      "22    0.997586  0.002414      0.000      1.000      0.000   \n",
      "23    0.999974  0.000026      0.147      0.853      0.000   \n",
      "24    0.984244  0.015756      0.000      1.000      0.000   \n",
      "25    0.998344  0.001656      0.000      0.896      0.104   \n",
      "26    0.998028  0.001972      0.000      0.924      0.076   \n",
      "27    0.999984  0.000016      0.000      0.690      0.310   \n",
      "28    0.999956  0.000044      0.000      1.000      0.000   \n",
      "29    0.999979  0.000021      0.349      0.546      0.105   \n",
      "...        ...       ...        ...        ...        ...   \n",
      "4970  0.999993  0.000007      0.164      0.836      0.000   \n",
      "4971  0.999444  0.000556      0.000      0.877      0.123   \n",
      "4972  0.998139  0.001861      0.038      0.962      0.000   \n",
      "4973  0.999666  0.000334      0.000      0.720      0.280   \n",
      "4974  0.999154  0.000846      0.000      0.686      0.314   \n",
      "4975  0.995876  0.004124      0.093      0.907      0.000   \n",
      "4976  0.999910  0.000090      0.079      0.667      0.254   \n",
      "4977  0.999988  0.000012      0.778      0.222      0.000   \n",
      "4978  0.997809  0.002191      0.000      1.000      0.000   \n",
      "4979  0.999473  0.000527      0.000      1.000      0.000   \n",
      "4980  0.998173  0.001827      0.189      0.717      0.094   \n",
      "4981  0.999653  0.000347      0.000      0.847      0.153   \n",
      "4982  0.999908  0.000092      0.104      0.485      0.411   \n",
      "4983  0.998754  0.001246      0.107      0.837      0.057   \n",
      "4984  0.999933  0.000067      0.000      0.824      0.176   \n",
      "4985  0.999967  0.000033      0.000      1.000      0.000   \n",
      "4986  0.999575  0.000425      0.046      0.865      0.089   \n",
      "4987  0.999714  0.000286      0.000      0.915      0.085   \n",
      "4988  0.999888  0.000112      0.299      0.701      0.000   \n",
      "4989  0.999976  0.000024      0.000      1.000      0.000   \n",
      "4990  0.999919  0.000081      0.000      1.000      0.000   \n",
      "4991  0.999493  0.000507      0.000      1.000      0.000   \n",
      "4992  0.999896  0.000104      0.000      1.000      0.000   \n",
      "4993  0.999670  0.000330      0.000      1.000      0.000   \n",
      "4994  0.999839  0.000161      0.154      0.704      0.142   \n",
      "4995  0.999899  0.000101      0.114      0.641      0.245   \n",
      "4996  0.999932  0.000068      0.116      0.795      0.089   \n",
      "4997  0.999865  0.000135      0.000      1.000      0.000   \n",
      "4998  0.996493  0.003507      0.000      0.938      0.062   \n",
      "4999  0.998445  0.001555      0.081      0.861      0.058   \n",
      "\n",
      "                                               sentence  \n",
      "0     I've taken Bupropion XL 250mg over a year ago ...  \n",
      "1                    He is on medication 3 times a day.  \n",
      "2     I just got a job today and I'm being readmitte...  \n",
      "3     These episodes could be very extreme so she (t...  \n",
      "4     I keep getting asked what my goal for treatmen...  \n",
      "5     Do they try different meds on you in rapid suc...  \n",
      "6     I have *not* found an acceptable medication re...  \n",
      "7     Now I'm stuck living with my parents, going to...  \n",
      "8     She's on medication, but doesn't always take i...  \n",
      "9                          So I've taken a lot of meds.  \n",
      "10    Only meds that have worked for me so far have ...  \n",
      "11    My dad eventually forced me off the drug becau...  \n",
      "12    I have a mental health nurse that visits me ev...  \n",
      "13    My medications are affordable, I can see a doc...  \n",
      "14    I think giving blood reduced my medications le...  \n",
      "15    So please, if you feel like you are doing grea...  \n",
      "16    After a year of therapy, my therapist has advi...  \n",
      "17    My therapist told me that this pdoc will want ...  \n",
      "18    She said I will only see him once, I will not ...  \n",
      "19                              My meds aren't working.  \n",
      "20    I'm depressed again and the meds aren't workin...  \n",
      "21    I'm 24 I've been on meds for nearly two months...  \n",
      "22    I know I need to talk to a psychiatrist about ...  \n",
      "23    At first we assumed it was just severe chronic...  \n",
      "24    I have seen a variety of doctors, all the medi...  \n",
      "25    I slurred my words today, I don't think that's...  \n",
      "26    He prescribed me some medication that should h...  \n",
      "27                      Does going on meds help at all?  \n",
      "28    I take 3 meds: Lamictal, Wellbutrin, and Seroq...  \n",
      "29    I do know that suddenly stopping these meds wi...  \n",
      "...                                                 ...  \n",
      "4970  NO INSTRUCTIONS on how to take this medicine w...  \n",
      "4971  I wait 2 months paying $30 a scrpt (as well as...  \n",
      "4972  This blows my mind because psychologists are P...  \n",
      "4973  I was very encouraged, he wanted to work with ...  \n",
      "4974  This is a great medicine for me but it doesn't...  \n",
      "4975  I actually had a visit with him and we discuss...  \n",
      "4976  I don't need doctors, nurse practitioners or c...  \n",
      "4977                                      Bad medicine.  \n",
      "4978                 Could it be a side effect of meds?  \n",
      "4979  I'm going back soon for a full assessment and ...  \n",
      "4980  I'm petrified of what will happen to me, what ...  \n",
      "4981  To help us remember when to take our meds, I'v...  \n",
      "4982  Share your successful/ not so successful histo...  \n",
      "4983  A doctor prescribed him Paxil once after a pre...  \n",
      "4984  After some conversation the psychiatrist liste...  \n",
      "4985                      Maybe even other medications.  \n",
      "4986  **TLDR:** Friend has impulsive tendencies, far...  \n",
      "4987  The one time I couldn't afford to pay for my m...  \n",
      "4988  My medications aren't helping me at this point...  \n",
      "4989                              I am already on meds.  \n",
      "4990  I was monitored every two weeks until I crashe...  \n",
      "4991  Then, I came here and I was running out of med...  \n",
      "4992                 Filed prescriptions, got the meds.  \n",
      "4993     I've been on reduced meds for a few weeks now.  \n",
      "4994  Since she's incompetent, but free, I was wonde...  \n",
      "4995  But I wasn't sure if that would be the best me...  \n",
      "4996  It's bad to the point where I have to have sur...  \n",
      "4997       One of those meds was prednisolone (Medrol).  \n",
      "4998  Finally, I decided to read up about the side e...  \n",
      "4999  My doctor didn't mention it to me when she pre...  \n",
      "\n",
      "[5000 rows x 6 columns]\n"
     ]
    }
   ],
   "source": [
    "res_s_dic = []\n",
    "# res_s_dic1 = []\n",
    "\n",
    "df_res_s = pd.DataFrame([])\n",
    "\n",
    "sid = SentimentIntensityAnalyzer()\n",
    "\n",
    "for i, sentence in enumerate(sent_a[:5000]):\n",
    "    test_set = document_features(tknzr.tokenize(sentence))  #TODO: change to tokenize\n",
    "    # res_s_dic1.append(classifier.classify(test_set))\n",
    "    \n",
    "    prob_result = full_classifier.prob_classify(test_set)\n",
    "    \n",
    "    #     dic = {}\n",
    "    #     dic[\"s\"] = sentence\n",
    "    #     dic[\"neg\"] = prob_result.prob(\"neg\")\n",
    "    #     dic[\"pos\"] = prob_result.prob(\"pos\")\n",
    "    \n",
    "    # res_s_dic.append(dic)\n",
    "    df_res_s.loc[i,'neg_prob'] = prob_result.prob(\"neg\")\n",
    "    df_res_s.loc[i,'pos_prob'] = prob_result.prob(\"pos\")\n",
    "    \n",
    "    sid_s = sid.polarity_scores(sentence)\n",
    "    df_res_s.loc[i,'neg_vader'] = sid_s['neg']\n",
    "    df_res_s.loc[i,'neu_vader'] = sid_s['neu']\n",
    "    df_res_s.loc[i,'pos_vader'] = sid_s['pos']\n",
    "    \n",
    "    df_res_s.loc[i,'sentence'] = sentence\n",
    "    \n",
    "# df_res_s[df_res_s['pos_prob'] > .001]['sentence']\n",
    "print(df_res_s['pos_prob'].max())\n",
    "print(df_res_s['pos_vader'].max())\n",
    "df_res_s.to_csv('bipolar_s_med_with_score_first5000.csv')\n",
    "print (df_res_s)"
   ]
  },
  {
   "cell_type": "code",
   "execution_count": 22,
   "metadata": {
    "collapsed": false
   },
   "outputs": [
    {
     "name": "stdout",
     "output_type": "stream",
     "text": [
      "0.9999248550133579 7.51449866528843e-05\n"
     ]
    }
   ],
   "source": [
    "prob_result = full_classifier.prob_classify(document_features(tknzr.tokenize(str('I love it! This is great!!!'))))\n",
    "print(prob_result.prob(\"neg\"), prob_result.prob(\"pos\"))"
   ]
  },
  {
   "cell_type": "code",
   "execution_count": 23,
   "metadata": {
    "collapsed": false
   },
   "outputs": [],
   "source": [
    "# df_res_s = pd.DataFrame(res_s_dic)\n",
    "# print (df_res_s)\n",
    "\n",
    "# df_res_s.to_csv('s_med_with_score_first100.csv')"
   ]
  },
  {
   "cell_type": "code",
   "execution_count": 24,
   "metadata": {
    "collapsed": true
   },
   "outputs": [],
   "source": [
    "import seaborn as sns\n",
    "%matplotlib inline\n",
    "sns.set_style(\"whitegrid\")"
   ]
  },
  {
   "cell_type": "code",
   "execution_count": 25,
   "metadata": {
    "collapsed": false
   },
   "outputs": [
    {
     "data": {
      "image/png": "[encoded data removed]",
      "text/plain": [
       "<matplotlib.figure.Figure at 0x1254849e8>"
      ]
     },
     "metadata": {},
     "output_type": "display_data"
    }
   ],
   "source": [
    "ax = sns.boxplot(data = df_res_s,palette = \"PRGn\")"
   ]
  },
  {
   "cell_type": "markdown",
   "metadata": {
    "collapsed": true
   },
   "source": [
    "#### posts"
   ]
  },
  {
   "cell_type": "code",
   "execution_count": 26,
   "metadata": {
    "collapsed": true
   },
   "outputs": [],
   "source": [
    "df2 = pd.read_csv('bipolar_p_med.csv')"
   ]
  },
  {
   "cell_type": "code",
   "execution_count": 27,
   "metadata": {
    "collapsed": false
   },
   "outputs": [],
   "source": [
    "post_a = list(df2['selftext'].values)"
   ]
  },
  {
   "cell_type": "code",
   "execution_count": 28,
   "metadata": {
    "collapsed": false
   },
   "outputs": [
    {
     "name": "stdout",
     "output_type": "stream",
     "text": [
      "0.999999994683\n",
      "0.539\n",
      "      neg_prob  pos_prob  neg_vader  neu_vader  pos_vader  \\\n",
      "0     0.846326  0.153674      0.101      0.786      0.113   \n",
      "1     0.996557  0.003443      0.078      0.841      0.082   \n",
      "2     0.002570  0.997430      0.083      0.838      0.078   \n",
      "3     0.211912  0.788088      0.124      0.736      0.140   \n",
      "4     0.010471  0.989529      0.117      0.746      0.137   \n",
      "5     0.917864  0.082136      0.199      0.703      0.098   \n",
      "6     0.970178  0.029822      0.141      0.740      0.119   \n",
      "7     0.834821  0.165179      0.162      0.693      0.145   \n",
      "8     0.994367  0.005633      0.121      0.836      0.043   \n",
      "9     0.974387  0.025613      0.130      0.825      0.045   \n",
      "10    0.108517  0.891483      0.123      0.772      0.105   \n",
      "11    0.995038  0.004962      0.114      0.711      0.174   \n",
      "12    0.964215  0.035785      0.091      0.833      0.077   \n",
      "13    0.999946  0.000054      0.092      0.813      0.095   \n",
      "14    0.999030  0.000970      0.180      0.733      0.088   \n",
      "15    0.989401  0.010599      0.068      0.717      0.216   \n",
      "16    0.843266  0.156734      0.091      0.827      0.082   \n",
      "17    0.999889  0.000111      0.122      0.878      0.000   \n",
      "18    0.993246  0.006754      0.053      0.805      0.142   \n",
      "19    0.099845  0.900155      0.106      0.722      0.171   \n",
      "20    0.995679  0.004321      0.063      0.861      0.075   \n",
      "21    0.999626  0.000374      0.131      0.812      0.057   \n",
      "22    0.945034  0.054966      0.110      0.761      0.129   \n",
      "23    0.602867  0.397133      0.104      0.777      0.119   \n",
      "24    0.999359  0.000641      0.082      0.853      0.065   \n",
      "25    0.979041  0.020959      0.024      0.916      0.060   \n",
      "26    0.978433  0.021567      0.142      0.814      0.044   \n",
      "27    0.999934  0.000066      0.195      0.706      0.099   \n",
      "28    0.995105  0.004895      0.232      0.682      0.085   \n",
      "29    0.996513  0.003487      0.136      0.798      0.066   \n",
      "...        ...       ...        ...        ...        ...   \n",
      "4970  0.986933  0.013067      0.097      0.744      0.160   \n",
      "4971  0.999980  0.000020      0.073      0.792      0.135   \n",
      "4972  0.999188  0.000812      0.091      0.854      0.056   \n",
      "4973  0.997157  0.002843      0.115      0.746      0.139   \n",
      "4974  0.999808  0.000192      0.186      0.705      0.108   \n",
      "4975  0.948050  0.051950      0.102      0.735      0.164   \n",
      "4976  0.993261  0.006739      0.204      0.700      0.096   \n",
      "4977  0.956048  0.043952      0.127      0.812      0.061   \n",
      "4978  0.535811  0.464189      0.141      0.697      0.162   \n",
      "4979  0.998843  0.001157      0.333      0.622      0.045   \n",
      "4980  0.999835  0.000165      0.047      0.874      0.079   \n",
      "4981  0.999595  0.000405      0.075      0.814      0.110   \n",
      "4982  0.999929  0.000071      0.209      0.668      0.123   \n",
      "4983  0.988117  0.011883      0.080      0.908      0.013   \n",
      "4984  0.995421  0.004579      0.160      0.687      0.153   \n",
      "4985  0.999744  0.000256      0.110      0.777      0.113   \n",
      "4986  0.999972  0.000028      0.136      0.785      0.079   \n",
      "4987  0.999862  0.000138      0.116      0.884      0.000   \n",
      "4988  0.921863  0.078137      0.120      0.819      0.061   \n",
      "4989  0.997747  0.002253      0.167      0.749      0.084   \n",
      "4990  0.960785  0.039215      0.062      0.863      0.075   \n",
      "4991  0.984151  0.015849      0.017      0.878      0.105   \n",
      "4992  0.993603  0.006397      0.182      0.746      0.071   \n",
      "4993  0.999223  0.000777      0.054      0.792      0.154   \n",
      "4994  0.984942  0.015058      0.141      0.778      0.081   \n",
      "4995  0.426551  0.573449      0.044      0.779      0.177   \n",
      "4996  0.411551  0.588449      0.152      0.760      0.088   \n",
      "4997  0.906670  0.093330      0.154      0.690      0.156   \n",
      "4998  0.971842  0.028158      0.227      0.706      0.066   \n",
      "4999  0.999972  0.000028      0.197      0.675      0.128   \n",
      "\n",
      "                                                   post  \n",
      "0     I currently take Depakote 500mg for rapid cycl...  \n",
      "1     I'm helping a friend babysit her son, who is 1...  \n",
      "2     I'm not even sure what I'm hoping to get out o...  \n",
      "3     Looking for some advice or perhaps just unders...  \n",
      "4     Well here is some background on me http://www....  \n",
      "5     **TL;DR:** I know I need to escalate my treatm...  \n",
      "6     I've been unemployed for the better part of 5 ...  \n",
      "7     She's an... odd girl. I'm not sure how much is...  \n",
      "8     So I've taken a lot of meds.  SSRI's, SNRI's, ...  \n",
      "9     I was so sure I was Bipolar. I speculated unti...  \n",
      "10    Just a quick shout out for all those strugglin...  \n",
      "11    Hey folks,\\n\\nI realized today just how helpfu...  \n",
      "12    Hi All - \\n\\nAs the title of my post says, I a...  \n",
      "13    Guys I can't control myself and I just want to...  \n",
      "14    I'm depressed again and the meds aren't workin...  \n",
      "15    Hello r/bipolar!\\n\\nOver the past few years I'...  \n",
      "16    I've read that this isn't grounds for a Bipola...  \n",
      "17    So I had an appointment with my Pdoc today. I ...  \n",
      "18    I was diagnosed in 2013 at 25. I have seen a v...  \n",
      "19    An open letter to Bipolar Disorder:\\n\\nSince t...  \n",
      "20    Something in another post really struck me.\\n\\...  \n",
      "21    I just moved so I had to switch psychiatrists....  \n",
      "22    I need to move on with my life, move out of my...  \n",
      "23    Hi, I hope it's appropriate for me to post her...  \n",
      "24    I *think* I've developed a facial tic. I say '...  \n",
      "25    Things haven't been well recently. I am on my ...  \n",
      "26    Basically in the next 5-6 years I want to have...  \n",
      "27    This was originally gonna be a reply.\\n\\nWell....  \n",
      "28    I've had ADHD most of my life, and I've manage...  \n",
      "29    So I am hypomanic, been seeing my psychiatrist...  \n",
      "...                                                 ...  \n",
      "4970  Today, I had my first appointment to see if I'...  \n",
      "4971  Well, it's almost full force now I am sure. Th...  \n",
      "4972  I am a 57 year old female diagnosed (finally) ...  \n",
      "4973  A few days ago, I was feeling pretty stable. I...  \n",
      "4974  I've been going to college with undiagnosed bi...  \n",
      "4975  So for the past 9 months I have been prescribe...  \n",
      "4976  I had a manic breakdown yesterday and punched ...  \n",
      "4977  I've been on lamictal, xanax, and antidepressa...  \n",
      "4978  Hi everyone.\\n\\nThis is my first post here wit...  \n",
      "4979  There are so many thoughts in my head right no...  \n",
      "4980  Here is the backstory to my experiences. a yea...  \n",
      "4981  I have both but since adding Seroquel I feel l...  \n",
      "4982  So I'm diagnosed with type two bipolar disorde...  \n",
      "4983  Hello. \\n   My recent PMHNP just prescribed me...  \n",
      "4984  I am finally getting the treatment I need. For...  \n",
      "4985  Two years ago I made a pretty serious attempt ...  \n",
      "4986  I was diagnosed after some really bad episodes...  \n",
      "4987  Luckly I have been on my parents insurance whe...  \n",
      "4988  throwaway:\\n\\nI'm 45, diagnosed bipolar I with...  \n",
      "4989  The other day I was in the psych ward for asse...  \n",
      "4990  I had just gotten diagnosed from a Psychiatris...  \n",
      "4991  So I had an appointment with my psychiatrist t...  \n",
      "4992  I'm in high school and for reasons no one is r...  \n",
      "4993  I'm not smoking weed, I'm not drinking, in fac...  \n",
      "4994  I'm not sure what I wish this post to accompli...  \n",
      "4995  I have a close friend of about 4 years now, an...  \n",
      "4996  I just need to get some stuff out...\\n\\nI've s...  \n",
      "4997  Hey, guys.\\n\\nI am back on lithium, and I feel...  \n",
      "4998  I've been looking on Google and talking to wha...  \n",
      "4999  I just got released from the psychiatric hospi...  \n",
      "\n",
      "[5000 rows x 6 columns]\n"
     ]
    }
   ],
   "source": [
    "res_p_dic = []\n",
    "\n",
    "df_res_p = pd.DataFrame([])\n",
    "\n",
    "\n",
    "for i, post in enumerate(post_a[:5000]):\n",
    "    \n",
    "    test_set = document_features(tknzr.tokenize(str(post)))  #TODO: change to tokenize\n",
    "    # res_s_dic1.append(classifier.classify(test_set))\n",
    "    \n",
    "    prob_result = full_classifier.prob_classify(test_set)\n",
    "    \n",
    "    #     dic = {}\n",
    "    #     dic[\"s\"] = sentence\n",
    "    #     dic[\"neg\"] = prob_result.prob(\"neg\")\n",
    "    #     dic[\"pos\"] = prob_result.prob(\"pos\")\n",
    "    \n",
    "    # res_s_dic.append(dic)\n",
    "    df_res_p.loc[i,'neg_prob'] = prob_result.prob(\"neg\")\n",
    "    df_res_p.loc[i,'pos_prob'] = prob_result.prob(\"pos\")\n",
    "    \n",
    "    sid_p = sid.polarity_scores(str(post))\n",
    "    df_res_p.loc[i,'neg_vader'] = sid_p['neg']\n",
    "    df_res_p.loc[i,'neu_vader'] = sid_p['neu']\n",
    "    df_res_p.loc[i,'pos_vader'] = sid_p['pos']\n",
    "    \n",
    "    df_res_p.loc[i,'post'] = post\n",
    "    \n",
    "    \n",
    "# df_res_s[df_res_s['pos_prob'] > .001]['sentence']\n",
    "print(df_res_p['pos_prob'].max())\n",
    "print(df_res_p['pos_vader'].max())\n",
    "df_res_p.to_csv('bipolar_p_med_with_score_first5000.csv')\n",
    "print (df_res_p)\n",
    "\n"
   ]
  },
  {
   "cell_type": "code",
   "execution_count": 29,
   "metadata": {
    "collapsed": false
   },
   "outputs": [
    {
     "data": {
      "image/png": "[encoded data removed]",
      "text/plain": [
       "<matplotlib.figure.Figure at 0x125848710>"
      ]
     },
     "metadata": {},
     "output_type": "display_data"
    }
   ],
   "source": [
    "ax_2 = sns.boxplot(data= df_res_p,palette=\"PRGn\")"
   ]
  },
  {
   "cell_type": "code",
   "execution_count": null,
   "metadata": {
    "collapsed": true
   },
   "outputs": [],
   "source": []
  }
 ],
 "metadata": {
  "kernelspec": {
   "display_name": "Python 3",
   "language": "python",
   "name": "python3"
  },
  "language_info": {
   "codemirror_mode": {
    "name": "ipython",
    "version": 3
   },
   "file_extension": ".py",
   "mimetype": "text/x-python",
   "name": "python",
   "nbconvert_exporter": "python",
   "pygments_lexer": "ipython3",
   "version": "3.6.0"
  }
 },
 "nbformat": 4,
 "nbformat_minor": 2
}
