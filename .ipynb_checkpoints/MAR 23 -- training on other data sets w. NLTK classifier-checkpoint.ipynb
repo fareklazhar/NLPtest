{
 "cells": [
  {
   "cell_type": "markdown",
   "metadata": {},
   "source": [
    "### SA on sentences w/ medication\n",
    "http://textminingonline.com/dive-into-nltk-part-ix-from-text-classification-to-sentiment-analysis"
   ]
  },
  {
   "cell_type": "code",
   "execution_count": 2,
   "metadata": {
    "collapsed": true
   },
   "outputs": [],
   "source": [
    "# Trained with nltk movie_reviews"
   ]
  },
  {
   "cell_type": "code",
   "execution_count": 12,
   "metadata": {
    "collapsed": false
   },
   "outputs": [],
   "source": [
    "import nltk\n",
    "from nltk.corpus import movie_reviews\n",
    "from random import shuffle\n",
    "from nltk import tokenize\n",
    "from nltk.tokenize import TweetTokenizer\n",
    "from stop_words import get_stop_words\n",
    "from nltk.stem.porter import PorterStemmer\n",
    "from gensim import corpora, models\n",
    "import pandas as pd\n",
    "import gensim\n",
    "import nltk\n",
    "import numbers\n",
    "from nltk.sentiment.vader import SentimentIntensityAnalyzer\n",
    "\n",
    "tknzr = TweetTokenizer()"
   ]
  },
  {
   "cell_type": "code",
   "execution_count": 13,
   "metadata": {
    "collapsed": true
   },
   "outputs": [],
   "source": [
    "def document_features(document):\n",
    "    document_words = set(document)\n",
    "    features = {}\n",
    "    for word in word_features:\n",
    "        features['contains(%s)' % word] = (word in document_words)\n",
    "    return features"
   ]
  },
  {
   "cell_type": "code",
   "execution_count": 14,
   "metadata": {
    "collapsed": false
   },
   "outputs": [],
   "source": [
    "documents = [(list(movie_reviews.words(fileid)), category) \n",
    "for category in movie_reviews.categories()\n",
    "for fileid in movie_reviews.fileids(category)]"
   ]
  },
  {
   "cell_type": "code",
   "execution_count": 15,
   "metadata": {
    "collapsed": true
   },
   "outputs": [],
   "source": [
    "shuffle(documents)"
   ]
  },
  {
   "cell_type": "code",
   "execution_count": 16,
   "metadata": {
    "collapsed": false
   },
   "outputs": [
    {
     "name": "stdout",
     "output_type": "stream",
     "text": [
      "(['when', 'a', 'film', 'is', 'produced', 'on', 'a', 'shoestring', 'budget', 'by', 'a', 'couple', 'of', 'hardworking', 'filmmakers', 'and', 'when', 'it', 'tells', 'the', 'story', 'of', 'a', 'genuine', 'tragedy', ',', 'the', 'easy', 'path', 'for', 'a', 'reviewer', 'who', 'hated', 'the', 'movie', 'is', 'to', 'give', 'it', 'a', 'pass', '.', 'toss', 'out', 'your', 'usual', 'objectivity', ',', 'ignore', 'how', 'many', 'times', 'you', 'checked', 'your', 'watch', 'while', 'viewing', 'it', ',', 'forget', 'how', 'unbearable', 'it', 'was', 'to', 'sit', 'through', ',', 'and', 'find', 'some', 'meaningless', 'way', 'to', 'compliment', 'it', '.', 'this', ',', 'of', 'course', ',', 'will', 'be', 'of', 'no', 'service', 'to', 'your', 'readers', ',', 'but', 'at', 'least', 'you', \"'\", 'll', 'avoid', 'the', 'hate', 'mail', 'from', 'the', 'movie', \"'\", 's', 'fans', '.', 'thus', 'it', 'is', 'with', 'a', 'heavy', 'heart', 'that', 'i', 'review', 'the', 'movie', 'paulina', '(', 'not', 'to', 'be', 'confused', 'with', 'the', 'recent', 'movie', 'paulie', 'about', 'a', 'talking', 'parrot', ')', '.', 'directed', 'by', 'vicky', 'funari', 'as', 'a', 'labor', 'of', 'intense', 'love', '-', 'she', 'spent', 'the', 'last', 'one', 'third', 'of', 'her', 'life', 'on', 'film', '-', 'the', 'movie', 'blends', 'documentary', 'footage', 'with', 'historic', 'and', 'fanciful', 'recreations', 'to', 'relate', 'the', 'bitterly', 'sad', 'and', 'true', 'story', 'of', 'paulina', 'cruz', 'suarez', '.', 'paulina', 'was', 'a', 'maid', 'in', 'vicky', \"'\", 's', 'household', 'when', 'vicky', 'was', 'young', '.', 'i', 'got', 'to', 'learn', 'the', 'film', \"'\", 's', 'background', 'when', 'i', 'attended', 'a', 'screening', 'in', 'which', 'the', 'two', 'women', 'who', 'made', 'it', 'were', 'present', '.', 'for', 'those', 'without', 'such', 'context', ',', 'the', 'reaction', 'to', 'the', 'film', 'may', 'be', 'that', 'it', 'is', 'a', 'parody', 'of', 'a', 'bad', 'indie', 'film', '.', 'the', 'acting', 'is', 'amateurish', ',', 'the', 'story', 'is', 'maudlin', ',', 'and', 'it', 'has', 'all', 'the', 'visual', 'appeal', 'of', 'a', 'bad', 'home', 'movie', '.', 'grainy', 'and', 'overexposed', ',', 'the', 'movie', ',', 'shot', 'on', '16mm', 'film', 'and', 'videotape', ',', 'has', 'little', 'to', 'recommend', 'it', '.', 'confusingly', 'composed', ',', 'the', 'movie', 'jumps', 'about', 'jarringly', 'as', 'it', 'tells', 'its', 'story', '.', 'quite', 'bloody', 'at', 'times', ',', 'the', 'story', ',', 'full', 'of', 'horrific', 'images', ',', 'seems', 'designed', 'to', 'shock', 'and', 'repulse', 'us', '.', 'why', 'else', 'would', 'you', 'include', 'a', 'scene', 'with', 'a', 'completely', 'nude', 'and', 'bloody', '8', '-', 'year', '-', 'old', 'paulina', '?', 'another', 'scene', 'has', 'a', 'teenage', 'paulina', 'being', 'fondled', 'on', 'a', 'bus', 'by', 'the', 'man', 'sitting', 'next', 'to', 'her', '.', 'in', 'retaliation', ',', 'she', 'bites', 'off', 'part', 'of', 'his', 'finger', '.', 'this', 'covers', 'the', 'both', 'of', 'them', 'in', 'a', 'bucket', 'of', 'blood', '.', 'the', 'passengers', 'on', 'the', 'bus', 'then', 'view', 'the', 'girl', 'in', 'their', 'minds', 'as', 'everything', 'from', 'saint', 'to', 'sinner', '.', 'one', ',', 'for', 'example', ',', 'sees', 'her', 'as', 'an', 'aztec', 'priestess', 'holding', 'out', 'a', 'large', 'heart', 'that', 'she', 'had', 'just', 'cut', 'from', 'a', 'body', '.', 'the', 'lugubrious', 'tale', 'has', 'paulina', 'being', 'raped', 'and', 'beaten', '.', 'certainly', 'she', 'had', 'to', 'endure', 'a', 'miserable', 'life', '.', 'but', 'that', 'does', 'not', 'guarantee', 'that', 'a', 'movie', 'about', 'her', 'will', 'necessarily', 'being', 'good', '.', 'i', 'felt', 'trapped', 'in', 'the', 'theater', 'watching', 'it', '.', 'only', 'the', 'opportunity', 'to', 'talk', 'with', 'the', 'filmmakers', 'afterwards', 'made', 'the', 'movie', 'bearable', '.', 'paulina', 'runs', '1', ':', '28', '.', 'the', 'film', 'is', 'in', 'spanish', 'with', 'english', 'subtitles', '.', 'it', 'is', 'not', 'rated', 'but', 'would', 'be', 'an', 'r', 'for', 'violence', 'and', 'nudity', 'and', 'would', 'be', 'acceptable', 'for', 'older', 'teenagers', '.'], 'neg')\n"
     ]
    }
   ],
   "source": [
    "print (documents[0])"
   ]
  },
  {
   "cell_type": "code",
   "execution_count": 17,
   "metadata": {
    "collapsed": false
   },
   "outputs": [
    {
     "data": {
      "text/plain": [
       "2000"
      ]
     },
     "execution_count": 17,
     "metadata": {},
     "output_type": "execute_result"
    }
   ],
   "source": [
    "len(documents)"
   ]
  },
  {
   "cell_type": "code",
   "execution_count": 18,
   "metadata": {
    "collapsed": true
   },
   "outputs": [],
   "source": [
    "all_words = nltk.FreqDist(w.lower() for w in movie_reviews.words())"
   ]
  },
  {
   "cell_type": "code",
   "execution_count": 19,
   "metadata": {
    "collapsed": false
   },
   "outputs": [],
   "source": [
    "# word_features = all_words.keys()[:2000]\n",
    "word_features = list(all_words.keys())[:2000]"
   ]
  },
  {
   "cell_type": "code",
   "execution_count": 20,
   "metadata": {
    "collapsed": false
   },
   "outputs": [],
   "source": [
    "# len(featuresets)"
   ]
  },
  {
   "cell_type": "code",
   "execution_count": 21,
   "metadata": {
    "collapsed": false
   },
   "outputs": [],
   "source": [
    "# print (document_features(movie_reviews.words('pos/cv957_8737.txt')))"
   ]
  },
  {
   "cell_type": "code",
   "execution_count": 22,
   "metadata": {
    "collapsed": false
   },
   "outputs": [],
   "source": [
    "featuresets = [(document_features(d), c) for (d, c) in documents]"
   ]
  },
  {
   "cell_type": "code",
   "execution_count": 23,
   "metadata": {
    "collapsed": true
   },
   "outputs": [],
   "source": [
    "train_set, test_set = featuresets[100:], featuresets[:100]"
   ]
  },
  {
   "cell_type": "code",
   "execution_count": 24,
   "metadata": {
    "collapsed": true
   },
   "outputs": [],
   "source": [
    "# classifier = nltk.NaiveBayesClassifier.train(train_set)\n",
    "\n",
    "full_classifier = nltk.NaiveBayesClassifier.train(featuresets)"
   ]
  },
  {
   "cell_type": "code",
   "execution_count": 25,
   "metadata": {
    "collapsed": false
   },
   "outputs": [
    {
     "name": "stdout",
     "output_type": "stream",
     "text": [
      "0.91\n"
     ]
    }
   ],
   "source": [
    "print (nltk.classify.accuracy(full_classifier, test_set))"
   ]
  },
  {
   "cell_type": "code",
   "execution_count": 26,
   "metadata": {
    "collapsed": false,
    "scrolled": true
   },
   "outputs": [],
   "source": [
    "# classifier.show_most_informative_features(10)"
   ]
  },
  {
   "cell_type": "markdown",
   "metadata": {},
   "source": [
    "### test"
   ]
  },
  {
   "cell_type": "code",
   "execution_count": null,
   "metadata": {
    "collapsed": false
   },
   "outputs": [],
   "source": []
  },
  {
   "cell_type": "code",
   "execution_count": 27,
   "metadata": {
    "collapsed": true
   },
   "outputs": [],
   "source": [
    "df1 = pd.read_csv('s_med.csv')"
   ]
  },
  {
   "cell_type": "code",
   "execution_count": 28,
   "metadata": {
    "collapsed": true
   },
   "outputs": [],
   "source": [
    "sent_a = list(df1['med_sentence'].values)"
   ]
  },
  {
   "cell_type": "code",
   "execution_count": 29,
   "metadata": {
    "collapsed": false
   },
   "outputs": [
    {
     "name": "stdout",
     "output_type": "stream",
     "text": [
      "0.255424235773\n",
      "0.481\n",
      "     neg_prob  pos_prob  neg_vader  neu_vader  pos_vader  \\\n",
      "0    0.999358  0.000642      0.227      0.724      0.049   \n",
      "1    0.999837  0.000163      0.081      0.791      0.128   \n",
      "2    0.999824  0.000176      0.000      0.851      0.149   \n",
      "3    0.999947  0.000053      0.000      1.000      0.000   \n",
      "4    0.996569  0.003431      0.032      0.770      0.198   \n",
      "5    0.999981  0.000019      0.000      1.000      0.000   \n",
      "6    0.999828  0.000172      0.000      0.695      0.305   \n",
      "7    0.999943  0.000057      0.000      0.794      0.206   \n",
      "8    0.999760  0.000240      0.083      0.917      0.000   \n",
      "9    0.999171  0.000829      0.251      0.749      0.000   \n",
      "10   0.999660  0.000340      0.000      1.000      0.000   \n",
      "11   0.999869  0.000131      0.052      0.862      0.086   \n",
      "12   0.998438  0.001562      0.187      0.750      0.063   \n",
      "13   0.999779  0.000221      0.066      0.778      0.156   \n",
      "14   0.999931  0.000069      0.000      0.915      0.085   \n",
      "15   0.999954  0.000046      0.322      0.678      0.000   \n",
      "16   0.999837  0.000163      0.000      1.000      0.000   \n",
      "17   0.999772  0.000228      0.000      0.737      0.263   \n",
      "18   0.999973  0.000027      0.000      1.000      0.000   \n",
      "19   0.999979  0.000021      0.230      0.531      0.239   \n",
      "20   0.999369  0.000631      0.066      0.817      0.117   \n",
      "21   0.999499  0.000501      0.000      1.000      0.000   \n",
      "22   0.999977  0.000023      0.298      0.702      0.000   \n",
      "23   0.999989  0.000011      0.000      0.815      0.185   \n",
      "24   0.999243  0.000757      0.000      0.817      0.183   \n",
      "25   0.999971  0.000029      0.000      1.000      0.000   \n",
      "26   0.999941  0.000059      0.000      1.000      0.000   \n",
      "27   0.999972  0.000028      0.000      1.000      0.000   \n",
      "28   0.996509  0.003491      0.000      0.912      0.088   \n",
      "29   0.999913  0.000087      0.084      0.916      0.000   \n",
      "..        ...       ...        ...        ...        ...   \n",
      "470  0.999750  0.000250      0.000      1.000      0.000   \n",
      "471  0.999103  0.000897      0.000      1.000      0.000   \n",
      "472  0.998661  0.001339      0.000      0.840      0.160   \n",
      "473  0.995118  0.004882      0.108      0.892      0.000   \n",
      "474  0.999039  0.000961      0.201      0.669      0.130   \n",
      "475  0.999812  0.000188      0.137      0.731      0.132   \n",
      "476  0.999994  0.000006      0.109      0.705      0.186   \n",
      "477  0.999979  0.000021      0.206      0.673      0.121   \n",
      "478  0.999797  0.000203      0.203      0.639      0.158   \n",
      "479  0.999850  0.000150      0.000      0.865      0.135   \n",
      "480  0.998859  0.001141      0.000      0.857      0.143   \n",
      "481  0.999986  0.000014      0.000      1.000      0.000   \n",
      "482  0.999934  0.000066      0.175      0.663      0.163   \n",
      "483  0.999881  0.000119      0.046      0.869      0.085   \n",
      "484  0.998022  0.001978      0.162      0.838      0.000   \n",
      "485  0.999854  0.000146      0.100      0.900      0.000   \n",
      "486  0.999964  0.000036      0.000      1.000      0.000   \n",
      "487  0.996502  0.003498      0.000      1.000      0.000   \n",
      "488  0.999857  0.000143      0.000      1.000      0.000   \n",
      "489  0.999951  0.000049      0.000      1.000      0.000   \n",
      "490  0.999819  0.000181      0.000      0.899      0.101   \n",
      "491  0.999955  0.000045      0.410      0.590      0.000   \n",
      "492  0.999996  0.000004      0.000      0.634      0.366   \n",
      "493  0.999279  0.000721      0.000      1.000      0.000   \n",
      "494  0.999945  0.000055      0.466      0.534      0.000   \n",
      "495  0.999949  0.000051      0.050      0.877      0.073   \n",
      "496  0.996610  0.003390      0.206      0.717      0.078   \n",
      "497  0.999787  0.000213      0.194      0.806      0.000   \n",
      "498  0.999921  0.000079      0.000      1.000      0.000   \n",
      "499  0.998927  0.001073      0.000      0.939      0.061   \n",
      "\n",
      "                                              sentence  \n",
      "0    I have a feeling that this will only get worse...  \n",
      "1    I've tried medications but they only made me f...  \n",
      "2    I'm against taking medication after what I had...  \n",
      "3    I see my doctor next week and I don't know wha...  \n",
      "4    A bit of a strange question, I suppose, but he...  \n",
      "5    I'm currently getting off lexapro and I've had...  \n",
      "6    I honestly think the only thing left that woul...  \n",
      "7    How can I make it clear to whoever can actuall...  \n",
      "8    I've always what I'd consider moderate anxiety...  \n",
      "9    I scheduled a GP appointment last week and he ...  \n",
      "10   I can't afford a consular right now or medicat...  \n",
      "11   This last time she asked I explained that I wa...  \n",
      "12   I first went it wanting to treat my anxiety wh...  \n",
      "13   I've put thought into it, and I still want to ...  \n",
      "14   Or should I go back to the doctor and tell him...  \n",
      "15   The medications I've tried are\\n\\nFluoxetine: ...  \n",
      "16   **Actual experiences with meds will be quoted,...  \n",
      "17   Mentally, this medication made me feel like a ...  \n",
      "18   BUT I currently do not take any medication at ...  \n",
      "19   I wish it was something they could treat with ...  \n",
      "20   I do not have depression or anxiety, I have ne...  \n",
      "21   Though recently I heard that some people on an...  \n",
      "22                 Is anxiety manageable without meds?  \n",
      "23   I guess after all this rambling.. my question ...  \n",
      "24   I'm trying to get pregnant and the last thing ...  \n",
      "25   I've gotten myself on some meds for this, and ...  \n",
      "26   Also, how do you approach your doctor for a sp...  \n",
      "27   Hey guys,\\n\\nI just got prescribed new meds Le...  \n",
      "28   But then he goes onto say that it doesn't real...  \n",
      "29   Instead she said that every symptom I've ever ...  \n",
      "..                                                 ...  \n",
      "470  However, I have talked about my therapist abou...  \n",
      "471  The option I was given was the kind of medicat...  \n",
      "472  that's just a guess off the top of my head) an...  \n",
      "473  I'm a student of psychology at university and,...  \n",
      "474  I've also tried 3 daily anxiety meds to no suc...  \n",
      "475  2) For the meds - has anyone found good daily ...  \n",
      "476  I am wondering if anxiety medication could be ...  \n",
      "477  Technically, if I asked him \"I think I have an...  \n",
      "478  I feel the best thing for me is medication bec...  \n",
      "479  Basically the point of this post is to get thi...  \n",
      "480  She is on a lot of medication and not eaten wi...  \n",
      "481               Did you try counseling + medication?  \n",
      "482  I was able to go without any meds and didn't h...  \n",
      "483  i have anxiety as it is (it's normally managea...  \n",
      "484  After 18 years of dealing with panic disorder ...  \n",
      "485  I've posted about it again and again whenever ...  \n",
      "486  But I was just wondering about medication and ...  \n",
      "487  But to give him and *myself* a piece of mind, ...  \n",
      "488  Let me know your past experiences with the med...  \n",
      "489  I have to get some kind of medicine or see som...  \n",
      "490  Found out in my first visit that three meds I ...  \n",
      "491               I don't want to boost my meds again.  \n",
      "492  Thank you if you guys know any medicine can he...  \n",
      "493  What are your views of taking the medication L...  \n",
      "494  I am on medication for depression and have eme...  \n",
      "495  Anxiety medication is the last resort (again),...  \n",
      "496  I was beginning to feel like I'd gone in a kin...  \n",
      "497  I've quickly realized I wasn't any better, the...  \n",
      "498  I need to know that if I'm going to be on medi...  \n",
      "499  I am calling my mothers social worker tomorrow...  \n",
      "\n",
      "[500 rows x 6 columns]\n"
     ]
    }
   ],
   "source": [
    "res_s_dic = []\n",
    "# res_s_dic1 = []\n",
    "\n",
    "df_res_s = pd.DataFrame([])\n",
    "\n",
    "sid = SentimentIntensityAnalyzer()\n",
    "\n",
    "for i, sentence in enumerate(sent_a[:500]):\n",
    "    test_set = document_features(tknzr.tokenize(sentence))  #TODO: change to tokenize\n",
    "    # res_s_dic1.append(classifier.classify(test_set))\n",
    "    \n",
    "    prob_result = full_classifier.prob_classify(test_set)\n",
    "    \n",
    "    #     dic = {}\n",
    "    #     dic[\"s\"] = sentence\n",
    "    #     dic[\"neg\"] = prob_result.prob(\"neg\")\n",
    "    #     dic[\"pos\"] = prob_result.prob(\"pos\")\n",
    "    \n",
    "    # res_s_dic.append(dic)\n",
    "    df_res_s.loc[i,'neg_prob'] = prob_result.prob(\"neg\")\n",
    "    df_res_s.loc[i,'pos_prob'] = prob_result.prob(\"pos\")\n",
    "    \n",
    "    sid_s = sid.polarity_scores(sentence)\n",
    "    df_res_s.loc[i,'neg_vader'] = sid_s['neg']\n",
    "    df_res_s.loc[i,'neu_vader'] = sid_s['neu']\n",
    "    df_res_s.loc[i,'pos_vader'] = sid_s['pos']\n",
    "    \n",
    "    df_res_s.loc[i,'sentence'] = sentence\n",
    "    \n",
    "# df_res_s[df_res_s['pos_prob'] > .001]['sentence']\n",
    "print(df_res_s['pos_prob'].max())\n",
    "print(df_res_s['pos_vader'].max())\n",
    "df_res_s.to_csv('s_med_with_score_first500.csv')\n",
    "print (df_res_s)"
   ]
  },
  {
   "cell_type": "code",
   "execution_count": null,
   "metadata": {
    "collapsed": false
   },
   "outputs": [],
   "source": []
  },
  {
   "cell_type": "code",
   "execution_count": 30,
   "metadata": {
    "collapsed": false
   },
   "outputs": [
    {
     "name": "stdout",
     "output_type": "stream",
     "text": [
      "0.9999248550133579 7.51449866528843e-05\n"
     ]
    }
   ],
   "source": [
    "prob_result = full_classifier.prob_classify(document_features(tknzr.tokenize(str('I love it! This is great!!!'))))\n",
    "print(prob_result.prob(\"neg\"), prob_result.prob(\"pos\"))\n"
   ]
  },
  {
   "cell_type": "code",
   "execution_count": 31,
   "metadata": {
    "collapsed": false
   },
   "outputs": [],
   "source": [
    "# df_res_s = pd.DataFrame(res_s_dic)\n",
    "# print (df_res_s)\n",
    "\n",
    "# df_res_s.to_csv('s_med_with_score_first100.csv')"
   ]
  },
  {
   "cell_type": "code",
   "execution_count": 32,
   "metadata": {
    "collapsed": true
   },
   "outputs": [],
   "source": [
    "import seaborn as sns\n",
    "%matplotlib inline\n",
    "sns.set_style(\"whitegrid\")"
   ]
  },
  {
   "cell_type": "code",
   "execution_count": 33,
   "metadata": {
    "collapsed": false
   },
   "outputs": [
    {
     "data": {
      "image/png": "[encoded data removed]",
      "text/plain": [
       "<matplotlib.figure.Figure at 0x11fdcc278>"
      ]
     },
     "metadata": {},
     "output_type": "display_data"
    }
   ],
   "source": [
    "ax = sns.boxplot(data = df_res_s,palette = \"PRGn\")"
   ]
  },
  {
   "cell_type": "markdown",
   "metadata": {
    "collapsed": true
   },
   "source": [
    "#### posts"
   ]
  },
  {
   "cell_type": "code",
   "execution_count": 34,
   "metadata": {
    "collapsed": true
   },
   "outputs": [],
   "source": [
    "df2 = pd.read_csv('p_med.csv')"
   ]
  },
  {
   "cell_type": "code",
   "execution_count": 35,
   "metadata": {
    "collapsed": false
   },
   "outputs": [],
   "source": [
    "post_a = list(df2['selftext'].values)"
   ]
  },
  {
   "cell_type": "code",
   "execution_count": 42,
   "metadata": {
    "collapsed": false
   },
   "outputs": [
    {
     "name": "stdout",
     "output_type": "stream",
     "text": [
      "0.999356479091\n",
      "0.315\n",
      "     neg_prob      pos_prob  neg_vader  neu_vader  pos_vader  \\\n",
      "0    0.987449  1.255134e-02      0.156      0.771      0.073   \n",
      "1    0.994773  5.226527e-03      0.204      0.708      0.088   \n",
      "2    0.997802  2.198050e-03      0.263      0.688      0.049   \n",
      "3    0.928401  7.159947e-02      0.164      0.730      0.106   \n",
      "4    0.999992  8.001432e-06      0.000      0.950      0.050   \n",
      "5    0.997977  2.022716e-03      0.209      0.754      0.038   \n",
      "6    0.997678  2.322383e-03      0.092      0.808      0.100   \n",
      "7    0.998581  1.418601e-03      0.109      0.696      0.195   \n",
      "8    0.117632  8.823679e-01      0.200      0.714      0.086   \n",
      "9    0.132913  8.670871e-01      0.085      0.786      0.128   \n",
      "10   0.999156  8.437117e-04      0.121      0.808      0.071   \n",
      "11   0.039714  9.602859e-01      0.160      0.723      0.117   \n",
      "12   0.993021  6.978531e-03      0.153      0.787      0.060   \n",
      "13   0.999615  3.846000e-04      0.273      0.596      0.130   \n",
      "14   0.658450  3.415500e-01      0.088      0.856      0.057   \n",
      "15   0.661465  3.385354e-01      0.137      0.775      0.089   \n",
      "16   0.666711  3.332894e-01      0.168      0.719      0.113   \n",
      "17   0.998763  1.236799e-03      0.110      0.817      0.073   \n",
      "18   0.999156  8.444866e-04      0.081      0.778      0.141   \n",
      "19   0.999362  6.384653e-04      0.142      0.795      0.063   \n",
      "20   0.997136  2.864282e-03      0.097      0.753      0.150   \n",
      "21   0.867109  1.328911e-01      0.138      0.743      0.118   \n",
      "22   0.999998  2.144749e-06      0.224      0.671      0.105   \n",
      "23   0.995570  4.429529e-03      0.103      0.818      0.079   \n",
      "24   0.002008  9.979917e-01      0.091      0.818      0.092   \n",
      "25   0.999987  1.280759e-05      0.153      0.743      0.103   \n",
      "26   0.999607  3.931641e-04      0.245      0.663      0.092   \n",
      "27   0.970572  2.942816e-02      0.220      0.702      0.078   \n",
      "28   0.999907  9.254388e-05      0.257      0.617      0.126   \n",
      "29   0.998470  1.529717e-03      0.077      0.832      0.092   \n",
      "..        ...           ...        ...        ...        ...   \n",
      "470  0.953637  4.636308e-02      0.162      0.719      0.119   \n",
      "471  0.998219  1.781479e-03      0.140      0.778      0.082   \n",
      "472  0.880645  1.193550e-01      0.203      0.706      0.090   \n",
      "473  0.996165  3.834797e-03      0.127      0.786      0.086   \n",
      "474  0.799251  2.007494e-01      0.208      0.758      0.033   \n",
      "475  0.524157  4.758427e-01      0.144      0.743      0.113   \n",
      "476  0.999715  2.849056e-04      0.022      0.908      0.071   \n",
      "477  0.998212  1.788176e-03      0.074      0.774      0.152   \n",
      "478  0.992035  7.965237e-03      0.065      0.890      0.045   \n",
      "479  0.994113  5.886529e-03      0.207      0.706      0.087   \n",
      "480  0.997245  2.754564e-03      0.000      0.950      0.050   \n",
      "481  0.999049  9.514529e-04      0.149      0.784      0.068   \n",
      "482  0.989989  1.001061e-02      0.202      0.710      0.088   \n",
      "483  0.894956  1.050437e-01      0.151      0.770      0.079   \n",
      "484  0.833708  1.662922e-01      0.099      0.809      0.092   \n",
      "485  0.999907  9.318660e-05      0.197      0.701      0.102   \n",
      "486  0.997991  2.009008e-03      0.116      0.795      0.089   \n",
      "487  0.999026  9.742905e-04      0.068      0.796      0.136   \n",
      "488  0.994002  5.998233e-03      0.143      0.786      0.071   \n",
      "489  0.995589  4.411160e-03      0.190      0.717      0.093   \n",
      "490  0.999985  1.528068e-05      0.151      0.849      0.000   \n",
      "491  0.999709  2.913315e-04      0.153      0.767      0.080   \n",
      "492  0.999509  4.908300e-04      0.182      0.773      0.045   \n",
      "493  0.993534  6.466025e-03      0.056      0.890      0.054   \n",
      "494  0.967395  3.260456e-02      0.069      0.834      0.097   \n",
      "495  0.999909  9.127734e-05      0.220      0.639      0.141   \n",
      "496  0.667385  3.326148e-01      0.111      0.751      0.137   \n",
      "497  0.953166  4.683416e-02      0.169      0.684      0.147   \n",
      "498  0.985073  1.492674e-02      0.109      0.761      0.130   \n",
      "499  1.000000  3.257665e-07      0.240      0.698      0.062   \n",
      "\n",
      "                                                  post  \n",
      "0    Second day on drugs and it has already started...  \n",
      "1    I'm not sure where to start. I've been lurking...  \n",
      "2    I'm a 23 year old female and I've been battlin...  \n",
      "3    A bit of a strange question, I suppose, but he...  \n",
      "4    Has anyone ever had this experience that nothi...  \n",
      "5    To start, I'm using a throwaway/anonymous acco...  \n",
      "6    I've always what I'd consider moderate anxiety...  \n",
      "7    Hey everyone. I've been lurking here for aroun...  \n",
      "8    I have GAD, I have had many anxieties come and...  \n",
      "9    I have a nearly impossible time saying no to a...  \n",
      "10   I've been working with my doctor over the past...  \n",
      "11   **Actual experiences with meds will be quoted,...  \n",
      "12   I am a 19 year old female diagnosed with a GAD...  \n",
      "13   Have been having difficulty breathing and ches...  \n",
      "14   I do not have depression or anxiety, I have ne...  \n",
      "15   I am in desperate need of some help... and I n...  \n",
      "16   I think I need to pour this out in one place. ...  \n",
      "17   I am in the process of seeing a Psychiatrist a...  \n",
      "18   Hey guys,\\n\\nI just got prescribed new meds Le...  \n",
      "19   This week has just been awful for me anxiety w...  \n",
      "20   Two years ago I started seeing a psychiatrist ...  \n",
      "21   I'll make a long story short. \\n\\nI have Pure ...  \n",
      "22   I really hate doing this but it seems like any...  \n",
      "23   So I finally mustered up the courage to go to ...  \n",
      "24   Hi guys, \\n\\nI've had an acute (but severe) an...  \n",
      "25   I was diagnosed with severe depression and anx...  \n",
      "26   It was fine until I stopped taking my antidepr...  \n",
      "27   I spent my morning in the ER today because I w...  \n",
      "28   So I lied to my girlfriend. I know its wrong. ...  \n",
      "29   Hey guys, I have an issue with anxiety (surpri...  \n",
      "..                                                 ...  \n",
      "470  I was diagnosed with PTSD about 5 years ago. I...  \n",
      "471  Hey All. I'm 30 years old, and have always bee...  \n",
      "472  I have come to the personal conclusion that I ...  \n",
      "473  I was just diagnosed with panic disorder and P...  \n",
      "474  I have been dealing with anxiety and panic att...  \n",
      "475  Hi all - first time post here, long time suffe...  \n",
      "476  I've been going to a local clinic to receive m...  \n",
      "477  So I've done a lot of reading on Anxiety, I wi...  \n",
      "478  I posted yesterday about how I sometimes mista...  \n",
      "479  I just turned 20 years old, female and in coll...  \n",
      "480  I've been seeing a councilor and we've both ag...  \n",
      "481  Baaad anxiety this morning. I'm sure its relat...  \n",
      "482  I have been struggling with crippling anxiety ...  \n",
      "483  As you can tell already, I have recognized tha...  \n",
      "484  These past two weeks or so have been very toug...  \n",
      "485  so I was on Effexor for 8 years. I recently de...  \n",
      "486  Is anyone experience the annoying feeling of n...  \n",
      "487  So I'm on 150mg Effexor once a day and 7.5mg B...  \n",
      "488  I just started a new job about 2 months ago. I...  \n",
      "489  Back story: When I was pregnant with my first ...  \n",
      "490  Im on week two of Zoloft(sever anxiety/insomni...  \n",
      "491  20 year old female here. My anxiety has gotten...  \n",
      "492  Benzos, SNRIs and SSRIs all made me aggressive...  \n",
      "493  So I been on Wellbutrin for over 3 months. My ...  \n",
      "494  I just had my first appointment with a psychia...  \n",
      "495  I'm 17, posted a couple weeks ago about help a...  \n",
      "496  I thought I'd share my experience from last ni...  \n",
      "497  My boyfriend had a panic attack Monday night t...  \n",
      "498  I have had crippling anxiety my whole life. De...  \n",
      "499  I've made countless posts to this site on diff...  \n",
      "\n",
      "[500 rows x 6 columns]\n"
     ]
    }
   ],
   "source": [
    "# res_p_dic = []\n",
    "# res_p_dic1 = []\n",
    "\n",
    "\n",
    "# for p in post_a:\n",
    "#     test_set = document_features(str(p).split())\n",
    "#     # res_s_dic1.append(classifier.classify(test_set))\n",
    "    \n",
    "#     prob_result = classifier.prob_classify(test_set)\n",
    "    \n",
    "#     dic = {}\n",
    "#     dic[\"z_p\"] = p\n",
    "#     dic[\"neg\"] = prob_result.prob(\"neg\")\n",
    "#     dic[\"pos\"] = prob_result.prob(\"pos\")\n",
    "    \n",
    "#     res_p_dic.append(dic)\n",
    "    \n",
    "    \n",
    "# print (res_p_dic)\n",
    "\n",
    "res_p_dic = []\n",
    "# res_s_dic1 = []\n",
    "\n",
    "df_res_p = pd.DataFrame([])\n",
    "\n",
    "sid = SentimentIntensityAnalyzer()\n",
    "\n",
    "for i, post in enumerate(post_a[:500]):\n",
    "    \n",
    "    test_set = document_features(tknzr.tokenize(post))  #TODO: change to tokenize\n",
    "    # res_s_dic1.append(classifier.classify(test_set))\n",
    "    \n",
    "    prob_result = full_classifier.prob_classify(test_set)\n",
    "    \n",
    "    #     dic = {}\n",
    "    #     dic[\"s\"] = sentence\n",
    "    #     dic[\"neg\"] = prob_result.prob(\"neg\")\n",
    "    #     dic[\"pos\"] = prob_result.prob(\"pos\")\n",
    "    \n",
    "    # res_s_dic.append(dic)\n",
    "    df_res_p.loc[i,'neg_prob'] = prob_result.prob(\"neg\")\n",
    "    df_res_p.loc[i,'pos_prob'] = prob_result.prob(\"pos\")\n",
    "    \n",
    "    sid_p = sid.polarity_scores(post)\n",
    "    df_res_p.loc[i,'neg_vader'] = sid_p['neg']\n",
    "    df_res_p.loc[i,'neu_vader'] = sid_p['neu']\n",
    "    df_res_p.loc[i,'pos_vader'] = sid_p['pos']\n",
    "    \n",
    "    df_res_p.loc[i,'post'] = post\n",
    "    \n",
    "    \n",
    "# df_res_s[df_res_s['pos_prob'] > .001]['sentence']\n",
    "print(df_res_p['pos_prob'].max())\n",
    "print(df_res_p['pos_vader'].max())\n",
    "df_res_p.to_csv('p_med_with_score_first500.csv')\n",
    "print (df_res_p)\n",
    "\n"
   ]
  },
  {
   "cell_type": "code",
   "execution_count": 43,
   "metadata": {
    "collapsed": false
   },
   "outputs": [],
   "source": [
    "# df_res_p = pd.DataFrame(res_p_dic)\n",
    "# print (df_res_p)"
   ]
  },
  {
   "cell_type": "code",
   "execution_count": 44,
   "metadata": {
    "collapsed": false
   },
   "outputs": [
    {
     "data": {
      "image/png": "[encoded data removed]",
      "text/plain": [
       "<matplotlib.figure.Figure at 0x11f9907f0>"
      ]
     },
     "metadata": {},
     "output_type": "display_data"
    }
   ],
   "source": [
    "ax_2 = sns.boxplot(data= df_res_p,palette=\"PRGn\")"
   ]
  },
  {
   "cell_type": "code",
   "execution_count": null,
   "metadata": {
    "collapsed": true
   },
   "outputs": [],
   "source": []
  }
 ],
 "metadata": {
  "kernelspec": {
   "display_name": "Python 3",
   "language": "python",
   "name": "python3"
  },
  "language_info": {
   "codemirror_mode": {
    "name": "ipython",
    "version": 3
   },
   "file_extension": ".py",
   "mimetype": "text/x-python",
   "name": "python",
   "nbconvert_exporter": "python",
   "pygments_lexer": "ipython3",
   "version": "3.6.0"
  }
 },
 "nbformat": 4,
 "nbformat_minor": 2
}
