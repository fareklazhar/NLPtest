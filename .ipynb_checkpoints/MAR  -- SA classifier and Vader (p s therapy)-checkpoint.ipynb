{
 "cells": [
  {
   "cell_type": "markdown",
   "metadata": {},
   "source": [
    "### SA on sentences w/ medication\n",
    "http://textminingonline.com/dive-into-nltk-part-ix-from-text-classification-to-sentiment-analysis"
   ]
  },
  {
   "cell_type": "code",
   "execution_count": 1,
   "metadata": {
    "collapsed": true
   },
   "outputs": [],
   "source": [
    "# Trained with nltk movie_reviews"
   ]
  },
  {
   "cell_type": "code",
   "execution_count": 2,
   "metadata": {
    "collapsed": false
   },
   "outputs": [
    {
     "name": "stderr",
     "output_type": "stream",
     "text": [
      "/Users/elenajia/anaconda/lib/python3.6/site-packages/nltk/twitter/__init__.py:20: UserWarning: The twython library has not been installed. Some functionality from the twitter package will not be available.\n",
      "  warnings.warn(\"The twython library has not been installed. \"\n"
     ]
    }
   ],
   "source": [
    "import nltk\n",
    "from nltk.corpus import movie_reviews\n",
    "from random import shuffle\n",
    "from nltk import tokenize\n",
    "from nltk.tokenize import TweetTokenizer\n",
    "from stop_words import get_stop_words\n",
    "from nltk.stem.porter import PorterStemmer\n",
    "from gensim import corpora, models\n",
    "import pandas as pd\n",
    "import gensim\n",
    "import nltk\n",
    "import numbers\n",
    "from nltk.sentiment.vader import SentimentIntensityAnalyzer\n",
    "\n",
    "tknzr = TweetTokenizer()"
   ]
  },
  {
   "cell_type": "code",
   "execution_count": 3,
   "metadata": {
    "collapsed": true
   },
   "outputs": [],
   "source": [
    "def document_features(document):\n",
    "    document_words = set(document)\n",
    "    features = {}\n",
    "    for word in word_features:\n",
    "        features['contains(%s)' % word] = (word in document_words)\n",
    "    return features"
   ]
  },
  {
   "cell_type": "code",
   "execution_count": 4,
   "metadata": {
    "collapsed": false
   },
   "outputs": [],
   "source": [
    "documents = [(list(movie_reviews.words(fileid)), category) \n",
    "for category in movie_reviews.categories()\n",
    "for fileid in movie_reviews.fileids(category)]"
   ]
  },
  {
   "cell_type": "code",
   "execution_count": 5,
   "metadata": {
    "collapsed": true
   },
   "outputs": [],
   "source": [
    "shuffle(documents)"
   ]
  },
  {
   "cell_type": "code",
   "execution_count": 6,
   "metadata": {
    "collapsed": false
   },
   "outputs": [
    {
     "name": "stdout",
     "output_type": "stream",
     "text": [
      "(['by', 'the', 'time', 'dennis', 'quaid', ',', 'the', 'ostensible', 'star', 'of', 'switchback', ',', 'makes', 'his', 'first', 'appearance', 'at', 'about', 'the', '22', '-', 'minute', 'mark', ',', 'you', 'may', 'find', 'yourself', 'wondering', 'why', 'he', 'bothered', '.', 'after', 'all', ',', 'writer', '/', 'director', 'jeb', 'stuart', 'has', 'already', 'set', 'up', 'a', 'fairly', 'promising', 'pair', 'of', 'parallel', 'story', 'lines', '.', 'the', 'first', 'finds', 'amarillo', ',', 'texas', 'sheriff', 'buck', 'olmstead', '(', 'r', '.', 'lee', 'ermey', ')', 'facing', 'a', 'hotly', '-', 'contested', 'election', 'battle', 'just', 'as', 'a', 'brutal', 'double', 'homicide', 'is', 'discovered', 'at', 'a', 'motel', 'in', 'his', 'jurisdiction', '.', 'as', 'olmstead', 'begins', 'his', 'investigation', ',', 'we', 'also', 'meet', 'the', 'two', 'men', 'who', 'come', 'to', 'be', 'our', 'prime', 'suspects', '.', 'lane', 'dixon', '(', 'jared', 'leto', ')', 'is', 'an', 'enigmatic', 'young', 'hitchhiker', ';', 'bob', 'goodall', '(', 'danny', 'glover', ')', 'is', 'the', 'jovial', 'motorist', 'who', 'offers', 'lane', 'a', 'ride', 'from', 'texas', 'to', 'his', 'utah', 'destination', '.', 'all', 'the', 'necessary', 'conflicts', 'seem', 'to', 'be', 'in', 'place', '--', 'the', 'internal', 'struggle', 'of', 'olmstead', 'over', 'the', 'clash', 'between', 'good', 'politics', 'and', 'good', 'police', 'work', ',', 'and', 'the', 'external', 'struggle', 'as', 'one', 'of', 'the', 'two', 'travelers', 'eventually', 'becomes', 'villain', 'to', 'the', 'other', \"'\", 's', 'protagonist', '.', 'but', 'then', 'quaid', 'shows', 'up', 'as', 'grimly', 'determined', 'fbi', 'agent', 'frank', 'lacrosse', '.', 'lacrosse', 'is', 'certain', 'that', 'the', 'amarillo', 'murders', 'are', 'the', 'work', 'of', 'a', 'serial', 'killer', 'he', 'has', 'been', 'tracking', 'for', 'nearly', 'two', 'years', '.', 'he', \"'\", 's', 'not', 'supposed', 'to', 'be', 'tracking', 'him', 'any', 'more', '--', 'according', 'to', 'the', 'bureau', ',', 'they', \"'\", 've', 'got', 'their', 'man', '--', 'but', 'lacrosse', 'has', 'a', 'very', 'important', 'reason', 'for', 'believing', 'otherwise', '.', 'two', 'months', 'earlier', ',', 'lacrosse', \"'\", 's', 'own', 'son', 'was', 'kidnapped', 'by', 'the', 'killer', ',', 'and', 'the', 'boy', 'has', 'yet', 'to', 'turn', 'up', 'anywhere', '.', 'lacrosse', 'knows', 'his', 'killer', \"'\", 's', 'work', ',', 'and', 'he', 'knows', 'that', 'the', 'man', 'is', 'still', 'out', 'there', 'somewhere', 'trying', 'to', 'continue', 'their', 'game', '.', 'it', 'wouldn', \"'\", 't', 'be', 'fair', 'to', 'reduce', 'everything', 'that', \"'\", 's', 'wrong', 'with', 'switchback', 'to', 'quaid', \"'\", 's', 'presence', ',', 'but', 'it', \"'\", 's', 'a', 'pretty', 'good', 'place', 'to', 'start', '.', 'there', \"'\", 's', 'a', 'reason', 'lacrosse', 'feels', 'like', 'an', 'intruder', 'in', 'the', 'narrative', 'instead', 'of', 'its', 'vital', 'center', ':', 'as', 'a', 'dramatic', 'actor', ',', 'dennis', 'quaid', 'possesses', 'exactly', 'one', 'facial', 'expression', 'and', 'one', 'vocal', 'intonation', '.', 'we', 'can', 'tell', 'lacrosse', 'is', 'determined', 'because', 'his', 'face', 'is', 'a', 'perpetual', 'tight', '-', 'jawed', ',', 'sourpuss', 'pucker', ';', 'we', 'can', 'tell', 'he', \"'\", 's', 'grim', 'because', 'every', 'word', 'comes', 'out', 'in', 'an', 'eastwood', '-', 'esque', 'rasp', '.', 'a', 'more', 'flexible', 'performer', 'might', 'have', 'given', 'weight', 'to', 'the', 'character', ',', 'pulling', 'the', 'audience', 'into', 'his', 'haunted', 'intensity', ',', 'making', 'switchback', '_his_', 'film', '.', 'quaid', 'merely', 'looks', 'annoyed', 'and', 'slightly', 'constipated', '.', 'it', \"'\", 's', 'tough', 'to', 'become', 'emotionally', 'invested', 'in', 'a', 'character', \"'\", 's', 'turmoil', 'when', 'it', 'looks', 'like', 'all', 'he', 'really', 'needs', 'is', 'a', 'big', 'bowl', 'of', 'bran', 'flakes', '.', 'even', 'without', 'quaid', ',', 'it', 'doesn', \"'\", 't', 'appear', 'that', 'switchback', 'would', 'have', 'stayed', 'on', 'course', '.', 'the', 'early', 'scenes', 'between', 'leto', 'and', 'glover', 'have', 'a', 'lively', 'energy', ',', 'building', 'our', 'curiosity', 'over', 'which', 'man', '--', 'the', 'taciturn', 'kid', 'or', 'his', 'gregarious', 'benefactor', '--', 'is', 'the', 'real', 'threat', '.', 'unfortunately', ',', 'stuart', 'tips', 'his', 'hand', 'far', 'too', 'early', 'in', 'the', 'game', ',', 'both', 'through', 'the', 'pitch', 'of', 'the', 'individual', 'performances', 'and', 'the', 'facts', 'he', 'chooses', 'to', 'reveal', '.', 'once', 'the', 'mystery', 'of', 'the', 'killer', \"'\", 's', 'identity', 'is', 'dispatched', ',', 'the', 'interaction', 'between', 'leto', 'and', 'glover', 'becomes', 'stale', 'and', 'predictable', '.', 'in', 'fact', ',', '\"', 'stale', 'and', 'predictable', '\"', 'describes', 'the', 'direction', 'that', 'switchback', 'takes', 'in', 'general', ',', 'falling', 'back', 'on', 'far', '-', 'too', '-', 'common', 'hollywood', 'devices', 'like', 'cats', 'jumping', 'out', 'of', 'nowhere', ',', 'a', 'climactic', 'fistfight', 'on', 'board', 'a', 'freight', 'train', ',', 'and', 'edgy', 'law', 'enforcement', 'agents', '.', 'it', \"'\", 's', 'too', 'bad', 'stuart', 'wasn', \"'\", 't', 'willing', 'to', 'spend', 'more', 'time', 'with', 'sheriff', 'olmstead', ',', 'far', 'and', 'away', 'the', 'most', 'interesting', 'and', 'appealing', 'character', 'in', 'the', 'film', '.', 'played', 'with', 'atypical', 'restraint', 'by', 'r', '.', 'lee', 'ermey', ',', 'he', \"'\", 's', 'a', 'wonderful', ',', 'unconventional', 'hero', 'who', 'seems', 'genuinely', 'comfortable', 'accepting', 'the', 'consequences', 'of', 'acting', 'on', 'his', 'convictions', '.', 'a', 'film', 'focusing', 'on', 'the', 'olmstead', 'would', 'have', 'signaled', 'a', 'film', '-', 'maker', 'willing', 'to', 'take', 'a', 'few', 'risks', 'with', 'his', 'casting', 'and', 'story', '-', 'telling', '.', 'instead', ',', 'stuart', 'places', 'his', 'trust', 'in', 'a', '\"', 'name', '\"', 'star', 'who', 'can', \"'\", 't', 'carry', 'the', 'material', '.', 'maybe', 'next', 'time', 'he', \"'\", 'll', 'throw', 'away', 'that', 'one', 'crucial', 'page', 'in', 'the', 'script', ',', 'the', 'one', 'where', 'the', 'grimly', 'determined', 'fbi', 'agent', 'wanders', 'onto', 'the', 'scene', 'to', 'muck', 'up', 'a', 'perfectly', 'good', 'story', '.'], 'neg')\n"
     ]
    }
   ],
   "source": [
    "print (documents[0])"
   ]
  },
  {
   "cell_type": "code",
   "execution_count": 7,
   "metadata": {
    "collapsed": false
   },
   "outputs": [
    {
     "data": {
      "text/plain": [
       "2000"
      ]
     },
     "execution_count": 7,
     "metadata": {},
     "output_type": "execute_result"
    }
   ],
   "source": [
    "len(documents)"
   ]
  },
  {
   "cell_type": "code",
   "execution_count": 8,
   "metadata": {
    "collapsed": true
   },
   "outputs": [],
   "source": [
    "all_words = nltk.FreqDist(w.lower() for w in movie_reviews.words())"
   ]
  },
  {
   "cell_type": "code",
   "execution_count": 9,
   "metadata": {
    "collapsed": false
   },
   "outputs": [],
   "source": [
    "# word_features = all_words.keys()[:2000]\n",
    "word_features = list(all_words.keys())[:2000]"
   ]
  },
  {
   "cell_type": "code",
   "execution_count": 10,
   "metadata": {
    "collapsed": false
   },
   "outputs": [],
   "source": [
    "# len(featuresets)"
   ]
  },
  {
   "cell_type": "code",
   "execution_count": 11,
   "metadata": {
    "collapsed": false
   },
   "outputs": [],
   "source": [
    "# print (document_features(movie_reviews.words('pos/cv957_8737.txt')))"
   ]
  },
  {
   "cell_type": "code",
   "execution_count": 12,
   "metadata": {
    "collapsed": false
   },
   "outputs": [],
   "source": [
    "featuresets = [(document_features(d), c) for (d, c) in documents]"
   ]
  },
  {
   "cell_type": "code",
   "execution_count": 13,
   "metadata": {
    "collapsed": true
   },
   "outputs": [],
   "source": [
    "train_set, test_set = featuresets[100:], featuresets[:100]"
   ]
  },
  {
   "cell_type": "code",
   "execution_count": 14,
   "metadata": {
    "collapsed": true
   },
   "outputs": [],
   "source": [
    "# classifier = nltk.NaiveBayesClassifier.train(train_set)\n",
    "\n",
    "full_classifier = nltk.NaiveBayesClassifier.train(featuresets)"
   ]
  },
  {
   "cell_type": "code",
   "execution_count": 15,
   "metadata": {
    "collapsed": false
   },
   "outputs": [
    {
     "name": "stdout",
     "output_type": "stream",
     "text": [
      "0.9\n"
     ]
    }
   ],
   "source": [
    "print (nltk.classify.accuracy(full_classifier, test_set))"
   ]
  },
  {
   "cell_type": "code",
   "execution_count": 16,
   "metadata": {
    "collapsed": false,
    "scrolled": true
   },
   "outputs": [],
   "source": [
    "# classifier.show_most_informative_features(10)"
   ]
  },
  {
   "cell_type": "markdown",
   "metadata": {},
   "source": [
    "### test"
   ]
  },
  {
   "cell_type": "code",
   "execution_count": null,
   "metadata": {
    "collapsed": false
   },
   "outputs": [],
   "source": []
  },
  {
   "cell_type": "code",
   "execution_count": 17,
   "metadata": {
    "collapsed": true
   },
   "outputs": [],
   "source": [
    "df1 = pd.read_csv('s_thrpy.csv')"
   ]
  },
  {
   "cell_type": "code",
   "execution_count": 19,
   "metadata": {
    "collapsed": false
   },
   "outputs": [
    {
     "data": {
      "text/html": [
       "<div>\n",
       "<table border=\"1\" class=\"dataframe\">\n",
       "  <thead>\n",
       "    <tr style=\"text-align: right;\">\n",
       "      <th></th>\n",
       "      <th>Unnamed: 0</th>\n",
       "      <th>thrpy_sentence</th>\n",
       "    </tr>\n",
       "  </thead>\n",
       "  <tbody>\n",
       "    <tr>\n",
       "      <th>0</th>\n",
       "      <td>0</td>\n",
       "      <td>I have been recently diagnosed and have just s...</td>\n",
       "    </tr>\n",
       "    <tr>\n",
       "      <th>1</th>\n",
       "      <td>1</td>\n",
       "      <td>I am having an issue concerning my therapist.</td>\n",
       "    </tr>\n",
       "    <tr>\n",
       "      <th>2</th>\n",
       "      <td>2</td>\n",
       "      <td>On one hand I feel I should share this informa...</td>\n",
       "    </tr>\n",
       "    <tr>\n",
       "      <th>3</th>\n",
       "      <td>3</td>\n",
       "      <td>I've tried medications but they only made me f...</td>\n",
       "    </tr>\n",
       "    <tr>\n",
       "      <th>4</th>\n",
       "      <td>4</td>\n",
       "      <td>I think I might have social anxiety (but since...</td>\n",
       "    </tr>\n",
       "    <tr>\n",
       "      <th>5</th>\n",
       "      <td>5</td>\n",
       "      <td>I've been through my share of doctors, therapy...</td>\n",
       "    </tr>\n",
       "    <tr>\n",
       "      <th>6</th>\n",
       "      <td>6</td>\n",
       "      <td>I didn't really like going to therapy, I felt ...</td>\n",
       "    </tr>\n",
       "    <tr>\n",
       "      <th>7</th>\n",
       "      <td>7</td>\n",
       "      <td>I've been going to another therapist I kind of...</td>\n",
       "    </tr>\n",
       "    <tr>\n",
       "      <th>8</th>\n",
       "      <td>8</td>\n",
       "      <td>I've talked to my mom about it and she says th...</td>\n",
       "    </tr>\n",
       "    <tr>\n",
       "      <th>9</th>\n",
       "      <td>9</td>\n",
       "      <td>I scheduled a GP appointment last week and he ...</td>\n",
       "    </tr>\n",
       "    <tr>\n",
       "      <th>10</th>\n",
       "      <td>10</td>\n",
       "      <td>My first therapist appt will be next week and ...</td>\n",
       "    </tr>\n",
       "    <tr>\n",
       "      <th>11</th>\n",
       "      <td>11</td>\n",
       "      <td>I've been to therapy, but it didn't help at all.</td>\n",
       "    </tr>\n",
       "    <tr>\n",
       "      <th>12</th>\n",
       "      <td>12</td>\n",
       "      <td>I'm also trying to find work, or at least some...</td>\n",
       "    </tr>\n",
       "    <tr>\n",
       "      <th>13</th>\n",
       "      <td>13</td>\n",
       "      <td>After about the fifth med he said lets just th...</td>\n",
       "    </tr>\n",
       "    <tr>\n",
       "      <th>14</th>\n",
       "      <td>14</td>\n",
       "      <td>Problem being, the area I'm in is extremely un...</td>\n",
       "    </tr>\n",
       "    <tr>\n",
       "      <th>15</th>\n",
       "      <td>15</td>\n",
       "      <td>My doctor refuses to prescribe TCAs or benzos,...</td>\n",
       "    </tr>\n",
       "    <tr>\n",
       "      <th>16</th>\n",
       "      <td>16</td>\n",
       "      <td>This morning I had an intense therapy session,...</td>\n",
       "    </tr>\n",
       "    <tr>\n",
       "      <th>17</th>\n",
       "      <td>17</td>\n",
       "      <td>I'm a high school senior and I'd like to get ...</td>\n",
       "    </tr>\n",
       "    <tr>\n",
       "      <th>18</th>\n",
       "      <td>18</td>\n",
       "      <td>Another option I could take is using a therapi...</td>\n",
       "    </tr>\n",
       "    <tr>\n",
       "      <th>19</th>\n",
       "      <td>19</td>\n",
       "      <td>He told me to get a doctors note but as I have...</td>\n",
       "    </tr>\n",
       "    <tr>\n",
       "      <th>20</th>\n",
       "      <td>20</td>\n",
       "      <td>I don't see how therapy can really help right ...</td>\n",
       "    </tr>\n",
       "    <tr>\n",
       "      <th>21</th>\n",
       "      <td>21</td>\n",
       "      <td>I go to the gym several days a week, see a the...</td>\n",
       "    </tr>\n",
       "    <tr>\n",
       "      <th>22</th>\n",
       "      <td>22</td>\n",
       "      <td>I'll try not to make this a wall of text so le...</td>\n",
       "    </tr>\n",
       "    <tr>\n",
       "      <th>23</th>\n",
       "      <td>23</td>\n",
       "      <td>I will also look into meditation and possibly ...</td>\n",
       "    </tr>\n",
       "    <tr>\n",
       "      <th>24</th>\n",
       "      <td>24</td>\n",
       "      <td>I have to figure out what I want in life and I...</td>\n",
       "    </tr>\n",
       "    <tr>\n",
       "      <th>25</th>\n",
       "      <td>25</td>\n",
       "      <td>So recently I've been thinking about seeing a ...</td>\n",
       "    </tr>\n",
       "    <tr>\n",
       "      <th>26</th>\n",
       "      <td>26</td>\n",
       "      <td>For those that see/have seen a therapist:  \\nW...</td>\n",
       "    </tr>\n",
       "    <tr>\n",
       "      <th>27</th>\n",
       "      <td>27</td>\n",
       "      <td>Is it normal to start therapy without having a...</td>\n",
       "    </tr>\n",
       "    <tr>\n",
       "      <th>28</th>\n",
       "      <td>28</td>\n",
       "      <td>I am taking the 5-HTP and meeting with a thera...</td>\n",
       "    </tr>\n",
       "    <tr>\n",
       "      <th>29</th>\n",
       "      <td>29</td>\n",
       "      <td>The body needs darkness at night just as much ...</td>\n",
       "    </tr>\n",
       "    <tr>\n",
       "      <th>...</th>\n",
       "      <td>...</td>\n",
       "      <td>...</td>\n",
       "    </tr>\n",
       "    <tr>\n",
       "      <th>9747</th>\n",
       "      <td>9747</td>\n",
       "      <td>I saw a therapist once last year, recommended ...</td>\n",
       "    </tr>\n",
       "    <tr>\n",
       "      <th>9748</th>\n",
       "      <td>9748</td>\n",
       "      <td>I'm going to a therapist, who suggested that a...</td>\n",
       "    </tr>\n",
       "    <tr>\n",
       "      <th>9749</th>\n",
       "      <td>9749</td>\n",
       "      <td>My boyfriend is from a country that views goin...</td>\n",
       "    </tr>\n",
       "    <tr>\n",
       "      <th>9750</th>\n",
       "      <td>9750</td>\n",
       "      <td>I just started therapy again 2 weeks ago.</td>\n",
       "    </tr>\n",
       "    <tr>\n",
       "      <th>9751</th>\n",
       "      <td>9751</td>\n",
       "      <td>I was going to the counselor in the free clini...</td>\n",
       "    </tr>\n",
       "    <tr>\n",
       "      <th>9752</th>\n",
       "      <td>9752</td>\n",
       "      <td>Paying for therapy seems like it's stressing m...</td>\n",
       "    </tr>\n",
       "    <tr>\n",
       "      <th>9753</th>\n",
       "      <td>9753</td>\n",
       "      <td>How do you deal with paying for therapy and th...</td>\n",
       "    </tr>\n",
       "    <tr>\n",
       "      <th>9754</th>\n",
       "      <td>9754</td>\n",
       "      <td>He won't read any of the books on depression o...</td>\n",
       "    </tr>\n",
       "    <tr>\n",
       "      <th>9755</th>\n",
       "      <td>9755</td>\n",
       "      <td>I have gone (and still go) to a therapist.</td>\n",
       "    </tr>\n",
       "    <tr>\n",
       "      <th>9756</th>\n",
       "      <td>9756</td>\n",
       "      <td>The app is called Pacifica (thinkpacifica.com)...</td>\n",
       "    </tr>\n",
       "    <tr>\n",
       "      <th>9757</th>\n",
       "      <td>9757</td>\n",
       "      <td>He also said that he had seen a therapist a wh...</td>\n",
       "    </tr>\n",
       "    <tr>\n",
       "      <th>9758</th>\n",
       "      <td>9758</td>\n",
       "      <td>He said he's been continuing to have doubts an...</td>\n",
       "    </tr>\n",
       "    <tr>\n",
       "      <th>9759</th>\n",
       "      <td>9759</td>\n",
       "      <td>I'm making plans to go into therapy to sort ou...</td>\n",
       "    </tr>\n",
       "    <tr>\n",
       "      <th>9760</th>\n",
       "      <td>9760</td>\n",
       "      <td>I had started to see a therapist at my univers...</td>\n",
       "    </tr>\n",
       "    <tr>\n",
       "      <th>9761</th>\n",
       "      <td>9761</td>\n",
       "      <td>I know only my therapist would have the best i...</td>\n",
       "    </tr>\n",
       "    <tr>\n",
       "      <th>9762</th>\n",
       "      <td>9762</td>\n",
       "      <td>I am considering taking them along with my psy...</td>\n",
       "    </tr>\n",
       "    <tr>\n",
       "      <th>9763</th>\n",
       "      <td>9763</td>\n",
       "      <td>I got better at dealing with it after going to...</td>\n",
       "    </tr>\n",
       "    <tr>\n",
       "      <th>9764</th>\n",
       "      <td>9764</td>\n",
       "      <td>Scheduled a follow up appointment for a month ...</td>\n",
       "    </tr>\n",
       "    <tr>\n",
       "      <th>9765</th>\n",
       "      <td>9765</td>\n",
       "      <td>However, my anxious thoughts turn every little...</td>\n",
       "    </tr>\n",
       "    <tr>\n",
       "      <th>9766</th>\n",
       "      <td>9766</td>\n",
       "      <td>I'm also going to see a therapist for the firs...</td>\n",
       "    </tr>\n",
       "    <tr>\n",
       "      <th>9767</th>\n",
       "      <td>9767</td>\n",
       "      <td>I started remembering some good tips I got fro...</td>\n",
       "    </tr>\n",
       "    <tr>\n",
       "      <th>9768</th>\n",
       "      <td>9768</td>\n",
       "      <td>\"Well you just need confidence, it's nothing a...</td>\n",
       "    </tr>\n",
       "    <tr>\n",
       "      <th>9769</th>\n",
       "      <td>9769</td>\n",
       "      <td>Does she not understand that therapy is just t...</td>\n",
       "    </tr>\n",
       "    <tr>\n",
       "      <th>9770</th>\n",
       "      <td>9770</td>\n",
       "      <td>I've seen a therapist about this, I'm on a SSR...</td>\n",
       "    </tr>\n",
       "    <tr>\n",
       "      <th>9771</th>\n",
       "      <td>9771</td>\n",
       "      <td>I saw a therapist last year for a few months b...</td>\n",
       "    </tr>\n",
       "    <tr>\n",
       "      <th>9772</th>\n",
       "      <td>9772</td>\n",
       "      <td>I do have a new GP I like, and hopefully a new...</td>\n",
       "    </tr>\n",
       "    <tr>\n",
       "      <th>9773</th>\n",
       "      <td>9773</td>\n",
       "      <td>I'm seeing a cognitive behavioral therapist.</td>\n",
       "    </tr>\n",
       "    <tr>\n",
       "      <th>9774</th>\n",
       "      <td>9774</td>\n",
       "      <td>\"*, *\"what if I've managed to convince myself ...</td>\n",
       "    </tr>\n",
       "    <tr>\n",
       "      <th>9775</th>\n",
       "      <td>9775</td>\n",
       "      <td>I mostly seek reassurance on the internet beca...</td>\n",
       "    </tr>\n",
       "    <tr>\n",
       "      <th>9776</th>\n",
       "      <td>9776</td>\n",
       "      <td>I don't want to start right with medicine, and...</td>\n",
       "    </tr>\n",
       "  </tbody>\n",
       "</table>\n",
       "<p>9777 rows × 2 columns</p>\n",
       "</div>"
      ],
      "text/plain": [
       "      Unnamed: 0                                     thrpy_sentence\n",
       "0              0  I have been recently diagnosed and have just s...\n",
       "1              1      I am having an issue concerning my therapist.\n",
       "2              2  On one hand I feel I should share this informa...\n",
       "3              3  I've tried medications but they only made me f...\n",
       "4              4  I think I might have social anxiety (but since...\n",
       "5              5  I've been through my share of doctors, therapy...\n",
       "6              6  I didn't really like going to therapy, I felt ...\n",
       "7              7  I've been going to another therapist I kind of...\n",
       "8              8  I've talked to my mom about it and she says th...\n",
       "9              9  I scheduled a GP appointment last week and he ...\n",
       "10            10  My first therapist appt will be next week and ...\n",
       "11            11   I've been to therapy, but it didn't help at all.\n",
       "12            12  I'm also trying to find work, or at least some...\n",
       "13            13  After about the fifth med he said lets just th...\n",
       "14            14  Problem being, the area I'm in is extremely un...\n",
       "15            15  My doctor refuses to prescribe TCAs or benzos,...\n",
       "16            16  This morning I had an intense therapy session,...\n",
       "17            17   I'm a high school senior and I'd like to get ...\n",
       "18            18  Another option I could take is using a therapi...\n",
       "19            19  He told me to get a doctors note but as I have...\n",
       "20            20  I don't see how therapy can really help right ...\n",
       "21            21  I go to the gym several days a week, see a the...\n",
       "22            22  I'll try not to make this a wall of text so le...\n",
       "23            23  I will also look into meditation and possibly ...\n",
       "24            24  I have to figure out what I want in life and I...\n",
       "25            25  So recently I've been thinking about seeing a ...\n",
       "26            26  For those that see/have seen a therapist:  \\nW...\n",
       "27            27  Is it normal to start therapy without having a...\n",
       "28            28  I am taking the 5-HTP and meeting with a thera...\n",
       "29            29  The body needs darkness at night just as much ...\n",
       "...          ...                                                ...\n",
       "9747        9747  I saw a therapist once last year, recommended ...\n",
       "9748        9748  I'm going to a therapist, who suggested that a...\n",
       "9749        9749  My boyfriend is from a country that views goin...\n",
       "9750        9750          I just started therapy again 2 weeks ago.\n",
       "9751        9751  I was going to the counselor in the free clini...\n",
       "9752        9752  Paying for therapy seems like it's stressing m...\n",
       "9753        9753  How do you deal with paying for therapy and th...\n",
       "9754        9754  He won't read any of the books on depression o...\n",
       "9755        9755         I have gone (and still go) to a therapist.\n",
       "9756        9756  The app is called Pacifica (thinkpacifica.com)...\n",
       "9757        9757  He also said that he had seen a therapist a wh...\n",
       "9758        9758  He said he's been continuing to have doubts an...\n",
       "9759        9759  I'm making plans to go into therapy to sort ou...\n",
       "9760        9760  I had started to see a therapist at my univers...\n",
       "9761        9761  I know only my therapist would have the best i...\n",
       "9762        9762  I am considering taking them along with my psy...\n",
       "9763        9763  I got better at dealing with it after going to...\n",
       "9764        9764  Scheduled a follow up appointment for a month ...\n",
       "9765        9765  However, my anxious thoughts turn every little...\n",
       "9766        9766  I'm also going to see a therapist for the firs...\n",
       "9767        9767  I started remembering some good tips I got fro...\n",
       "9768        9768  \"Well you just need confidence, it's nothing a...\n",
       "9769        9769  Does she not understand that therapy is just t...\n",
       "9770        9770  I've seen a therapist about this, I'm on a SSR...\n",
       "9771        9771  I saw a therapist last year for a few months b...\n",
       "9772        9772  I do have a new GP I like, and hopefully a new...\n",
       "9773        9773       I'm seeing a cognitive behavioral therapist.\n",
       "9774        9774  \"*, *\"what if I've managed to convince myself ...\n",
       "9775        9775  I mostly seek reassurance on the internet beca...\n",
       "9776        9776  I don't want to start right with medicine, and...\n",
       "\n",
       "[9777 rows x 2 columns]"
      ]
     },
     "execution_count": 19,
     "metadata": {},
     "output_type": "execute_result"
    }
   ],
   "source": [
    "df1"
   ]
  },
  {
   "cell_type": "code",
   "execution_count": 20,
   "metadata": {
    "collapsed": false
   },
   "outputs": [],
   "source": [
    "sent_a = list(df1['thrpy_sentence'].values)"
   ]
  },
  {
   "cell_type": "code",
   "execution_count": 21,
   "metadata": {
    "collapsed": false
   },
   "outputs": [
    {
     "name": "stdout",
     "output_type": "stream",
     "text": [
      "0.749152328441\n",
      "0.675\n",
      "      neg_prob  pos_prob  neg_vader  neu_vader  pos_vader  \\\n",
      "0     0.999987  0.000013      0.000      1.000      0.000   \n",
      "1     0.999968  0.000032      0.000      1.000      0.000   \n",
      "2     0.999820  0.000180      0.154      0.714      0.132   \n",
      "3     0.999837  0.000163      0.081      0.791      0.128   \n",
      "4     0.999909  0.000091      0.086      0.914      0.000   \n",
      "5     0.999791  0.000209      0.155      0.714      0.131   \n",
      "6     0.999818  0.000182      0.337      0.663      0.000   \n",
      "7     0.999853  0.000147      0.000      0.833      0.167   \n",
      "8     0.999736  0.000264      0.000      1.000      0.000   \n",
      "9     0.999171  0.000829      0.251      0.749      0.000   \n",
      "10    0.999781  0.000219      0.042      0.595      0.363   \n",
      "11    0.999786  0.000214      0.243      0.757      0.000   \n",
      "12    0.999728  0.000272      0.069      0.931      0.000   \n",
      "13    0.999978  0.000022      0.000      1.000      0.000   \n",
      "14    0.995342  0.004658      0.095      0.905      0.000   \n",
      "15    0.995626  0.004374      0.055      0.945      0.000   \n",
      "16    0.998435  0.001565      0.000      0.929      0.071   \n",
      "17    0.998743  0.001257      0.073      0.833      0.094   \n",
      "18    0.999794  0.000206      0.000      1.000      0.000   \n",
      "19    0.999820  0.000180      0.086      0.705      0.208   \n",
      "20    0.999960  0.000040      0.000      0.870      0.130   \n",
      "21    0.994512  0.005488      0.000      1.000      0.000   \n",
      "22    0.966873  0.033127      0.086      0.822      0.092   \n",
      "23    0.999931  0.000069      0.000      1.000      0.000   \n",
      "24    0.999624  0.000376      0.000      0.909      0.091   \n",
      "25    0.998353  0.001647      0.000      1.000      0.000   \n",
      "26    0.997816  0.002184      0.000      1.000      0.000   \n",
      "27    0.998429  0.001571      0.000      1.000      0.000   \n",
      "28    0.992595  0.007405      0.099      0.858      0.043   \n",
      "29    0.995551  0.004449      0.138      0.862      0.000   \n",
      "...        ...       ...        ...        ...        ...   \n",
      "4970  0.999944  0.000056      0.000      0.920      0.080   \n",
      "4971  0.999886  0.000114      0.357      0.559      0.084   \n",
      "4972  0.999977  0.000023      0.000      1.000      0.000   \n",
      "4973  0.999987  0.000013      0.000      1.000      0.000   \n",
      "4974  0.999967  0.000033      0.000      1.000      0.000   \n",
      "4975  0.999963  0.000037      0.246      0.754      0.000   \n",
      "4976  0.999927  0.000073      0.000      1.000      0.000   \n",
      "4977  0.999796  0.000204      0.000      0.426      0.574   \n",
      "4978  0.999844  0.000156      0.098      0.902      0.000   \n",
      "4979  0.999447  0.000553      0.115      0.885      0.000   \n",
      "4980  0.997954  0.002046      0.000      0.861      0.139   \n",
      "4981  0.994796  0.005204      0.055      0.945      0.000   \n",
      "4982  0.999871  0.000129      0.000      1.000      0.000   \n",
      "4983  0.999762  0.000238      0.000      1.000      0.000   \n",
      "4984  0.999815  0.000185      0.246      0.754      0.000   \n",
      "4985  0.999941  0.000059      0.062      0.767      0.171   \n",
      "4986  0.999136  0.000864      0.000      1.000      0.000   \n",
      "4987  0.999954  0.000046      0.000      1.000      0.000   \n",
      "4988  0.999407  0.000593      0.211      0.789      0.000   \n",
      "4989  0.998413  0.001587      0.000      0.665      0.335   \n",
      "4990  0.999976  0.000024      0.000      1.000      0.000   \n",
      "4991  0.999932  0.000068      0.000      1.000      0.000   \n",
      "4992  0.921780  0.078220      0.018      0.945      0.037   \n",
      "4993  0.998566  0.001434      0.087      0.913      0.000   \n",
      "4994  0.999798  0.000202      0.103      0.771      0.126   \n",
      "4995  0.999822  0.000178      0.180      0.667      0.154   \n",
      "4996  0.999959  0.000041      0.000      1.000      0.000   \n",
      "4997  0.999941  0.000059      0.150      0.752      0.098   \n",
      "4998  0.999365  0.000635      0.152      0.848      0.000   \n",
      "4999  0.999944  0.000056      0.412      0.588      0.000   \n",
      "\n",
      "                                               sentence  \n",
      "0     I have been recently diagnosed and have just s...  \n",
      "1         I am having an issue concerning my therapist.  \n",
      "2     On one hand I feel I should share this informa...  \n",
      "3     I've tried medications but they only made me f...  \n",
      "4     I think I might have social anxiety (but since...  \n",
      "5     I've been through my share of doctors, therapy...  \n",
      "6     I didn't really like going to therapy, I felt ...  \n",
      "7     I've been going to another therapist I kind of...  \n",
      "8     I've talked to my mom about it and she says th...  \n",
      "9     I scheduled a GP appointment last week and he ...  \n",
      "10    My first therapist appt will be next week and ...  \n",
      "11     I've been to therapy, but it didn't help at all.  \n",
      "12    I'm also trying to find work, or at least some...  \n",
      "13    After about the fifth med he said lets just th...  \n",
      "14    Problem being, the area I'm in is extremely un...  \n",
      "15    My doctor refuses to prescribe TCAs or benzos,...  \n",
      "16    This morning I had an intense therapy session,...  \n",
      "17     I'm a high school senior and I'd like to get ...  \n",
      "18    Another option I could take is using a therapi...  \n",
      "19    He told me to get a doctors note but as I have...  \n",
      "20    I don't see how therapy can really help right ...  \n",
      "21    I go to the gym several days a week, see a the...  \n",
      "22    I'll try not to make this a wall of text so le...  \n",
      "23    I will also look into meditation and possibly ...  \n",
      "24    I have to figure out what I want in life and I...  \n",
      "25    So recently I've been thinking about seeing a ...  \n",
      "26    For those that see/have seen a therapist:  \\nW...  \n",
      "27    Is it normal to start therapy without having a...  \n",
      "28    I am taking the 5-HTP and meeting with a thera...  \n",
      "29    The body needs darkness at night just as much ...  \n",
      "...                                                 ...  \n",
      "4970  So I made an elaborate excuse and made my mom ...  \n",
      "4971  I was very distressed since I felt my last lin...  \n",
      "4972                  And so I met my second therapist.  \n",
      "4973   Which is why my previous therapists didn't know.  \n",
      "4974                       Third and current therapist.  \n",
      "4975  But my anxiety won't let me mention it to my t...  \n",
      "4976  Do you think I should see a therapist about this?  \n",
      "4977                            Would a therapist help?  \n",
      "4978  I've been to therapy off and on for years rega...  \n",
      "4979  While there is heaps of information out there,...  \n",
      "4980  Check Angie’s List for some reviews on therapi...  \n",
      "4981  I often tell my uncle I have social anxiety an...  \n",
      "4982  I don't need months of testing and therapy tha...  \n",
      "4983  I've suggested some sliding scale therapists b...  \n",
      "4984  I am going back to the docs tommorow, I believ...  \n",
      "4985  I don't think I can properly illustrate the gr...  \n",
      "4986     Been to a couple therapists, hasn't done much.  \n",
      "4987                              I've seen therapists.  \n",
      "4988  An endless loop of medication, therapy, and an...  \n",
      "4989  I regularly meditate but I'd love to hear some...  \n",
      "4990  I will most likely be taking something while I...  \n",
      "4991  This post is not to tell you why, diagnose or ...  \n",
      "4992  As a simple way to summarize the model, ACT vi...  \n",
      "4993  [Source](http://www.goodtherapy.org/acceptance...  \n",
      "4994  I've tried going to therapists but I never rea...  \n",
      "4995  Can therapy and/or medication really help me o...  \n",
      "4996   I'm going to my first therapy session on Monday.  \n",
      "4997  I want to try just therapy alone and see where...  \n",
      "4998  I'm in therapy and on medication, but when I'm...  \n",
      "4999  I've recently been seeing a therapist for my a...  \n",
      "\n",
      "[5000 rows x 6 columns]\n"
     ]
    }
   ],
   "source": [
    "res_s_dic = []\n",
    "# res_s_dic1 = []\n",
    "\n",
    "df_res_s = pd.DataFrame([])\n",
    "\n",
    "sid = SentimentIntensityAnalyzer()\n",
    "\n",
    "for i, sentence in enumerate(sent_a[:5000]):\n",
    "    test_set = document_features(tknzr.tokenize(sentence))  #TODO: change to tokenize\n",
    "    # res_s_dic1.append(classifier.classify(test_set))\n",
    "    \n",
    "    prob_result = full_classifier.prob_classify(test_set)\n",
    "    \n",
    "    #     dic = {}\n",
    "    #     dic[\"s\"] = sentence\n",
    "    #     dic[\"neg\"] = prob_result.prob(\"neg\")\n",
    "    #     dic[\"pos\"] = prob_result.prob(\"pos\")\n",
    "    \n",
    "    # res_s_dic.append(dic)\n",
    "    df_res_s.loc[i,'neg_prob'] = prob_result.prob(\"neg\")\n",
    "    df_res_s.loc[i,'pos_prob'] = prob_result.prob(\"pos\")\n",
    "    \n",
    "    sid_s = sid.polarity_scores(sentence)\n",
    "    df_res_s.loc[i,'neg_vader'] = sid_s['neg']\n",
    "    df_res_s.loc[i,'neu_vader'] = sid_s['neu']\n",
    "    df_res_s.loc[i,'pos_vader'] = sid_s['pos']\n",
    "    \n",
    "    df_res_s.loc[i,'sentence'] = sentence\n",
    "    \n",
    "# df_res_s[df_res_s['pos_prob'] > .001]['sentence']\n",
    "print(df_res_s['pos_prob'].max())\n",
    "print(df_res_s['pos_vader'].max())\n",
    "df_res_s.to_csv('s_thrpy_with_score_first5000.csv')\n",
    "print (df_res_s)"
   ]
  },
  {
   "cell_type": "code",
   "execution_count": 22,
   "metadata": {
    "collapsed": false
   },
   "outputs": [
    {
     "name": "stdout",
     "output_type": "stream",
     "text": [
      "0.9999248550133579 7.51449866528843e-05\n"
     ]
    }
   ],
   "source": [
    "prob_result = full_classifier.prob_classify(document_features(tknzr.tokenize(str('I love it! This is great!!!'))))\n",
    "print(prob_result.prob(\"neg\"), prob_result.prob(\"pos\"))\n"
   ]
  },
  {
   "cell_type": "code",
   "execution_count": 23,
   "metadata": {
    "collapsed": false
   },
   "outputs": [],
   "source": [
    "# df_res_s = pd.DataFrame(res_s_dic)\n",
    "# print (df_res_s)\n",
    "\n",
    "# df_res_s.to_csv('s_med_with_score_first100.csv')"
   ]
  },
  {
   "cell_type": "code",
   "execution_count": 24,
   "metadata": {
    "collapsed": true
   },
   "outputs": [],
   "source": [
    "import seaborn as sns\n",
    "%matplotlib inline\n",
    "sns.set_style(\"whitegrid\")"
   ]
  },
  {
   "cell_type": "code",
   "execution_count": 25,
   "metadata": {
    "collapsed": false
   },
   "outputs": [
    {
     "data": {
      "image/png": "[encoded data removed]",
      "text/plain": [
       "<matplotlib.figure.Figure at 0x123accdd8>"
      ]
     },
     "metadata": {},
     "output_type": "display_data"
    }
   ],
   "source": [
    "ax = sns.boxplot(data = df_res_s,palette = \"PRGn\")"
   ]
  },
  {
   "cell_type": "markdown",
   "metadata": {
    "collapsed": true
   },
   "source": [
    "#### posts"
   ]
  },
  {
   "cell_type": "code",
   "execution_count": 26,
   "metadata": {
    "collapsed": true
   },
   "outputs": [],
   "source": [
    "df2 = pd.read_csv('p_thrpy.csv')"
   ]
  },
  {
   "cell_type": "code",
   "execution_count": 27,
   "metadata": {
    "collapsed": false
   },
   "outputs": [],
   "source": [
    "post_a = list(df2['selftext'].values)"
   ]
  },
  {
   "cell_type": "code",
   "execution_count": null,
   "metadata": {
    "collapsed": false
   },
   "outputs": [],
   "source": [
    "res_p_dic = []\n",
    "\n",
    "df_res_p = pd.DataFrame([])\n",
    "\n",
    "\n",
    "for i, post in enumerate(post_a[:5000]):\n",
    "    \n",
    "    test_set = document_features(tknzr.tokenize(str(post)))  #TODO: change to tokenize\n",
    "    # res_s_dic1.append(classifier.classify(test_set))\n",
    "    \n",
    "    prob_result = full_classifier.prob_classify(test_set)\n",
    "    \n",
    "    #     dic = {}\n",
    "    #     dic[\"s\"] = sentence\n",
    "    #     dic[\"neg\"] = prob_result.prob(\"neg\")\n",
    "    #     dic[\"pos\"] = prob_result.prob(\"pos\")\n",
    "    \n",
    "    # res_s_dic.append(dic)\n",
    "    df_res_p.loc[i,'neg_prob'] = prob_result.prob(\"neg\")\n",
    "    df_res_p.loc[i,'pos_prob'] = prob_result.prob(\"pos\")\n",
    "    \n",
    "    sid_p = sid.polarity_scores(str(post))\n",
    "    df_res_p.loc[i,'neg_vader'] = sid_p['neg']\n",
    "    df_res_p.loc[i,'neu_vader'] = sid_p['neu']\n",
    "    df_res_p.loc[i,'pos_vader'] = sid_p['pos']\n",
    "    \n",
    "    df_res_p.loc[i,'post'] = post\n",
    "    \n",
    "    \n",
    "# df_res_s[df_res_s['pos_prob'] > .001]['sentence']\n",
    "print(df_res_p['pos_prob'].max())\n",
    "print(df_res_p['pos_vader'].max())\n",
    "df_res_p.to_csv('p_thrpy_with_score_first5000.csv')\n",
    "print (df_res_p)\n",
    "\n"
   ]
  },
  {
   "cell_type": "code",
   "execution_count": null,
   "metadata": {
    "collapsed": false
   },
   "outputs": [],
   "source": [
    "ax_2 = sns.boxplot(data= df_res_p,palette=\"PRGn\")"
   ]
  },
  {
   "cell_type": "code",
   "execution_count": null,
   "metadata": {
    "collapsed": true
   },
   "outputs": [],
   "source": []
  },
  {
   "cell_type": "code",
   "execution_count": null,
   "metadata": {
    "collapsed": true
   },
   "outputs": [],
   "source": []
  }
 ],
 "metadata": {
  "kernelspec": {
   "display_name": "Python 3",
   "language": "python",
   "name": "python3"
  },
  "language_info": {
   "codemirror_mode": {
    "name": "ipython",
    "version": 3
   },
   "file_extension": ".py",
   "mimetype": "text/x-python",
   "name": "python",
   "nbconvert_exporter": "python",
   "pygments_lexer": "ipython3",
   "version": "3.6.0"
  }
 },
 "nbformat": 4,
 "nbformat_minor": 2
}
