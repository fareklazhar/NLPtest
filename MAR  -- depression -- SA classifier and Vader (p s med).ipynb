{
 "cells": [
  {
   "cell_type": "markdown",
   "metadata": {},
   "source": [
    "### SA on sentences w/ medication\n",
    "http://textminingonline.com/dive-into-nltk-part-ix-from-text-classification-to-sentiment-analysis"
   ]
  },
  {
   "cell_type": "code",
   "execution_count": 19,
   "metadata": {
    "collapsed": true
   },
   "outputs": [],
   "source": [
    "# Trained with nltk movie_reviews"
   ]
  },
  {
   "cell_type": "code",
   "execution_count": 18,
   "metadata": {
    "collapsed": false
   },
   "outputs": [],
   "source": [
    "import nltk\n",
    "from nltk.corpus import movie_reviews\n",
    "from random import shuffle\n",
    "from nltk import tokenize\n",
    "from nltk.tokenize import TweetTokenizer\n",
    "from stop_words import get_stop_words\n",
    "from nltk.stem.porter import PorterStemmer\n",
    "from gensim import corpora, models\n",
    "import pandas as pd\n",
    "import gensim\n",
    "import nltk\n",
    "import numbers\n",
    "from nltk.sentiment.vader import SentimentIntensityAnalyzer\n",
    "\n",
    "tknzr = TweetTokenizer()"
   ]
  },
  {
   "cell_type": "code",
   "execution_count": 2,
   "metadata": {
    "collapsed": true
   },
   "outputs": [],
   "source": [
    "def document_features(document):\n",
    "    document_words = set(document)\n",
    "    features = {}\n",
    "    for word in word_features:\n",
    "        features['contains(%s)' % word] = (word in document_words)\n",
    "    return features"
   ]
  },
  {
   "cell_type": "code",
   "execution_count": 3,
   "metadata": {
    "collapsed": false
   },
   "outputs": [],
   "source": [
    "documents = [(list(movie_reviews.words(fileid)), category) \n",
    "for category in movie_reviews.categories()\n",
    "for fileid in movie_reviews.fileids(category)]"
   ]
  },
  {
   "cell_type": "code",
   "execution_count": 4,
   "metadata": {
    "collapsed": true
   },
   "outputs": [],
   "source": [
    "shuffle(documents)"
   ]
  },
  {
   "cell_type": "code",
   "execution_count": 5,
   "metadata": {
    "collapsed": false
   },
   "outputs": [
    {
     "name": "stdout",
     "output_type": "stream",
     "text": [
      "(['go', \"'\", 's', 'is', 'a', 'gloriously', 'slick', 'hip', 'machine', '.', 'director', 'liman', '(', 'who', 'also', 'photographed', 'go', ')', 'and', 'screenwriter', 'august', 'celebrate', 'the', 'drug', '/', 'rave', 'scene', 'in', 'l', '.', 'a', '.', ',', 'preferring', 'to', 'take', '(', 'comedic', ')', 'snapshots', 'of', 'troubled', 'youth', 'rather', 'than', 'critique', 'them', '.', 'after', 'more', 'than', 'ninety', 'minutes', 'of', 'pill', '-', 'popping', ',', 'tantric', 'sex', ',', 'car', 'chases', ',', 'and', 'attempted', 'murder', ',', 'go', 'even', 'has', 'a', 'happy', 'ending', '.', 'this', 'is', 'the', 'sort', 'of', 'film', 'that', 'gives', 'members', 'of', 'the', 'dove', 'foundation', 'splitting', 'headaches', ';', 'as', 'go', 'wound', 'down', ',', 'i', 'anticipated', 'an', 'anti', '-', 'pill', '-', 'popping', '-', 'casual', '-', 'tantric', '-', 'sex', '-', 'car', '-', 'chase', '-', 'attempted', '-', 'murder', 'sermon', 'that', '(', 'blessedly', ')', 'didn', \"'\", 't', 'arrive', '.', 'a', 'la', 'tarantino', \"'\", 's', 'pulp', 'fiction', ',', 'go', 'is', 'comprised', 'of', 'three', 'separate', 'but', 'related', 'stories', '.', 'the', 'basics', 'are', 'as', 'follows', ':', 'ronna', '(', 'polley', ')', 'is', 'a', 'bitter', 'grocery', 'store', 'clerk', 'facing', 'eviction', 'who', 'turns', 'to', 'drug', 'dealing', 'for', 'extra', 'dough', '.', 'her', 'co', '-', 'worker', ',', 'simon', '(', 'the', 'improbably', 'named', 'askew', ')', ',', 'is', 'a', 'clubber', 'from', 'britain', 'ecstatic', 'about', 'his', 'first', 'trip', 'to', 'vegas', '.', 'zack', '(', 'mohr', ')', 'and', 'adam', '(', 'wolf', ')', 'are', 'soap', 'opera', 'stars', 'escaping', 'a', 'career', '-', 'threatening', 'conviction', 'by', 'assisting', 'a', 'peculiar', 'cop', '(', 'fichtner', ')', 'in', 'a', 'drug', 'bust', '.', 'perhaps', 'because', 'the', 'innovative', 'structure', 'of', 'tarantino', \"'\", 's', 'non', '-', 'linear', 'masterwork', 'is', 'by', 'now', 'old', 'hat', ',', 'the', 'id', '-', 'fueled', 'go', 'delighted', 'me', 'but', 'rarely', 'surprised', 'me', '(', 'with', 'the', 'exception', 'of', 'that', 'mind', '-', 'reading', 'cat', '!', ')', ';', 'pulp', 'fiction', 'zigzagged', 'down', 'roads', 'unforeseen', ',', 'but', 'we', 'see', 'go', \"'\", 's', 'wheels', 'turning', 'from', 'its', 'first', 'flash', 'frame', 'to', 'the', 'last', '.', 'torontonian', 'polley', '(', 'of', 'the', 'sweet', 'hereafter', ')', 'refused', 'to', 'do', 'publicity', 'for', 'this', 'picture', 'on', 'the', 'basis', 'that', 'she', 'was', '\"', 'not', 'pleased', 'with', '\"', 'her', 'turn', 'as', 'the', 'ill', '-', 'fated', 'cashier', '.', 'in', 'go', ',', 'she', 'delivers', ',', 'hands', '-', 'down', ',', 'her', 'best', 'performance', 'to', 'date', '.', 'here', \"'\", 's', 'an', '(', 'overrated', ')', 'actress', 'who', 'agreed', 'to', 'appear', 'on', 'the', 'poster', ',', 'but', 'not', 'support', 'her', 'team', 'at', 'the', 'junket', 'or', 'in', 'interviews', ';', 'this', 'sort', 'of', 'arrogance', 'is', 'commonplace', 'for', 'ms', '.', 'polley', ',', 'as', 'anyone', 'who', 'has', 'read', 'of', 'her', 'political', 'agenda', 'in', 'the', 'canadian', 'press', 'will', 'tell', 'you', '.', 'if', 'she', 'doesn', \"'\", 't', 'want', 'to', 'be', 'the', 'ingenue', 'of', 'the', 'moment', ',', 'she', 'should', 'have', 'said', '\"', 'no', ',', '\"', 'not', 'go', '.', 'but', 'i', 'digress', '.', 'go', 'is', 'a', 'fun', 'film', ',', 'so', 'chipperly', 'depraved', 'one', 'can', \"'\", 't', 'help', 'but', 'turn', 'off', 'his', 'moral', 'judgment', 'for', 'its', 'duration', 'and', 'enjoy', 'the', 'ride', '.', 'in', 'that', 'sense', ',', 'it', \"'\", 's', 'a', 'departure', 'from', 'liman', \"'\", 's', 'last', 'film', ',', 'swingers', ',', 'which', 'at', 'least', 'lectured', 'against', 'self', '-', 'absorption', 'in', 'the', 'form', 'of', 'vince', 'vaughan', \"'\", 's', 'trent', 'and', 'his', 'subtle', 'comeuppance', 'in', 'the', 'story', \"'\", 's', 'clever', 'epilogue', '(', 'which', 'has', 'been', 'aped', 'by', 'mcdonald', \"'\", 's', 'for', 'their', 'latest', 'commercial', ')', '.', 'i', 'wish', 'i', 'cared', 'more', 'about', 'go', \"'\", 's', 'characters', ':', 'like', 'the', 'techno', 'music', 'they', 'listen', 'to', ',', 'the', 'bands', 'of', 'anarchists', 'on', 'display', 'here', 'are', 'at', 'once', 'absorbing', 'and', 'vacuous', '.', 'when', 'the', 'lights', 'came', 'up', 'and', 'stung', 'my', 'eyes', ',', 'it', 'was', 'difficult', 'to', 'recall', 'what', 'about', 'it', 'entertained', 'me', '.', 'yet', 'entertain', 'me', 'it', 'did', '.', 'go', 'is', 'light', 'and', 'frothy', ',', 'featuring', 'compelling', 'if', 'not', 'endearing', 'work', 'by', 'polley', ',', 'timothy', 'olyphant', '(', 'scream', '2', ')', ',', 'and', 'especially', 'fichtner', ',', 'whose', 'homoerotic', 'behavior', 'is', 'milked', 'for', 'effective', 'laughs', '.', 'fichtner', 'is', 'a', 'character', 'actor', 'best', 'known', 'for', 'playing', 'backstabbers', '(', 'in', 'heat', ',', 'armageddon', ',', 'and', 'others', ')', ';', 'his', 'previously', 'untapped', 'comic', 'abilities', 'shine', 'in', 'go', '.', 'unlike', 'much', 'of', 'the', 'film', ',', 'fichtner', 'is', 'unpredictable', '.'], 'pos')\n"
     ]
    }
   ],
   "source": [
    "print (documents[0])"
   ]
  },
  {
   "cell_type": "code",
   "execution_count": 6,
   "metadata": {
    "collapsed": false
   },
   "outputs": [
    {
     "data": {
      "text/plain": [
       "2000"
      ]
     },
     "execution_count": 6,
     "metadata": {},
     "output_type": "execute_result"
    }
   ],
   "source": [
    "len(documents)"
   ]
  },
  {
   "cell_type": "code",
   "execution_count": 7,
   "metadata": {
    "collapsed": true
   },
   "outputs": [],
   "source": [
    "all_words = nltk.FreqDist(w.lower() for w in movie_reviews.words())"
   ]
  },
  {
   "cell_type": "code",
   "execution_count": 8,
   "metadata": {
    "collapsed": false
   },
   "outputs": [],
   "source": [
    "# word_features = all_words.keys()[:2000]\n",
    "word_features = list(all_words.keys())[:2000]"
   ]
  },
  {
   "cell_type": "code",
   "execution_count": 9,
   "metadata": {
    "collapsed": false
   },
   "outputs": [],
   "source": [
    "# len(featuresets)"
   ]
  },
  {
   "cell_type": "code",
   "execution_count": 10,
   "metadata": {
    "collapsed": false
   },
   "outputs": [],
   "source": [
    "# print (document_features(movie_reviews.words('pos/cv957_8737.txt')))"
   ]
  },
  {
   "cell_type": "code",
   "execution_count": 11,
   "metadata": {
    "collapsed": false
   },
   "outputs": [],
   "source": [
    "featuresets = [(document_features(d), c) for (d, c) in documents]"
   ]
  },
  {
   "cell_type": "code",
   "execution_count": 12,
   "metadata": {
    "collapsed": true
   },
   "outputs": [],
   "source": [
    "train_set, test_set = featuresets[100:], featuresets[:100]"
   ]
  },
  {
   "cell_type": "code",
   "execution_count": 13,
   "metadata": {
    "collapsed": true
   },
   "outputs": [],
   "source": [
    "# classifier = nltk.NaiveBayesClassifier.train(train_set)\n",
    "\n",
    "full_classifier = nltk.NaiveBayesClassifier.train(featuresets)"
   ]
  },
  {
   "cell_type": "code",
   "execution_count": 14,
   "metadata": {
    "collapsed": false
   },
   "outputs": [
    {
     "name": "stdout",
     "output_type": "stream",
     "text": [
      "0.89\n"
     ]
    }
   ],
   "source": [
    "print (nltk.classify.accuracy(full_classifier, test_set))"
   ]
  },
  {
   "cell_type": "code",
   "execution_count": 15,
   "metadata": {
    "collapsed": false,
    "scrolled": true
   },
   "outputs": [],
   "source": [
    "# classifier.show_most_informative_features(10)"
   ]
  },
  {
   "cell_type": "markdown",
   "metadata": {},
   "source": [
    "### test"
   ]
  },
  {
   "cell_type": "code",
   "execution_count": null,
   "metadata": {
    "collapsed": false
   },
   "outputs": [],
   "source": []
  },
  {
   "cell_type": "code",
   "execution_count": 31,
   "metadata": {
    "collapsed": false
   },
   "outputs": [
    {
     "ename": "CParserError",
     "evalue": "Error tokenizing data. C error: Buffer overflow caught - possible malformed input file.\n",
     "output_type": "error",
     "traceback": [
      "\u001b[0;31m---------------------------------------------------------------------------\u001b[0m",
      "\u001b[0;31mCParserError\u001b[0m                              Traceback (most recent call last)",
      "\u001b[0;32m<ipython-input-31-ea10d80301d1>\u001b[0m in \u001b[0;36m<module>\u001b[0;34m()\u001b[0m\n\u001b[0;32m----> 1\u001b[0;31m \u001b[0mdf1\u001b[0m \u001b[0;34m=\u001b[0m \u001b[0mpd\u001b[0m\u001b[0;34m.\u001b[0m\u001b[0mread_csv\u001b[0m\u001b[0;34m(\u001b[0m\u001b[0;34m'depression_s_med.csv'\u001b[0m\u001b[0;34m)\u001b[0m\u001b[0;34m\u001b[0m\u001b[0m\n\u001b[0m",
      "\u001b[0;32m/Users/elenajia/anaconda/lib/python3.6/site-packages/pandas/io/parsers.py\u001b[0m in \u001b[0;36mparser_f\u001b[0;34m(filepath_or_buffer, sep, delimiter, header, names, index_col, usecols, squeeze, prefix, mangle_dupe_cols, dtype, engine, converters, true_values, false_values, skipinitialspace, skiprows, nrows, na_values, keep_default_na, na_filter, verbose, skip_blank_lines, parse_dates, infer_datetime_format, keep_date_col, date_parser, dayfirst, iterator, chunksize, compression, thousands, decimal, lineterminator, quotechar, quoting, escapechar, comment, encoding, dialect, tupleize_cols, error_bad_lines, warn_bad_lines, skipfooter, skip_footer, doublequote, delim_whitespace, as_recarray, compact_ints, use_unsigned, low_memory, buffer_lines, memory_map, float_precision)\u001b[0m\n\u001b[1;32m    644\u001b[0m                     skip_blank_lines=skip_blank_lines)\n\u001b[1;32m    645\u001b[0m \u001b[0;34m\u001b[0m\u001b[0m\n\u001b[0;32m--> 646\u001b[0;31m         \u001b[0;32mreturn\u001b[0m \u001b[0m_read\u001b[0m\u001b[0;34m(\u001b[0m\u001b[0mfilepath_or_buffer\u001b[0m\u001b[0;34m,\u001b[0m \u001b[0mkwds\u001b[0m\u001b[0;34m)\u001b[0m\u001b[0;34m\u001b[0m\u001b[0m\n\u001b[0m\u001b[1;32m    647\u001b[0m \u001b[0;34m\u001b[0m\u001b[0m\n\u001b[1;32m    648\u001b[0m     \u001b[0mparser_f\u001b[0m\u001b[0;34m.\u001b[0m\u001b[0m__name__\u001b[0m \u001b[0;34m=\u001b[0m \u001b[0mname\u001b[0m\u001b[0;34m\u001b[0m\u001b[0m\n",
      "\u001b[0;32m/Users/elenajia/anaconda/lib/python3.6/site-packages/pandas/io/parsers.py\u001b[0m in \u001b[0;36m_read\u001b[0;34m(filepath_or_buffer, kwds)\u001b[0m\n\u001b[1;32m    399\u001b[0m         \u001b[0;32mreturn\u001b[0m \u001b[0mparser\u001b[0m\u001b[0;34m\u001b[0m\u001b[0m\n\u001b[1;32m    400\u001b[0m \u001b[0;34m\u001b[0m\u001b[0m\n\u001b[0;32m--> 401\u001b[0;31m     \u001b[0mdata\u001b[0m \u001b[0;34m=\u001b[0m \u001b[0mparser\u001b[0m\u001b[0;34m.\u001b[0m\u001b[0mread\u001b[0m\u001b[0;34m(\u001b[0m\u001b[0;34m)\u001b[0m\u001b[0;34m\u001b[0m\u001b[0m\n\u001b[0m\u001b[1;32m    402\u001b[0m     \u001b[0mparser\u001b[0m\u001b[0;34m.\u001b[0m\u001b[0mclose\u001b[0m\u001b[0;34m(\u001b[0m\u001b[0;34m)\u001b[0m\u001b[0;34m\u001b[0m\u001b[0m\n\u001b[1;32m    403\u001b[0m     \u001b[0;32mreturn\u001b[0m \u001b[0mdata\u001b[0m\u001b[0;34m\u001b[0m\u001b[0m\n",
      "\u001b[0;32m/Users/elenajia/anaconda/lib/python3.6/site-packages/pandas/io/parsers.py\u001b[0m in \u001b[0;36mread\u001b[0;34m(self, nrows)\u001b[0m\n\u001b[1;32m    937\u001b[0m                 \u001b[0;32mraise\u001b[0m \u001b[0mValueError\u001b[0m\u001b[0;34m(\u001b[0m\u001b[0;34m'skipfooter not supported for iteration'\u001b[0m\u001b[0;34m)\u001b[0m\u001b[0;34m\u001b[0m\u001b[0m\n\u001b[1;32m    938\u001b[0m \u001b[0;34m\u001b[0m\u001b[0m\n\u001b[0;32m--> 939\u001b[0;31m         \u001b[0mret\u001b[0m \u001b[0;34m=\u001b[0m \u001b[0mself\u001b[0m\u001b[0;34m.\u001b[0m\u001b[0m_engine\u001b[0m\u001b[0;34m.\u001b[0m\u001b[0mread\u001b[0m\u001b[0;34m(\u001b[0m\u001b[0mnrows\u001b[0m\u001b[0;34m)\u001b[0m\u001b[0;34m\u001b[0m\u001b[0m\n\u001b[0m\u001b[1;32m    940\u001b[0m \u001b[0;34m\u001b[0m\u001b[0m\n\u001b[1;32m    941\u001b[0m         \u001b[0;32mif\u001b[0m \u001b[0mself\u001b[0m\u001b[0;34m.\u001b[0m\u001b[0moptions\u001b[0m\u001b[0;34m.\u001b[0m\u001b[0mget\u001b[0m\u001b[0;34m(\u001b[0m\u001b[0;34m'as_recarray'\u001b[0m\u001b[0;34m)\u001b[0m\u001b[0;34m:\u001b[0m\u001b[0;34m\u001b[0m\u001b[0m\n",
      "\u001b[0;32m/Users/elenajia/anaconda/lib/python3.6/site-packages/pandas/io/parsers.py\u001b[0m in \u001b[0;36mread\u001b[0;34m(self, nrows)\u001b[0m\n\u001b[1;32m   1506\u001b[0m     \u001b[0;32mdef\u001b[0m \u001b[0mread\u001b[0m\u001b[0;34m(\u001b[0m\u001b[0mself\u001b[0m\u001b[0;34m,\u001b[0m \u001b[0mnrows\u001b[0m\u001b[0;34m=\u001b[0m\u001b[0;32mNone\u001b[0m\u001b[0;34m)\u001b[0m\u001b[0;34m:\u001b[0m\u001b[0;34m\u001b[0m\u001b[0m\n\u001b[1;32m   1507\u001b[0m         \u001b[0;32mtry\u001b[0m\u001b[0;34m:\u001b[0m\u001b[0;34m\u001b[0m\u001b[0m\n\u001b[0;32m-> 1508\u001b[0;31m             \u001b[0mdata\u001b[0m \u001b[0;34m=\u001b[0m \u001b[0mself\u001b[0m\u001b[0;34m.\u001b[0m\u001b[0m_reader\u001b[0m\u001b[0;34m.\u001b[0m\u001b[0mread\u001b[0m\u001b[0;34m(\u001b[0m\u001b[0mnrows\u001b[0m\u001b[0;34m)\u001b[0m\u001b[0;34m\u001b[0m\u001b[0m\n\u001b[0m\u001b[1;32m   1509\u001b[0m         \u001b[0;32mexcept\u001b[0m \u001b[0mStopIteration\u001b[0m\u001b[0;34m:\u001b[0m\u001b[0;34m\u001b[0m\u001b[0m\n\u001b[1;32m   1510\u001b[0m             \u001b[0;32mif\u001b[0m \u001b[0mself\u001b[0m\u001b[0;34m.\u001b[0m\u001b[0m_first_chunk\u001b[0m\u001b[0;34m:\u001b[0m\u001b[0;34m\u001b[0m\u001b[0m\n",
      "\u001b[0;32mpandas/parser.pyx\u001b[0m in \u001b[0;36mpandas.parser.TextReader.read (pandas/parser.c:10415)\u001b[0;34m()\u001b[0m\n",
      "\u001b[0;32mpandas/parser.pyx\u001b[0m in \u001b[0;36mpandas.parser.TextReader._read_low_memory (pandas/parser.c:10691)\u001b[0;34m()\u001b[0m\n",
      "\u001b[0;32mpandas/parser.pyx\u001b[0m in \u001b[0;36mpandas.parser.TextReader._read_rows (pandas/parser.c:11437)\u001b[0;34m()\u001b[0m\n",
      "\u001b[0;32mpandas/parser.pyx\u001b[0m in \u001b[0;36mpandas.parser.TextReader._tokenize_rows (pandas/parser.c:11308)\u001b[0;34m()\u001b[0m\n",
      "\u001b[0;32mpandas/parser.pyx\u001b[0m in \u001b[0;36mpandas.parser.raise_parser_error (pandas/parser.c:27037)\u001b[0;34m()\u001b[0m\n",
      "\u001b[0;31mCParserError\u001b[0m: Error tokenizing data. C error: Buffer overflow caught - possible malformed input file.\n"
     ]
    }
   ],
   "source": [
    "df1 = pd.read_csv('depression_s_med.csv')"
   ]
  },
  {
   "cell_type": "code",
   "execution_count": 19,
   "metadata": {
    "collapsed": true
   },
   "outputs": [],
   "source": [
    "sent_a = list(df1['med_sentence'].values)"
   ]
  },
  {
   "cell_type": "code",
   "execution_count": 25,
   "metadata": {
    "collapsed": true
   },
   "outputs": [],
   "source": [
    "sid = SentimentIntensityAnalyzer()"
   ]
  },
  {
   "cell_type": "code",
   "execution_count": 20,
   "metadata": {
    "collapsed": false
   },
   "outputs": [
    {
     "name": "stdout",
     "output_type": "stream",
     "text": [
      "0.472985339457\n",
      "0.717\n",
      "      neg_prob  pos_prob  neg_vader  neu_vader  pos_vader  \\\n",
      "0     0.984976  0.015024      0.000      1.000      0.000   \n",
      "1     0.999745  0.000255      0.000      1.000      0.000   \n",
      "2     0.999384  0.000616      0.000      1.000      0.000   \n",
      "3     0.999981  0.000019      0.000      1.000      0.000   \n",
      "4     0.996056  0.003944      0.000      1.000      0.000   \n",
      "5     0.999900  0.000100      0.000      0.878      0.122   \n",
      "6     0.999735  0.000265      0.000      0.874      0.126   \n",
      "7     0.999851  0.000149      0.125      0.875      0.000   \n",
      "8     0.999908  0.000092      0.000      1.000      0.000   \n",
      "9     0.998154  0.001846      0.000      1.000      0.000   \n",
      "10    0.999938  0.000062      0.073      0.809      0.118   \n",
      "11    0.998584  0.001416      0.181      0.713      0.106   \n",
      "12    0.999157  0.000843      0.000      0.923      0.077   \n",
      "13    0.999325  0.000675      0.099      0.755      0.145   \n",
      "14    0.997941  0.002059      0.047      0.866      0.087   \n",
      "15    0.999778  0.000222      0.000      0.733      0.267   \n",
      "16    0.995678  0.004322      0.079      0.921      0.000   \n",
      "17    0.999905  0.000095      0.000      0.963      0.037   \n",
      "18    0.999829  0.000171      0.000      1.000      0.000   \n",
      "19    0.999967  0.000033      0.000      1.000      0.000   \n",
      "20    0.999843  0.000157      0.292      0.708      0.000   \n",
      "21    0.999925  0.000075      0.000      0.760      0.240   \n",
      "22    0.997586  0.002414      0.000      1.000      0.000   \n",
      "23    0.999974  0.000026      0.147      0.853      0.000   \n",
      "24    0.984244  0.015756      0.000      1.000      0.000   \n",
      "25    0.998344  0.001656      0.000      0.896      0.104   \n",
      "26    0.998028  0.001972      0.000      0.924      0.076   \n",
      "27    0.999984  0.000016      0.000      0.690      0.310   \n",
      "28    0.999956  0.000044      0.000      1.000      0.000   \n",
      "29    0.999979  0.000021      0.349      0.546      0.105   \n",
      "...        ...       ...        ...        ...        ...   \n",
      "4970  0.999993  0.000007      0.164      0.836      0.000   \n",
      "4971  0.999444  0.000556      0.000      0.877      0.123   \n",
      "4972  0.998139  0.001861      0.038      0.962      0.000   \n",
      "4973  0.999666  0.000334      0.000      0.720      0.280   \n",
      "4974  0.999154  0.000846      0.000      0.686      0.314   \n",
      "4975  0.995876  0.004124      0.093      0.907      0.000   \n",
      "4976  0.999910  0.000090      0.079      0.667      0.254   \n",
      "4977  0.999988  0.000012      0.778      0.222      0.000   \n",
      "4978  0.997809  0.002191      0.000      1.000      0.000   \n",
      "4979  0.999473  0.000527      0.000      1.000      0.000   \n",
      "4980  0.998173  0.001827      0.189      0.717      0.094   \n",
      "4981  0.999653  0.000347      0.000      0.847      0.153   \n",
      "4982  0.999908  0.000092      0.104      0.485      0.411   \n",
      "4983  0.998754  0.001246      0.107      0.837      0.057   \n",
      "4984  0.999933  0.000067      0.000      0.824      0.176   \n",
      "4985  0.999967  0.000033      0.000      1.000      0.000   \n",
      "4986  0.999575  0.000425      0.046      0.865      0.089   \n",
      "4987  0.999714  0.000286      0.000      0.915      0.085   \n",
      "4988  0.999888  0.000112      0.299      0.701      0.000   \n",
      "4989  0.999976  0.000024      0.000      1.000      0.000   \n",
      "4990  0.999919  0.000081      0.000      1.000      0.000   \n",
      "4991  0.999493  0.000507      0.000      1.000      0.000   \n",
      "4992  0.999896  0.000104      0.000      1.000      0.000   \n",
      "4993  0.999670  0.000330      0.000      1.000      0.000   \n",
      "4994  0.999839  0.000161      0.154      0.704      0.142   \n",
      "4995  0.999899  0.000101      0.114      0.641      0.245   \n",
      "4996  0.999932  0.000068      0.116      0.795      0.089   \n",
      "4997  0.999865  0.000135      0.000      1.000      0.000   \n",
      "4998  0.996493  0.003507      0.000      0.938      0.062   \n",
      "4999  0.998445  0.001555      0.081      0.861      0.058   \n",
      "\n",
      "                                               sentence  \n",
      "0     I've taken Bupropion XL 250mg over a year ago ...  \n",
      "1                    He is on medication 3 times a day.  \n",
      "2     I just got a job today and I'm being readmitte...  \n",
      "3     These episodes could be very extreme so she (t...  \n",
      "4     I keep getting asked what my goal for treatmen...  \n",
      "5     Do they try different meds on you in rapid suc...  \n",
      "6     I have *not* found an acceptable medication re...  \n",
      "7     Now I'm stuck living with my parents, going to...  \n",
      "8     She's on medication, but doesn't always take i...  \n",
      "9                          So I've taken a lot of meds.  \n",
      "10    Only meds that have worked for me so far have ...  \n",
      "11    My dad eventually forced me off the drug becau...  \n",
      "12    I have a mental health nurse that visits me ev...  \n",
      "13    My medications are affordable, I can see a doc...  \n",
      "14    I think giving blood reduced my medications le...  \n",
      "15    So please, if you feel like you are doing grea...  \n",
      "16    After a year of therapy, my therapist has advi...  \n",
      "17    My therapist told me that this pdoc will want ...  \n",
      "18    She said I will only see him once, I will not ...  \n",
      "19                              My meds aren't working.  \n",
      "20    I'm depressed again and the meds aren't workin...  \n",
      "21    I'm 24 I've been on meds for nearly two months...  \n",
      "22    I know I need to talk to a psychiatrist about ...  \n",
      "23    At first we assumed it was just severe chronic...  \n",
      "24    I have seen a variety of doctors, all the medi...  \n",
      "25    I slurred my words today, I don't think that's...  \n",
      "26    He prescribed me some medication that should h...  \n",
      "27                      Does going on meds help at all?  \n",
      "28    I take 3 meds: Lamictal, Wellbutrin, and Seroq...  \n",
      "29    I do know that suddenly stopping these meds wi...  \n",
      "...                                                 ...  \n",
      "4970  NO INSTRUCTIONS on how to take this medicine w...  \n",
      "4971  I wait 2 months paying $30 a scrpt (as well as...  \n",
      "4972  This blows my mind because psychologists are P...  \n",
      "4973  I was very encouraged, he wanted to work with ...  \n",
      "4974  This is a great medicine for me but it doesn't...  \n",
      "4975  I actually had a visit with him and we discuss...  \n",
      "4976  I don't need doctors, nurse practitioners or c...  \n",
      "4977                                      Bad medicine.  \n",
      "4978                 Could it be a side effect of meds?  \n",
      "4979  I'm going back soon for a full assessment and ...  \n",
      "4980  I'm petrified of what will happen to me, what ...  \n",
      "4981  To help us remember when to take our meds, I'v...  \n",
      "4982  Share your successful/ not so successful histo...  \n",
      "4983  A doctor prescribed him Paxil once after a pre...  \n",
      "4984  After some conversation the psychiatrist liste...  \n",
      "4985                      Maybe even other medications.  \n",
      "4986  **TLDR:** Friend has impulsive tendencies, far...  \n",
      "4987  The one time I couldn't afford to pay for my m...  \n",
      "4988  My medications aren't helping me at this point...  \n",
      "4989                              I am already on meds.  \n",
      "4990  I was monitored every two weeks until I crashe...  \n",
      "4991  Then, I came here and I was running out of med...  \n",
      "4992                 Filed prescriptions, got the meds.  \n",
      "4993     I've been on reduced meds for a few weeks now.  \n",
      "4994  Since she's incompetent, but free, I was wonde...  \n",
      "4995  But I wasn't sure if that would be the best me...  \n",
      "4996  It's bad to the point where I have to have sur...  \n",
      "4997       One of those meds was prednisolone (Medrol).  \n",
      "4998  Finally, I decided to read up about the side e...  \n",
      "4999  My doctor didn't mention it to me when she pre...  \n",
      "\n",
      "[5000 rows x 6 columns]\n"
     ]
    }
   ],
   "source": [
    "res_s_dic = []\n",
    "# res_s_dic1 = []\n",
    "\n",
    "df_res_s = pd.DataFrame([])\n",
    "\n",
    "sid = SentimentIntensityAnalyzer()\n",
    "\n",
    "for i, sentence in enumerate(sent_a[:5000]):\n",
    "    test_set = document_features(tknzr.tokenize(sentence))  #TODO: change to tokenize\n",
    "    # res_s_dic1.append(classifier.classify(test_set))\n",
    "    \n",
    "    prob_result = full_classifier.prob_classify(test_set)\n",
    "    \n",
    "    #     dic = {}\n",
    "    #     dic[\"s\"] = sentence\n",
    "    #     dic[\"neg\"] = prob_result.prob(\"neg\")\n",
    "    #     dic[\"pos\"] = prob_result.prob(\"pos\")\n",
    "    \n",
    "    # res_s_dic.append(dic)\n",
    "    df_res_s.loc[i,'neg_prob'] = prob_result.prob(\"neg\")\n",
    "    df_res_s.loc[i,'pos_prob'] = prob_result.prob(\"pos\")\n",
    "    \n",
    "    sid_s = sid.polarity_scores(sentence)\n",
    "    df_res_s.loc[i,'neg_vader'] = sid_s['neg']\n",
    "    df_res_s.loc[i,'neu_vader'] = sid_s['neu']\n",
    "    df_res_s.loc[i,'pos_vader'] = sid_s['pos']\n",
    "    \n",
    "    df_res_s.loc[i,'sentence'] = sentence\n",
    "    \n",
    "# df_res_s[df_res_s['pos_prob'] > .001]['sentence']\n",
    "print(df_res_s['pos_prob'].max())\n",
    "print(df_res_s['pos_vader'].max())\n",
    "df_res_s.to_csv('depression_s_med_with_score_first5000.csv')\n",
    "print (df_res_s)"
   ]
  },
  {
   "cell_type": "code",
   "execution_count": 22,
   "metadata": {
    "collapsed": false
   },
   "outputs": [
    {
     "name": "stdout",
     "output_type": "stream",
     "text": [
      "0.9999248550133579 7.51449866528843e-05\n"
     ]
    }
   ],
   "source": [
    "prob_result = full_classifier.prob_classify(document_features(tknzr.tokenize(str('I love it! This is great!!!'))))\n",
    "print(prob_result.prob(\"neg\"), prob_result.prob(\"pos\"))"
   ]
  },
  {
   "cell_type": "code",
   "execution_count": 23,
   "metadata": {
    "collapsed": false
   },
   "outputs": [],
   "source": [
    "# df_res_s = pd.DataFrame(res_s_dic)\n",
    "# print (df_res_s)\n",
    "\n",
    "# df_res_s.to_csv('s_med_with_score_first100.csv')"
   ]
  },
  {
   "cell_type": "code",
   "execution_count": 24,
   "metadata": {
    "collapsed": true
   },
   "outputs": [],
   "source": [
    "import seaborn as sns\n",
    "%matplotlib inline\n",
    "sns.set_style(\"whitegrid\")"
   ]
  },
  {
   "cell_type": "code",
   "execution_count": 25,
   "metadata": {
    "collapsed": false
   },
   "outputs": [
    {
     "data": {
      "image/png": "[encoded data removed]",
      "text/plain": [
       "<matplotlib.figure.Figure at 0x1254849e8>"
      ]
     },
     "metadata": {},
     "output_type": "display_data"
    }
   ],
   "source": [
    "ax = sns.boxplot(data = df_res_s,palette = \"PRGn\")"
   ]
  },
  {
   "cell_type": "markdown",
   "metadata": {
    "collapsed": true
   },
   "source": [
    "#### posts"
   ]
  },
  {
   "cell_type": "code",
   "execution_count": 28,
   "metadata": {
    "collapsed": false
   },
   "outputs": [
    {
     "name": "stderr",
     "output_type": "stream",
     "text": [
      "/Users/elenajia/anaconda/lib/python3.6/site-packages/IPython/core/interactiveshell.py:2717: DtypeWarning: Columns (34) have mixed types. Specify dtype option on import or set low_memory=False.\n",
      "  interactivity=interactivity, compiler=compiler, result=result)\n"
     ]
    }
   ],
   "source": [
    "df2 = pd.read_csv('depression_p_med.csv')"
   ]
  },
  {
   "cell_type": "code",
   "execution_count": 29,
   "metadata": {
    "collapsed": false
   },
   "outputs": [],
   "source": [
    "post_a = list(df2['selftext'].values)"
   ]
  },
  {
   "cell_type": "code",
   "execution_count": 30,
   "metadata": {
    "collapsed": false
   },
   "outputs": [
    {
     "name": "stdout",
     "output_type": "stream",
     "text": [
      "0.999999994776\n",
      "0.471\n",
      "      neg_prob      pos_prob  neg_vader  neu_vader  pos_vader  \\\n",
      "0     0.871118  1.288823e-01      0.157      0.504      0.339   \n",
      "1     0.970831  2.916898e-02      0.260      0.740      0.000   \n",
      "2     0.996289  3.710863e-03      0.168      0.761      0.072   \n",
      "3     0.978885  2.111483e-02      0.215      0.651      0.134   \n",
      "4     0.998348  1.652267e-03      0.114      0.679      0.207   \n",
      "5     0.991406  8.593958e-03      0.127      0.795      0.078   \n",
      "6     0.927797  7.220297e-02      0.098      0.718      0.184   \n",
      "7     0.999762  2.384594e-04      0.177      0.691      0.131   \n",
      "8     0.999141  8.588982e-04      0.172      0.767      0.061   \n",
      "9     0.934233  6.576657e-02      0.129      0.783      0.089   \n",
      "10    0.622808  3.771916e-01      0.098      0.755      0.146   \n",
      "11    0.999997  2.838622e-06      0.156      0.721      0.123   \n",
      "12    0.985670  1.432988e-02      0.240      0.657      0.104   \n",
      "13    0.998926  1.073811e-03      0.129      0.721      0.150   \n",
      "14    1.000000  3.156986e-07      0.154      0.672      0.175   \n",
      "15    0.999955  4.525399e-05      0.213      0.684      0.103   \n",
      "16    0.998984  1.015690e-03      0.277      0.584      0.139   \n",
      "17    0.034690  9.653104e-01      0.129      0.798      0.073   \n",
      "18    0.984978  1.502172e-02      0.159      0.784      0.057   \n",
      "19    0.990240  9.759559e-03      0.077      0.842      0.081   \n",
      "20    0.989668  1.033200e-02      0.044      0.765      0.190   \n",
      "21    0.997247  2.752938e-03      0.172      0.717      0.111   \n",
      "22    0.998472  1.527636e-03      0.213      0.696      0.090   \n",
      "23    0.024551  9.754491e-01      0.194      0.669      0.137   \n",
      "24    0.998243  1.756702e-03      0.113      0.792      0.095   \n",
      "25    0.971036  2.896404e-02      0.023      0.943      0.034   \n",
      "26    0.999448  5.518548e-04      0.093      0.848      0.058   \n",
      "27    0.997526  2.473878e-03      0.121      0.749      0.131   \n",
      "28    0.999973  2.737685e-05      0.235      0.627      0.138   \n",
      "29    0.562396  4.376037e-01      0.110      0.707      0.183   \n",
      "...        ...           ...        ...        ...        ...   \n",
      "4970  0.983197  1.680335e-02      0.087      0.889      0.025   \n",
      "4971  0.999916  8.437217e-05      0.108      0.778      0.114   \n",
      "4972  0.994558  5.441858e-03      0.138      0.796      0.066   \n",
      "4973  0.959457  4.054286e-02      0.139      0.709      0.151   \n",
      "4974  0.965349  3.465069e-02      0.170      0.725      0.105   \n",
      "4975  0.994455  5.545056e-03      0.148      0.753      0.099   \n",
      "4976  0.999925  7.490710e-05      0.000      0.902      0.098   \n",
      "4977  0.794705  2.052950e-01      0.251      0.622      0.128   \n",
      "4978  0.999249  7.509033e-04      0.222      0.618      0.160   \n",
      "4979  0.945694  5.430569e-02      0.214      0.709      0.077   \n",
      "4980  0.999967  3.300358e-05      0.000      1.000      0.000   \n",
      "4981  0.999861  1.389078e-04      0.089      0.806      0.106   \n",
      "4982  0.434304  5.656961e-01      0.266      0.680      0.054   \n",
      "4983  0.993416  6.583821e-03      0.213      0.647      0.140   \n",
      "4984  0.725897  2.741034e-01      0.167      0.762      0.071   \n",
      "4985  0.990190  9.810163e-03      0.077      0.848      0.075   \n",
      "4986  0.668779  3.312210e-01      0.134      0.737      0.129   \n",
      "4987  0.992835  7.165104e-03      0.243      0.704      0.053   \n",
      "4988  0.999828  1.724065e-04      0.115      0.790      0.095   \n",
      "4989  0.999943  5.721315e-05      0.111      0.824      0.065   \n",
      "4990  0.989845  1.015508e-02      0.118      0.824      0.058   \n",
      "4991  0.991016  8.984461e-03      0.179      0.759      0.063   \n",
      "4992  0.999989  1.097464e-05      0.143      0.765      0.092   \n",
      "4993  0.462537  5.374630e-01      0.158      0.713      0.129   \n",
      "4994  0.963774  3.622581e-02      0.141      0.709      0.150   \n",
      "4995  0.929608  7.039155e-02      0.171      0.709      0.119   \n",
      "4996  0.995904  4.096211e-03      0.107      0.709      0.185   \n",
      "4997  0.999828  1.721550e-04      0.207      0.713      0.079   \n",
      "4998  0.886017  1.139828e-01      0.131      0.667      0.202   \n",
      "4999  0.231795  7.682047e-01      0.109      0.750      0.141   \n",
      "\n",
      "                                                   post  \n",
      "0     Even with all the medication and therapy, and ...  \n",
      "1     I take my meds, I try to exercise, I don't con...  \n",
      "2     Just completely forgot to take them. This is t...  \n",
      "3     My name is Axel. I’m 17 years old. In 2012 I g...  \n",
      "4     So I took a year off from school to recuperate...  \n",
      "5     Hi everyone, I'm new to this subreddit so if I...  \n",
      "6     Hi everyone,\\nI know a few people who use redd...  \n",
      "7     I am expecting to get so judged right now, but...  \n",
      "8     I know this sounds so cliche and stupid and at...  \n",
      "9     So when I was younger, I think around 4-6 year...  \n",
      "10    I have, for the most part, a good life. My onl...  \n",
      "11    *Notice: This is going to be sad reading.  I j...  \n",
      "12    I'm in a particularly low point of my life rig...  \n",
      "13    I'm female. I've been dating a lovely guy for ...  \n",
      "14    Today so far isn't a terrible day.  I'm out of...  \n",
      "15    * I feel depressed\\n* I didn’t feel depressed ...  \n",
      "16    I've been depressed on and off for the last 10...  \n",
      "17    This is going to be a long read, so I'm gonna ...  \n",
      "18    I have been on meds. for the past 10 years. I ...  \n",
      "19    I started taking Zoloft 2 months ago. I took 2...  \n",
      "20    Hey all, \\n\\nI switched off effexor onto cipra...  \n",
      "21    So I've tried literally every SSRI there is to...  \n",
      "22    might just be that my body is getting used to ...  \n",
      "23    Ok, I'll start by saying that I'm not formally...  \n",
      "24    A little about me first I'm 18 in high school ...  \n",
      "25    I have been taking an anti-depressant for a fe...  \n",
      "26    So basically I'm in a weird situation that's 1...  \n",
      "27    So, it's been about twelve days since my Zolof...  \n",
      "28    First of, sorry about the shitty title. Moving...  \n",
      "29    Hello fellow redditors! I need some advice,\\n\\...  \n",
      "...                                                 ...  \n",
      "4970  So recently my mother went to the hospital. I ...  \n",
      "4971  i just don’t know what i’m doing.\\ni have a ha...  \n",
      "4972  Here is the situation. I am a 24 year old male...  \n",
      "4973  Never before did I think I would feel what I h...  \n",
      "4974  So BVR called me yesterday as I sought out the...  \n",
      "4975  Hi there,\\n\\nI was hoping I could get advice f...  \n",
      "4976  I have talked to my doc and also tried doing s...  \n",
      "4977  Here are some thoughts from my journal that I ...  \n",
      "4978  I need to get this out, even if nobody respond...  \n",
      "4979   I have had dpression for most of my life now ...  \n",
      "4980  http://www.upworthy.com/this-actor-says-hes-ju...  \n",
      "4981  Does anyone know anything about this antidepre...  \n",
      "4982  I've been diagnosed with schizoaffective disor...  \n",
      "4983  I am now \"depressed.\" I always thought people ...  \n",
      "4984  Recently I had one of those life moments where...  \n",
      "4985  I am a diagnosed manic depressive, for the pas...  \n",
      "4986  For me, depression is that constant sense of s...  \n",
      "4987  Everything is shit. I hate myself and want to ...  \n",
      "4988  So, yea. I'm bipolar and I'm on meds to try an...  \n",
      "4989  I don't know where to go.  \\n\\nI don't know wh...  \n",
      "4990  I was diagnosed with depression slightly more ...  \n",
      "4991  28 years old and I'm still dealing with the sa...  \n",
      "4992  Last December I went to my college counselor a...  \n",
      "4993  Hey /r/depression. I'm in the midst of a reall...  \n",
      "4994  It's embarrasing to write this, because I feel...  \n",
      "4995    My condition is such that the smallest movem...  \n",
      "4996  I already told my friends about this and they ...  \n",
      "4997  I don't know really why I'm posting but I gues...  \n",
      "4998  This is a complicated issue, but I will keep i...  \n",
      "4999  A number of highly stressful situations, a com...  \n",
      "\n",
      "[5000 rows x 6 columns]\n"
     ]
    }
   ],
   "source": [
    "res_p_dic = []\n",
    "\n",
    "df_res_p = pd.DataFrame([])\n",
    "\n",
    "\n",
    "for i, post in enumerate(post_a[:5000]):\n",
    "    \n",
    "    test_set = document_features(tknzr.tokenize(str(post)))  #TODO: change to tokenize\n",
    "    # res_s_dic1.append(classifier.classify(test_set))\n",
    "    \n",
    "    prob_result = full_classifier.prob_classify(test_set)\n",
    "    \n",
    "    #     dic = {}\n",
    "    #     dic[\"s\"] = sentence\n",
    "    #     dic[\"neg\"] = prob_result.prob(\"neg\")\n",
    "    #     dic[\"pos\"] = prob_result.prob(\"pos\")\n",
    "    \n",
    "    # res_s_dic.append(dic)\n",
    "    df_res_p.loc[i,'neg_prob'] = prob_result.prob(\"neg\")\n",
    "    df_res_p.loc[i,'pos_prob'] = prob_result.prob(\"pos\")\n",
    "    \n",
    "    sid_p = sid.polarity_scores(str(post))\n",
    "    df_res_p.loc[i,'neg_vader'] = sid_p['neg']\n",
    "    df_res_p.loc[i,'neu_vader'] = sid_p['neu']\n",
    "    df_res_p.loc[i,'pos_vader'] = sid_p['pos']\n",
    "    \n",
    "    df_res_p.loc[i,'post'] = post\n",
    "    \n",
    "    \n",
    "# df_res_s[df_res_s['pos_prob'] > .001]['sentence']\n",
    "print(df_res_p['pos_prob'].max())\n",
    "print(df_res_p['pos_vader'].max())\n",
    "df_res_p.to_csv('depression_p_med_with_score_first5000.csv')\n",
    "print (df_res_p)\n",
    "\n"
   ]
  },
  {
   "cell_type": "code",
   "execution_count": 29,
   "metadata": {
    "collapsed": false
   },
   "outputs": [
    {
     "data": {
      "image/png": "[encoded data removed]",
      "text/plain": [
       "<matplotlib.figure.Figure at 0x125848710>"
      ]
     },
     "metadata": {},
     "output_type": "display_data"
    }
   ],
   "source": [
    "ax_2 = sns.boxplot(data= df_res_p,palette=\"PRGn\")"
   ]
  },
  {
   "cell_type": "code",
   "execution_count": null,
   "metadata": {
    "collapsed": true
   },
   "outputs": [],
   "source": []
  }
 ],
 "metadata": {
  "kernelspec": {
   "display_name": "Python 3",
   "language": "python",
   "name": "python3"
  },
  "language_info": {
   "codemirror_mode": {
    "name": "ipython",
    "version": 3
   },
   "file_extension": ".py",
   "mimetype": "text/x-python",
   "name": "python",
   "nbconvert_exporter": "python",
   "pygments_lexer": "ipython3",
   "version": "3.6.0"
  }
 },
 "nbformat": 4,
 "nbformat_minor": 2
}
