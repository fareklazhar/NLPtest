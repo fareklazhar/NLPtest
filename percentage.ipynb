{
 "cells": [
  {
   "cell_type": "code",
   "execution_count": 2,
   "metadata": {
    "collapsed": true
   },
   "outputs": [],
   "source": [
    "import pandas as pd\n",
    "import numpy as np"
   ]
  },
  {
   "cell_type": "code",
   "execution_count": 62,
   "metadata": {
    "collapsed": false
   },
   "outputs": [],
   "source": [
    "negativ = [31/5000, 14/5000, 23/5000, 8/1713]\n",
    "neutra = [4956/5000, 4969/5000, 4962/5000, 1705/1713]\n",
    "positiv= [13/5000, 17/5000,15/5000, 0/1713]\n",
    "\n",
    "df = pd.DataFrame({ '/r' : np.array(['anxiety_med', 'anxiety_therapy', 'bipolar','schizophrenia']),\n",
    "                    'negative': [a*100 for a in negativ],\n",
    "                    'neutral': [a*100 for a in neutra],\n",
    "                    'positive': [a*100 for a in positiv],\n",
    "                    'z_neg': [a*100 for a in [2237/5000, 1838/5000,1885/5000,663/1713]],\n",
    "                    'z_pos':[a*100 for a in [2763/5000, 3162/5000, 3115/5000, 1050/1713]]})"
   ]
  },
  {
   "cell_type": "code",
   "execution_count": 63,
   "metadata": {
    "collapsed": false
   },
   "outputs": [
    {
     "data": {
      "text/html": [
       "<div>\n",
       "<table border=\"1\" class=\"dataframe\">\n",
       "  <thead>\n",
       "    <tr style=\"text-align: right;\">\n",
       "      <th></th>\n",
       "      <th>/r</th>\n",
       "      <th>negative</th>\n",
       "      <th>neutral</th>\n",
       "      <th>positive</th>\n",
       "      <th>z_neg</th>\n",
       "      <th>z_pos</th>\n",
       "    </tr>\n",
       "  </thead>\n",
       "  <tbody>\n",
       "    <tr>\n",
       "      <th>0</th>\n",
       "      <td>anxiety_med</td>\n",
       "      <td>0.620000</td>\n",
       "      <td>99.120000</td>\n",
       "      <td>0.26</td>\n",
       "      <td>44.740000</td>\n",
       "      <td>55.260000</td>\n",
       "    </tr>\n",
       "    <tr>\n",
       "      <th>1</th>\n",
       "      <td>anxiety_therapy</td>\n",
       "      <td>0.280000</td>\n",
       "      <td>99.380000</td>\n",
       "      <td>0.34</td>\n",
       "      <td>36.760000</td>\n",
       "      <td>63.240000</td>\n",
       "    </tr>\n",
       "    <tr>\n",
       "      <th>2</th>\n",
       "      <td>bipolar</td>\n",
       "      <td>0.460000</td>\n",
       "      <td>99.240000</td>\n",
       "      <td>0.30</td>\n",
       "      <td>37.700000</td>\n",
       "      <td>62.300000</td>\n",
       "    </tr>\n",
       "    <tr>\n",
       "      <th>3</th>\n",
       "      <td>schizophrenia</td>\n",
       "      <td>0.467017</td>\n",
       "      <td>99.532983</td>\n",
       "      <td>0.00</td>\n",
       "      <td>38.704028</td>\n",
       "      <td>61.295972</td>\n",
       "    </tr>\n",
       "  </tbody>\n",
       "</table>\n",
       "</div>"
      ],
      "text/plain": [
       "                /r  negative    neutral  positive      z_neg      z_pos\n",
       "0      anxiety_med  0.620000  99.120000      0.26  44.740000  55.260000\n",
       "1  anxiety_therapy  0.280000  99.380000      0.34  36.760000  63.240000\n",
       "2          bipolar  0.460000  99.240000      0.30  37.700000  62.300000\n",
       "3    schizophrenia  0.467017  99.532983      0.00  38.704028  61.295972"
      ]
     },
     "execution_count": 63,
     "metadata": {},
     "output_type": "execute_result"
    }
   ],
   "source": [
    "df"
   ]
  },
  {
   "cell_type": "code",
   "execution_count": 64,
   "metadata": {
    "collapsed": false
   },
   "outputs": [
    {
     "data": {
      "text/plain": [
       "0.5526"
      ]
     },
     "execution_count": 64,
     "metadata": {},
     "output_type": "execute_result"
    }
   ],
   "source": [
    "2763/5000"
   ]
  },
  {
   "cell_type": "code",
   "execution_count": null,
   "metadata": {
    "collapsed": true
   },
   "outputs": [],
   "source": []
  }
 ],
 "metadata": {
  "kernelspec": {
   "display_name": "Python 3",
   "language": "python",
   "name": "python3"
  },
  "language_info": {
   "codemirror_mode": {
    "name": "ipython",
    "version": 3
   },
   "file_extension": ".py",
   "mimetype": "text/x-python",
   "name": "python",
   "nbconvert_exporter": "python",
   "pygments_lexer": "ipython3",
   "version": "3.6.0"
  }
 },
 "nbformat": 4,
 "nbformat_minor": 2
}
